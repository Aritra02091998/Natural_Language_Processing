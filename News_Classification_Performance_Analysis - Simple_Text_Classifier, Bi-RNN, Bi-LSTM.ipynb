{
 "cells": [
  {
   "cell_type": "markdown",
   "id": "1a78b0ad",
   "metadata": {},
   "source": [
    "### News Classification Analysis: Simple Neural Network vs. Bi-directional RNN, Bi_Directional LSTM\n",
    "\n",
    "Here we use Simple Neural Network, Bi-directional RNN and Bi_Directional LSTM to classify given news dataset into 4 classes:\n",
    "\n",
    "○ World (0)\n",
    "○ Sports (1)\n",
    "○ Business (2)\n",
    "○ Sci/Tech (3)\n",
    "\n",
    "We cleaned the dataset first:\n",
    "\n",
    "-> Converted the whole dataset to lower case.\n",
    "\n",
    "-> Removed stop words.\n",
    "\n",
    "-> Removed punctuation marks.\n",
    "\n",
    "-> Replaced numbers and words containing numbers as a sunstring with \"NUM\" tokens.\n",
    "\n",
    "We have used here word2vec model to convert our news sentences to embeddings instead of the nn.Embedding Layer to learn the same.\n",
    "\n",
    "In Simple Neural Network, we have used word2vec word embeddings of the words to feed into the network. Using this network we could achieve 82.34 % accuracy on the test set. We trained the model for 25 epochs to learn the pattern to the best using AdamW optimizer using a LR of 0.003\n",
    "\n",
    "In Bi-RNN we have used nn.Embedding layer but initialized it with the word2vec embeddings and freezed the embedding layer so that it dont receives the gradient updates and learn new embeddings. Here we could achieve an accuracy of 83.25 % on the test set. We trained the model for 20 epochs to learn the pattern to the best using AdamW optimizer using a LR of 0.0001 \n",
    "\n",
    "In Bi-LSTM we have used nn.Embedding layer but initialized it with the word2vec embeddings and freezed the embedding layer so that it dont receives the gradient updates and learn new embeddings. Here we could achieve an accuracy of 82.23 % on the test set. We trained the model for 20 epochs to learn the pattern to the best using AdamW optimizer using a LR of 0.00005 \n"
   ]
  },
  {
   "cell_type": "code",
   "execution_count": 1,
   "id": "7b4c92ef",
   "metadata": {},
   "outputs": [],
   "source": [
    "import nltk\n",
    "import re\n",
    "import torch\n",
    "import pandas as pd\n",
    "import numpy as np\n",
    "import torch.nn as nn\n",
    "import torch.optim as optim\n",
    "from nltk.corpus import stopwords\n",
    "from nltk.tokenize import word_tokenize\n",
    "from tqdm.auto import tqdm\n",
    "from sklearn.model_selection import train_test_split\n",
    "from sklearn.metrics import f1_score\n",
    "from torch.utils.data import Dataset, DataLoader, TensorDataset\n",
    "from sklearn.metrics import confusion_matrix\n",
    "from sklearn.metrics import classification_report\n",
    "import matplotlib.pyplot as plt\n",
    "import seaborn as sns"
   ]
  },
  {
   "cell_type": "markdown",
   "id": "fdbd8a12",
   "metadata": {},
   "source": [
    "##### Load the train data"
   ]
  },
  {
   "cell_type": "code",
   "execution_count": 2,
   "id": "a3d58142",
   "metadata": {},
   "outputs": [],
   "source": [
    "train_set = pd.read_csv('./NLP3/train.csv')"
   ]
  },
  {
   "cell_type": "code",
   "execution_count": 3,
   "id": "64156dda",
   "metadata": {},
   "outputs": [
    {
     "data": {
      "text/html": [
       "<div>\n",
       "<style scoped>\n",
       "    .dataframe tbody tr th:only-of-type {\n",
       "        vertical-align: middle;\n",
       "    }\n",
       "\n",
       "    .dataframe tbody tr th {\n",
       "        vertical-align: top;\n",
       "    }\n",
       "\n",
       "    .dataframe thead th {\n",
       "        text-align: right;\n",
       "    }\n",
       "</style>\n",
       "<table border=\"1\" class=\"dataframe\">\n",
       "  <thead>\n",
       "    <tr style=\"text-align: right;\">\n",
       "      <th></th>\n",
       "      <th>index</th>\n",
       "      <th>text</th>\n",
       "      <th>label</th>\n",
       "    </tr>\n",
       "  </thead>\n",
       "  <tbody>\n",
       "    <tr>\n",
       "      <th>0</th>\n",
       "      <td>0</td>\n",
       "      <td>Zimbabwe annual inflation drops to 209 percent...</td>\n",
       "      <td>0</td>\n",
       "    </tr>\n",
       "    <tr>\n",
       "      <th>1</th>\n",
       "      <td>1</td>\n",
       "      <td>More than 1,000 dead in Haiti (09/23/04)-- A m...</td>\n",
       "      <td>0</td>\n",
       "    </tr>\n",
       "    <tr>\n",
       "      <th>2</th>\n",
       "      <td>2</td>\n",
       "      <td>Seven die in Japan  #39;suicide pact #39; Japa...</td>\n",
       "      <td>0</td>\n",
       "    </tr>\n",
       "    <tr>\n",
       "      <th>3</th>\n",
       "      <td>3</td>\n",
       "      <td>Security No. 1 for Afghan head President Hamid...</td>\n",
       "      <td>0</td>\n",
       "    </tr>\n",
       "    <tr>\n",
       "      <th>4</th>\n",
       "      <td>4</td>\n",
       "      <td>Palestinians say they hope Bush accepts dealin...</td>\n",
       "      <td>0</td>\n",
       "    </tr>\n",
       "  </tbody>\n",
       "</table>\n",
       "</div>"
      ],
      "text/plain": [
       "   index                                               text  label\n",
       "0      0  Zimbabwe annual inflation drops to 209 percent...      0\n",
       "1      1  More than 1,000 dead in Haiti (09/23/04)-- A m...      0\n",
       "2      2  Seven die in Japan  #39;suicide pact #39; Japa...      0\n",
       "3      3  Security No. 1 for Afghan head President Hamid...      0\n",
       "4      4  Palestinians say they hope Bush accepts dealin...      0"
      ]
     },
     "execution_count": 3,
     "metadata": {},
     "output_type": "execute_result"
    }
   ],
   "source": [
    "train_set.head()"
   ]
  },
  {
   "cell_type": "code",
   "execution_count": 4,
   "id": "b69c5f10",
   "metadata": {},
   "outputs": [
    {
     "name": "stdout",
     "output_type": "stream",
     "text": [
      "Train set contains total 2000 rows with [0 1 2 3] unique classes(labels)\n"
     ]
    }
   ],
   "source": [
    "print(f'Train set contains total {len(train_set)} rows with {train_set.label.unique()} unique classes(labels)')"
   ]
  },
  {
   "cell_type": "code",
   "execution_count": 5,
   "id": "ff3afc98",
   "metadata": {},
   "outputs": [],
   "source": [
    "y_train_raw = train_set['label']"
   ]
  },
  {
   "cell_type": "code",
   "execution_count": 6,
   "id": "b95cef1b",
   "metadata": {},
   "outputs": [],
   "source": [
    "# y_train_raw"
   ]
  },
  {
   "cell_type": "markdown",
   "id": "a603ae06",
   "metadata": {},
   "source": [
    "### Pre-Processing Datasets"
   ]
  },
  {
   "cell_type": "code",
   "execution_count": 7,
   "id": "98f67971",
   "metadata": {},
   "outputs": [],
   "source": [
    "def remove_symbols(text):\n",
    "    pattern = r'[^\\w\\s]'  \n",
    "    cleaned_text = re.sub(pattern, '', text)\n",
    "    return cleaned_text"
   ]
  },
  {
   "cell_type": "code",
   "execution_count": 8,
   "id": "fda6a3d6",
   "metadata": {},
   "outputs": [],
   "source": [
    "def remove_stopwords(text):\n",
    "    \n",
    "    stopwords_set = set(stopwords.words('english'))\n",
    "    text = text.split()\n",
    "    stopwords_removed_text = [word for word in text if word.lower() not in stopwords_set]\n",
    "    \n",
    "    return ' '.join(stopwords_removed_text)"
   ]
  },
  {
   "cell_type": "code",
   "execution_count": 9,
   "id": "ddabb169",
   "metadata": {},
   "outputs": [],
   "source": [
    "train_set['text'] = train_set['text'].apply(lambda x: x.lower()) \n",
    "train_set['text'] = train_set['text'].apply(remove_symbols) \n",
    "train_set['text'] = train_set['text'].apply(remove_stopwords) \n",
    "train_set['text'] = train_set['text'].apply(lambda x: x.replace('\\\\', ' ')) \n",
    "train_set['text'] = train_set['text'].replace(r'\\b[a-zA-Z]*\\d+[a-zA-Z]*\\b', 'NUM', regex=True)"
   ]
  },
  {
   "cell_type": "code",
   "execution_count": 10,
   "id": "69364352",
   "metadata": {},
   "outputs": [
    {
     "data": {
      "text/html": [
       "<div>\n",
       "<style scoped>\n",
       "    .dataframe tbody tr th:only-of-type {\n",
       "        vertical-align: middle;\n",
       "    }\n",
       "\n",
       "    .dataframe tbody tr th {\n",
       "        vertical-align: top;\n",
       "    }\n",
       "\n",
       "    .dataframe thead th {\n",
       "        text-align: right;\n",
       "    }\n",
       "</style>\n",
       "<table border=\"1\" class=\"dataframe\">\n",
       "  <thead>\n",
       "    <tr style=\"text-align: right;\">\n",
       "      <th></th>\n",
       "      <th>index</th>\n",
       "      <th>text</th>\n",
       "      <th>label</th>\n",
       "    </tr>\n",
       "  </thead>\n",
       "  <tbody>\n",
       "    <tr>\n",
       "      <th>0</th>\n",
       "      <td>0</td>\n",
       "      <td>zimbabwe annual inflation drops NUM percent re...</td>\n",
       "      <td>0</td>\n",
       "    </tr>\n",
       "    <tr>\n",
       "      <th>1</th>\n",
       "      <td>1</td>\n",
       "      <td>NUM dead haiti NUM mass grave haiti holds NUM ...</td>\n",
       "      <td>0</td>\n",
       "    </tr>\n",
       "    <tr>\n",
       "      <th>2</th>\n",
       "      <td>2</td>\n",
       "      <td>seven die japan NUM pact NUM japanese police f...</td>\n",
       "      <td>0</td>\n",
       "    </tr>\n",
       "    <tr>\n",
       "      <th>3</th>\n",
       "      <td>3</td>\n",
       "      <td>security NUM afghan head president hamid karza...</td>\n",
       "      <td>0</td>\n",
       "    </tr>\n",
       "    <tr>\n",
       "      <th>4</th>\n",
       "      <td>4</td>\n",
       "      <td>palestinians say hope bush accepts dealing ara...</td>\n",
       "      <td>0</td>\n",
       "    </tr>\n",
       "  </tbody>\n",
       "</table>\n",
       "</div>"
      ],
      "text/plain": [
       "   index                                               text  label\n",
       "0      0  zimbabwe annual inflation drops NUM percent re...      0\n",
       "1      1  NUM dead haiti NUM mass grave haiti holds NUM ...      0\n",
       "2      2  seven die japan NUM pact NUM japanese police f...      0\n",
       "3      3  security NUM afghan head president hamid karza...      0\n",
       "4      4  palestinians say hope bush accepts dealing ara...      0"
      ]
     },
     "execution_count": 10,
     "metadata": {},
     "output_type": "execute_result"
    }
   ],
   "source": [
    "train_set.head(5)"
   ]
  },
  {
   "cell_type": "markdown",
   "id": "2ce4d25b",
   "metadata": {},
   "source": [
    "##### Load the Test Data"
   ]
  },
  {
   "cell_type": "code",
   "execution_count": 11,
   "id": "8bbddf03",
   "metadata": {},
   "outputs": [],
   "source": [
    "test_set = pd.read_csv('./NLP3/test.csv')"
   ]
  },
  {
   "cell_type": "code",
   "execution_count": 12,
   "id": "38f0c74b",
   "metadata": {},
   "outputs": [
    {
     "name": "stdout",
     "output_type": "stream",
     "text": [
      "Test set contains total 500 rows with [0 1 2 3] unique classes(labels)\n"
     ]
    }
   ],
   "source": [
    "print(f'Test set contains total {len(test_set)} rows with {test_set.label.unique()} unique classes(labels)')"
   ]
  },
  {
   "cell_type": "code",
   "execution_count": 13,
   "id": "c2442314",
   "metadata": {},
   "outputs": [],
   "source": [
    "y_test_raw = test_set['label']"
   ]
  },
  {
   "cell_type": "code",
   "execution_count": 14,
   "id": "3f80ca42",
   "metadata": {},
   "outputs": [],
   "source": [
    "# y_test_raw"
   ]
  },
  {
   "cell_type": "code",
   "execution_count": 15,
   "id": "40980d0d",
   "metadata": {},
   "outputs": [],
   "source": [
    "test_set['text'] = test_set['text'].apply(lambda x: x.lower()) \n",
    "test_set['text'] = test_set['text'].apply(remove_symbols) \n",
    "test_set['text'] = test_set['text'].apply(remove_stopwords) \n",
    "test_set['text'] = test_set['text'].apply(lambda x: x.replace('\\\\', ' ')) \n",
    "test_set['text'] = test_set['text'].replace(r'\\b[a-zA-Z]*\\d+[a-zA-Z]*\\b', 'NUM', regex=True)"
   ]
  },
  {
   "cell_type": "code",
   "execution_count": 16,
   "id": "3618fcb3",
   "metadata": {},
   "outputs": [
    {
     "data": {
      "text/html": [
       "<div>\n",
       "<style scoped>\n",
       "    .dataframe tbody tr th:only-of-type {\n",
       "        vertical-align: middle;\n",
       "    }\n",
       "\n",
       "    .dataframe tbody tr th {\n",
       "        vertical-align: top;\n",
       "    }\n",
       "\n",
       "    .dataframe thead th {\n",
       "        text-align: right;\n",
       "    }\n",
       "</style>\n",
       "<table border=\"1\" class=\"dataframe\">\n",
       "  <thead>\n",
       "    <tr style=\"text-align: right;\">\n",
       "      <th></th>\n",
       "      <th>index</th>\n",
       "      <th>text</th>\n",
       "      <th>label</th>\n",
       "    </tr>\n",
       "  </thead>\n",
       "  <tbody>\n",
       "    <tr>\n",
       "      <th>0</th>\n",
       "      <td>0</td>\n",
       "      <td>detainees seen minimal threat washington alleg...</td>\n",
       "      <td>0</td>\n",
       "    </tr>\n",
       "    <tr>\n",
       "      <th>1</th>\n",
       "      <td>1</td>\n",
       "      <td>japans army works plan cope north korean terro...</td>\n",
       "      <td>0</td>\n",
       "    </tr>\n",
       "    <tr>\n",
       "      <th>2</th>\n",
       "      <td>2</td>\n",
       "      <td>un council arrives nairobi un security council...</td>\n",
       "      <td>0</td>\n",
       "    </tr>\n",
       "    <tr>\n",
       "      <th>3</th>\n",
       "      <td>3</td>\n",
       "      <td>apec ministers urge new effort trade talks pac...</td>\n",
       "      <td>0</td>\n",
       "    </tr>\n",
       "    <tr>\n",
       "      <th>4</th>\n",
       "      <td>4</td>\n",
       "      <td>least five dead russia mine blast reuters reut...</td>\n",
       "      <td>0</td>\n",
       "    </tr>\n",
       "  </tbody>\n",
       "</table>\n",
       "</div>"
      ],
      "text/plain": [
       "   index                                               text  label\n",
       "0      0  detainees seen minimal threat washington alleg...      0\n",
       "1      1  japans army works plan cope north korean terro...      0\n",
       "2      2  un council arrives nairobi un security council...      0\n",
       "3      3  apec ministers urge new effort trade talks pac...      0\n",
       "4      4  least five dead russia mine blast reuters reut...      0"
      ]
     },
     "execution_count": 16,
     "metadata": {},
     "output_type": "execute_result"
    }
   ],
   "source": [
    "test_set.head()"
   ]
  },
  {
   "cell_type": "code",
   "execution_count": null,
   "id": "82edc8bc",
   "metadata": {},
   "outputs": [],
   "source": []
  },
  {
   "cell_type": "markdown",
   "id": "a965e09a",
   "metadata": {},
   "source": [
    "### Vocabulary Creation"
   ]
  },
  {
   "cell_type": "code",
   "execution_count": 17,
   "id": "e12d37f7",
   "metadata": {},
   "outputs": [],
   "source": [
    "def tokenize_sentence(sentence):\n",
    "    return word_tokenize(sentence)"
   ]
  },
  {
   "cell_type": "code",
   "execution_count": 18,
   "id": "e78fac35",
   "metadata": {},
   "outputs": [],
   "source": [
    "sentences = train_set['text'].tolist() + test_set['text'].tolist()\n",
    "tokenized_sentences = [tokenize_sentence(sentence) for sentence in sentences]"
   ]
  },
  {
   "cell_type": "code",
   "execution_count": 19,
   "id": "0740baf8",
   "metadata": {},
   "outputs": [
    {
     "data": {
      "text/plain": [
       "(2500, 2500)"
      ]
     },
     "execution_count": 19,
     "metadata": {},
     "output_type": "execute_result"
    }
   ],
   "source": [
    "len(sentences), len(tokenized_sentences)"
   ]
  },
  {
   "cell_type": "code",
   "execution_count": 20,
   "id": "e8e7d1cd",
   "metadata": {},
   "outputs": [],
   "source": [
    "# Build vocabulary\n",
    "\n",
    "vocabulary = set()\n",
    "for tokens in tokenized_sentences:\n",
    "    vocabulary.update(tokens)"
   ]
  },
  {
   "cell_type": "markdown",
   "id": "281095d8",
   "metadata": {},
   "source": [
    "##### Word2Vec Initialization and Training"
   ]
  },
  {
   "cell_type": "code",
   "execution_count": 21,
   "id": "23dbd995",
   "metadata": {},
   "outputs": [],
   "source": [
    "import gensim\n",
    "from gensim.models import Word2Vec"
   ]
  },
  {
   "cell_type": "code",
   "execution_count": 22,
   "id": "01165e9f",
   "metadata": {},
   "outputs": [],
   "source": [
    "word2vec_model = Word2Vec(tokenized_sentences, vector_size = 100, window = 5, min_count = 1, workers = 4)"
   ]
  },
  {
   "cell_type": "code",
   "execution_count": 23,
   "id": "a9ae3631",
   "metadata": {},
   "outputs": [
    {
     "data": {
      "text/plain": [
       "(3076388, 3252800)"
      ]
     },
     "execution_count": 23,
     "metadata": {},
     "output_type": "execute_result"
    }
   ],
   "source": [
    "word2vec_model.train(tokenized_sentences, total_examples = len(tokenized_sentences), epochs = 50)"
   ]
  },
  {
   "cell_type": "code",
   "execution_count": 24,
   "id": "6a320b3b",
   "metadata": {},
   "outputs": [
    {
     "data": {
      "text/plain": [
       "97"
      ]
     },
     "execution_count": 24,
     "metadata": {},
     "output_type": "execute_result"
    }
   ],
   "source": [
    "# find the max length of the sentences for padding\n",
    "\n",
    "max_length = max(len(seq) for seq in tokenized_sentences)\n",
    "max_length"
   ]
  },
  {
   "cell_type": "code",
   "execution_count": 25,
   "id": "d19cfadd",
   "metadata": {},
   "outputs": [],
   "source": [
    "padded_sequences = np.array([seq + ['<PAD>'] * (max_length - len(seq)) for seq in tokenized_sentences])"
   ]
  },
  {
   "cell_type": "code",
   "execution_count": 26,
   "id": "6a8ca1ce",
   "metadata": {},
   "outputs": [
    {
     "data": {
      "text/plain": [
       "array([['zimbabwe', 'annual', 'inflation', ..., '<PAD>', '<PAD>',\n",
       "        '<PAD>'],\n",
       "       ['NUM', 'dead', 'haiti', ..., '<PAD>', '<PAD>', '<PAD>'],\n",
       "       ['seven', 'die', 'japan', ..., '<PAD>', '<PAD>', '<PAD>'],\n",
       "       ...,\n",
       "       ['cheese', 'sandwich', 'back', ..., '<PAD>', '<PAD>', '<PAD>'],\n",
       "       ['make', 'hotels', 'like', ..., '<PAD>', '<PAD>', '<PAD>'],\n",
       "       ['cisco', 'fujitsu', 'team', ..., '<PAD>', '<PAD>', '<PAD>']],\n",
       "      dtype='<U111')"
      ]
     },
     "execution_count": 26,
     "metadata": {},
     "output_type": "execute_result"
    }
   ],
   "source": [
    "# padded_sequence is collection of all the sentences padded with <PAD> token to make length equal to the max_length(97) \n",
    "# of all the sentences.\n",
    "\n",
    "padded_sequences"
   ]
  },
  {
   "cell_type": "code",
   "execution_count": 27,
   "id": "16ae5327",
   "metadata": {},
   "outputs": [],
   "source": [
    "# Convert words to numeric embeddings\n",
    "\n",
    "numeric_embeddings = []\n",
    "for seq in padded_sequences:\n",
    "    seq_embeddings = [word2vec_model.wv[word] if word in word2vec_model.wv else np.zeros(word2vec_model.vector_size) for word in seq]\n",
    "    numeric_embeddings.append(seq_embeddings)"
   ]
  },
  {
   "cell_type": "code",
   "execution_count": 28,
   "id": "e269e4e4",
   "metadata": {},
   "outputs": [
    {
     "name": "stdout",
     "output_type": "stream",
     "text": [
      "2500\n",
      "97\n"
     ]
    }
   ],
   "source": [
    "# each element in the numeric embedding is the 97 number of 100 dimension vector for each of the 97 words.\n",
    "\n",
    "print(len(numeric_embeddings))\n",
    "print(len(numeric_embeddings[0]))"
   ]
  },
  {
   "cell_type": "code",
   "execution_count": 29,
   "id": "e4426772",
   "metadata": {},
   "outputs": [],
   "source": [
    "avg_embeddings = np.mean(numeric_embeddings, axis=1)"
   ]
  },
  {
   "cell_type": "code",
   "execution_count": 30,
   "id": "db3cabe3",
   "metadata": {},
   "outputs": [
    {
     "name": "stdout",
     "output_type": "stream",
     "text": [
      "2500\n",
      "100\n"
     ]
    }
   ],
   "source": [
    "print(len(avg_embeddings))\n",
    "print(len(avg_embeddings[0]))"
   ]
  },
  {
   "cell_type": "markdown",
   "id": "179e2820",
   "metadata": {},
   "source": [
    "#### Separating Into Train and Test Set"
   ]
  },
  {
   "cell_type": "code",
   "execution_count": 31,
   "id": "5b429912",
   "metadata": {},
   "outputs": [
    {
     "data": {
      "text/plain": [
       "2000"
      ]
     },
     "execution_count": 31,
     "metadata": {},
     "output_type": "execute_result"
    }
   ],
   "source": [
    "X_train = avg_embeddings[:2000]\n",
    "len(X_train)"
   ]
  },
  {
   "cell_type": "code",
   "execution_count": 32,
   "id": "24ffa462",
   "metadata": {},
   "outputs": [
    {
     "data": {
      "text/plain": [
       "500"
      ]
     },
     "execution_count": 32,
     "metadata": {},
     "output_type": "execute_result"
    }
   ],
   "source": [
    "X_test = avg_embeddings[2000:]\n",
    "len(X_test)"
   ]
  },
  {
   "cell_type": "code",
   "execution_count": 33,
   "id": "c9b9bf2c",
   "metadata": {},
   "outputs": [],
   "source": [
    "# Convert to Train set to PyTorch tensors\n",
    "\n",
    "X_train_tensor = torch.tensor(X_train, dtype = torch.float32)\n",
    "y_train_tensor = torch.tensor(y_train_raw, dtype = torch.long)"
   ]
  },
  {
   "cell_type": "code",
   "execution_count": 34,
   "id": "bab0f7b0",
   "metadata": {},
   "outputs": [
    {
     "data": {
      "text/plain": [
       "torch.Size([2000, 100])"
      ]
     },
     "execution_count": 34,
     "metadata": {},
     "output_type": "execute_result"
    }
   ],
   "source": [
    "# Each sentence is represented by a 97*100 tensor, \n",
    "# In each sentence we have 97 words, each word represeneted by 100 numbers.\n",
    "# And total we have 2000 sentences.\n",
    "\n",
    "# When we have calculated avg embeddings all the 97 vectors of length 100 for a sentence have been compressed into a \n",
    "# single vector of len 100.\n",
    "\n",
    "X_train_tensor.shape"
   ]
  },
  {
   "cell_type": "markdown",
   "id": "81dc9385",
   "metadata": {},
   "source": [
    "Now we have x_train, y_train and x_val, y_val"
   ]
  },
  {
   "cell_type": "code",
   "execution_count": 35,
   "id": "9afd1389",
   "metadata": {},
   "outputs": [],
   "source": [
    "X_train, X_val, y_train, y_val = train_test_split(X_train_tensor, y_train_tensor, test_size=0.15, random_state=42)"
   ]
  },
  {
   "cell_type": "code",
   "execution_count": 36,
   "id": "5fadd46d",
   "metadata": {},
   "outputs": [
    {
     "name": "stdout",
     "output_type": "stream",
     "text": [
      "torch.Size([1700, 100])\n",
      "torch.Size([1700])\n",
      "torch.Size([300, 100])\n",
      "torch.Size([300])\n"
     ]
    }
   ],
   "source": [
    "print(X_train.shape)\n",
    "print(y_train.shape)\n",
    "print(X_val.shape)\n",
    "print(y_val.shape)"
   ]
  },
  {
   "cell_type": "code",
   "execution_count": 37,
   "id": "1f9c40ef",
   "metadata": {},
   "outputs": [],
   "source": [
    "X_test_tensor = torch.tensor(X_test, dtype = torch.float32)\n",
    "y_test_tensor = torch.tensor(y_test_raw, dtype = torch.long)"
   ]
  },
  {
   "cell_type": "code",
   "execution_count": 38,
   "id": "a860a026",
   "metadata": {},
   "outputs": [
    {
     "name": "stdout",
     "output_type": "stream",
     "text": [
      "torch.Size([500, 100])\n",
      "torch.Size([500])\n"
     ]
    }
   ],
   "source": [
    "print(X_test_tensor.shape)\n",
    "print(y_test_tensor.shape)"
   ]
  },
  {
   "cell_type": "code",
   "execution_count": 39,
   "id": "2585b2fb",
   "metadata": {},
   "outputs": [],
   "source": [
    "# Dataset and Dataloader Creation\n",
    "\n",
    "train_dataset = TensorDataset(X_train, y_train)\n",
    "train_loader = DataLoader(train_dataset, batch_size=32, shuffle=True)"
   ]
  },
  {
   "cell_type": "code",
   "execution_count": 40,
   "id": "df34cb5c",
   "metadata": {},
   "outputs": [],
   "source": [
    "val_dataset = TensorDataset(X_val, y_val)\n",
    "val_loader = DataLoader(val_dataset, batch_size=32, shuffle=True)"
   ]
  },
  {
   "cell_type": "code",
   "execution_count": 41,
   "id": "523bf29b",
   "metadata": {},
   "outputs": [],
   "source": [
    "test_dataset = TensorDataset(X_test_tensor, y_test_tensor)\n",
    "test_loader = DataLoader(test_dataset, batch_size=32, shuffle = False)"
   ]
  },
  {
   "cell_type": "markdown",
   "id": "1711a8ca",
   "metadata": {},
   "source": [
    "#### Define the Architecture"
   ]
  },
  {
   "cell_type": "code",
   "execution_count": 42,
   "id": "0897ed11",
   "metadata": {},
   "outputs": [],
   "source": [
    "class TextClassifier(nn.Module):\n",
    "    \n",
    "    def __init__(self, input_dim, hidden_dim, output_dim):\n",
    "        super(TextClassifier, self).__init__()\n",
    "                \n",
    "        self.fc1 = nn.Linear( in_features = input_dim, out_features = 256 )\n",
    "        self.reluActivation1 = nn.ReLU()\n",
    "        # self.dropout1 = nn.Dropout(0.5)\n",
    "        \n",
    "        self.fc2 = nn.Linear( in_features = 256, out_features = 128 )\n",
    "        self.reluActivation2 = nn.ReLU()\n",
    "        # self.dropout1 = nn.Dropout(0.5)\n",
    "\n",
    "        self.fc3 = nn.Linear( in_features = 128, out_features = hidden_dim )\n",
    "        self.reluActivation3 = nn.ReLU()\n",
    "        # self.dropout2 = nn.Dropout(0.2)\n",
    "        \n",
    "        self.fc4 = nn.Linear( in_features = hidden_dim, out_features = output_dim )\n",
    "        self.softmax = nn.Softmax( dim = 1 )\n",
    "        \n",
    "    def forward(self, x):\n",
    "                \n",
    "        x = self.fc1(x)\n",
    "        x = self.reluActivation1(x)\n",
    "        # x = self.dropout1(x)\n",
    "\n",
    "        x = self.fc2(x)\n",
    "        x = self.reluActivation2(x)\n",
    "        # x = self.dropout2(x)\n",
    "        \n",
    "        x = self.fc3(x)\n",
    "        x = self.reluActivation3(x)\n",
    "        # x = self.dropout2(x)\n",
    "\n",
    "        x = self.fc4(x)\n",
    "        x = self.softmax(x)\n",
    "        \n",
    "        return x\n",
    "        "
   ]
  },
  {
   "cell_type": "code",
   "execution_count": 43,
   "id": "8cda6348",
   "metadata": {},
   "outputs": [],
   "source": [
    "# Hyperparameter Declaration\n",
    "\n",
    "# word2vec_model.vector_size = 100\n",
    "\n",
    "input_dim = word2vec_model.vector_size\n",
    "hidden_dim = 64\n",
    "output_dim = 4"
   ]
  },
  {
   "cell_type": "code",
   "execution_count": 44,
   "id": "146bfa65",
   "metadata": {},
   "outputs": [],
   "source": [
    "def accuracy_fn(y_true, y_pred):\n",
    "    \n",
    "    correct = torch.eq(y_true, y_pred).sum().item()\n",
    "    accuracy = ( correct/len(y_pred) ) * 100\n",
    "    \n",
    "    return accuracy"
   ]
  },
  {
   "cell_type": "code",
   "execution_count": 45,
   "id": "564f02b9",
   "metadata": {},
   "outputs": [
    {
     "data": {
      "text/plain": [
       "'cuda'"
      ]
     },
     "execution_count": 45,
     "metadata": {},
     "output_type": "execute_result"
    }
   ],
   "source": [
    "device = 'cuda' if torch.cuda.is_available() else 'cpu'\n",
    "device"
   ]
  },
  {
   "cell_type": "code",
   "execution_count": 46,
   "id": "d2c15e7e",
   "metadata": {},
   "outputs": [
    {
     "data": {
      "text/plain": [
       "TextClassifier(\n",
       "  (fc1): Linear(in_features=100, out_features=256, bias=True)\n",
       "  (reluActivation1): ReLU()\n",
       "  (fc2): Linear(in_features=256, out_features=128, bias=True)\n",
       "  (reluActivation2): ReLU()\n",
       "  (fc3): Linear(in_features=128, out_features=64, bias=True)\n",
       "  (reluActivation3): ReLU()\n",
       "  (fc4): Linear(in_features=64, out_features=4, bias=True)\n",
       "  (softmax): Softmax(dim=1)\n",
       ")"
      ]
     },
     "execution_count": 46,
     "metadata": {},
     "output_type": "execute_result"
    }
   ],
   "source": [
    "# Instantiate the model\n",
    "\n",
    "textClassifierModel = TextClassifier(input_dim, hidden_dim, output_dim).to(device)\n",
    "textClassifierModel"
   ]
  },
  {
   "cell_type": "code",
   "execution_count": 47,
   "id": "21962805",
   "metadata": {},
   "outputs": [],
   "source": [
    "# Define loss function and optimizer\n",
    "\n",
    "loss_fn = nn.CrossEntropyLoss()\n",
    "optimizer = optim.AdamW(textClassifierModel.parameters(), lr=0.003)"
   ]
  },
  {
   "cell_type": "code",
   "execution_count": 48,
   "id": "df114b09",
   "metadata": {},
   "outputs": [
    {
     "data": {
      "application/vnd.jupyter.widget-view+json": {
       "model_id": "635f9ea754ac494d90fd0a969d05ae1c",
       "version_major": 2,
       "version_minor": 0
      },
      "text/plain": [
       "  0%|          | 0/25 [00:00<?, ?it/s]"
      ]
     },
     "metadata": {},
     "output_type": "display_data"
    },
    {
     "name": "stdout",
     "output_type": "stream",
     "text": [
      "Epoch:1 | Train loss: 1.1064 | Val loss: 0.9332 | Val accuracy: 81.0417\n",
      "Model State Dict Saved\n",
      "\n",
      "Epoch:2 | Train loss: 0.9509 | Val loss: 0.9082 | Val accuracy: 83.1250\n",
      "Model State Dict Saved\n",
      "\n",
      "Epoch:3 | Train loss: 0.9404 | Val loss: 0.9327 | Val accuracy: 80.9375\n",
      "Epoch:4 | Train loss: 0.9354 | Val loss: 0.9217 | Val accuracy: 81.7708\n",
      "Epoch:5 | Train loss: 0.9224 | Val loss: 0.9383 | Val accuracy: 79.6875\n",
      "Epoch:6 | Train loss: 0.9223 | Val loss: 0.9272 | Val accuracy: 81.8750\n",
      "Epoch:7 | Train loss: 0.9120 | Val loss: 0.9147 | Val accuracy: 81.7708\n",
      "Epoch:8 | Train loss: 0.9195 | Val loss: 0.9324 | Val accuracy: 80.4167\n",
      "Epoch:9 | Train loss: 0.9139 | Val loss: 0.9028 | Val accuracy: 83.8542\n",
      "Model State Dict Saved\n",
      "\n",
      "Epoch:10 | Train loss: 0.9137 | Val loss: 0.9249 | Val accuracy: 81.4583\n",
      "Epoch:11 | Train loss: 0.8967 | Val loss: 0.9257 | Val accuracy: 81.9792\n",
      "Epoch:12 | Train loss: 0.9061 | Val loss: 0.9096 | Val accuracy: 83.0208\n",
      "Epoch:13 | Train loss: 0.9099 | Val loss: 0.9058 | Val accuracy: 83.4375\n",
      "Epoch:14 | Train loss: 0.9010 | Val loss: 0.9095 | Val accuracy: 83.0208\n",
      "Epoch:15 | Train loss: 0.8939 | Val loss: 0.9063 | Val accuracy: 83.6458\n",
      "Epoch:16 | Train loss: 0.8951 | Val loss: 0.9477 | Val accuracy: 78.9583\n",
      "Epoch:17 | Train loss: 0.8865 | Val loss: 0.9148 | Val accuracy: 83.1250\n",
      "Epoch:18 | Train loss: 0.8863 | Val loss: 0.9179 | Val accuracy: 82.3958\n",
      "Epoch:19 | Train loss: 0.8849 | Val loss: 0.9141 | Val accuracy: 82.8125\n",
      "Epoch:20 | Train loss: 0.8758 | Val loss: 0.9022 | Val accuracy: 83.9583\n",
      "Model State Dict Saved\n",
      "\n",
      "Epoch:21 | Train loss: 0.8807 | Val loss: 0.8973 | Val accuracy: 84.1667\n",
      "Model State Dict Saved\n",
      "\n",
      "Epoch:22 | Train loss: 0.8701 | Val loss: 0.9070 | Val accuracy: 83.3333\n",
      "Epoch:23 | Train loss: 0.8772 | Val loss: 0.9416 | Val accuracy: 79.7917\n",
      "Epoch:24 | Train loss: 0.8703 | Val loss: 0.9325 | Val accuracy: 80.9375\n",
      "Epoch:25 | Train loss: 0.8629 | Val loss: 0.9050 | Val accuracy: 83.5417\n"
     ]
    }
   ],
   "source": [
    "num_classes = 4\n",
    "num_epochs = 25\n",
    "performance_metrics = []\n",
    "best_val_accuracy = 0\n",
    "\n",
    "for epoch in tqdm(range(num_epochs)):\n",
    "    textClassifierModel.train()\n",
    "    train_loss = 0\n",
    "    \n",
    "    for batch_idx, (X, y) in enumerate(train_loader):\n",
    "        \n",
    "        X, y = X.to(device), y.to(device)\n",
    "        \n",
    "        y_pred = textClassifierModel(X)\n",
    "                \n",
    "        # calculate batch accumulative loss\n",
    "        loss = loss_fn(y_pred, y)\n",
    "        train_loss += loss\n",
    "        \n",
    "        optimizer.zero_grad()\n",
    "        \n",
    "        loss.backward()\n",
    "        \n",
    "        optimizer.step()\n",
    "        \n",
    "    with torch.inference_mode():\n",
    "        \n",
    "        textClassifierModel.eval()\n",
    "        val_loss, val_accuracy = 0,0\n",
    "        \n",
    "        for X_val, y_val in val_loader:\n",
    "            \n",
    "            X_val, y_val = X_val.to(device), y_val.to(device)\n",
    "            \n",
    "            y_val_pred = textClassifierModel(X_val)\n",
    "            \n",
    "            loss = loss_fn(y_val_pred, y_val)\n",
    "            val_loss += loss\n",
    "            val_accuracy += accuracy_fn(y_val, y_val_pred.argmax(dim=1))\n",
    "        \n",
    "        # Calculate avg. loss & accuracy\n",
    "        \n",
    "        train_loss = train_loss/len(train_loader)\n",
    "        val_loss = val_loss/len(val_loader)\n",
    "        val_accuracy = val_accuracy/len(val_loader)\n",
    "        \n",
    "        print(f\"Epoch:{epoch+1} | Train loss: {train_loss:.4f} | Val loss: {val_loss:.4f} | Val accuracy: {val_accuracy:.4f}\")\n",
    "        performance_metrics.append(val_accuracy)\n",
    "\n",
    "        if val_accuracy > best_val_accuracy:\n",
    "            torch.save(textClassifierModel.state_dict(), './best_text_classifier_model.pth')\n",
    "            print('Model State Dict Saved\\n')\n",
    "            best_val_accuracy = val_accuracy"
   ]
  },
  {
   "cell_type": "markdown",
   "id": "d68ea345",
   "metadata": {},
   "source": [
    "### Evaluation On Test Set"
   ]
  },
  {
   "cell_type": "code",
   "execution_count": 49,
   "id": "9a0af1aa",
   "metadata": {},
   "outputs": [
    {
     "data": {
      "application/vnd.jupyter.widget-view+json": {
       "model_id": "2f893cedde464fb28c4bd5d9b5f04b09",
       "version_major": 2,
       "version_minor": 0
      },
      "text/plain": [
       "  0%|          | 0/16 [00:00<?, ?it/s]"
      ]
     },
     "metadata": {},
     "output_type": "display_data"
    },
    {
     "name": "stdout",
     "output_type": "stream",
     "text": [
      "Test loss: 0.9119 | Test accuracy: 82.8125\n"
     ]
    }
   ],
   "source": [
    "# Load the latest Best checkpoint saved above.\n",
    "y_predicted_list, y_test_true = [],[]\n",
    "\n",
    "textClassifierModel.load_state_dict(torch.load('./best_text_classifier_model.pth'))\n",
    "\n",
    "with torch.inference_mode():\n",
    "    textClassifierModel.eval()\n",
    "    test_loss, test_accuracy = 0,0\n",
    "\n",
    "    for X_test, y_test in tqdm(test_loader):\n",
    "\n",
    "        X_test, y_test = X_test.to(device), y_test.to(device)\n",
    "\n",
    "        y_test_pred = textClassifierModel(X_test)\n",
    "        \n",
    "        y_predicted_list.append(y_test_pred.argmax(dim = 1))\n",
    "        y_test_true.append(y_test)\n",
    "\n",
    "        loss = loss_fn(y_test_pred, y_test)\n",
    "        test_loss += loss\n",
    "        test_accuracy += accuracy_fn(y_test, y_test_pred.argmax(dim=1))\n",
    "\n",
    "    # Calculate avg. loss & accuracy\n",
    "    test_loss = test_loss/len(test_loader)\n",
    "    test_accuracy = test_accuracy/len(test_loader)\n",
    "\n",
    "    print(f\"Test loss: {test_loss:.4f} | Test accuracy: {test_accuracy:.4f}\")"
   ]
  },
  {
   "cell_type": "markdown",
   "id": "3b3158dc",
   "metadata": {},
   "source": [
    "#### Test Accuracy"
   ]
  },
  {
   "cell_type": "code",
   "execution_count": 50,
   "id": "01984265",
   "metadata": {},
   "outputs": [
    {
     "name": "stdout",
     "output_type": "stream",
     "text": [
      "Test Accuracy for the model is: 82.81 %\n"
     ]
    }
   ],
   "source": [
    "print(f'Test Accuracy for the model is: {test_accuracy:.2f} %')"
   ]
  },
  {
   "cell_type": "code",
   "execution_count": 51,
   "id": "08b58b6a",
   "metadata": {},
   "outputs": [],
   "source": [
    "# Convert the list of tensors to a single list of elements\n",
    "\n",
    "y_predicted_list = [item for tensor in y_predicted_list for item in tensor.tolist()]\n",
    "y_test_true = [item for tensor in y_test_true for item in tensor.tolist()]"
   ]
  },
  {
   "cell_type": "markdown",
   "id": "ace519fc",
   "metadata": {},
   "source": [
    "#### F1 Score"
   ]
  },
  {
   "cell_type": "code",
   "execution_count": 52,
   "id": "6b282004",
   "metadata": {},
   "outputs": [
    {
     "name": "stdout",
     "output_type": "stream",
     "text": [
      "F1 Score for the model is: 0.8294\n"
     ]
    }
   ],
   "source": [
    "f1 = f1_score(np.array(y_test_true), np.array(y_predicted_list), average='weighted')\n",
    "print(f'F1 Score for the model is: {f1:.4f}')"
   ]
  },
  {
   "cell_type": "markdown",
   "id": "40988a20",
   "metadata": {},
   "source": [
    "#### Confusion Matrix"
   ]
  },
  {
   "cell_type": "code",
   "execution_count": 53,
   "id": "48ab6e8d",
   "metadata": {},
   "outputs": [
    {
     "data": {
      "image/png": "[encoded data removed]",
      "text/plain": [
       "<Figure size 700x400 with 1 Axes>"
      ]
     },
     "metadata": {},
     "output_type": "display_data"
    }
   ],
   "source": [
    "# Calculate confusion matrix\n",
    "cm = confusion_matrix(y_test_true, y_predicted_list)\n",
    "\n",
    "# Plot confusion matrix\n",
    "plt.figure(figsize=(7, 4))\n",
    "sns.heatmap(cm, annot=True, fmt='d', cmap='crest', cbar=False)\n",
    "plt.xlabel('Predicted Label')\n",
    "plt.ylabel('True Label')\n",
    "plt.title('Confusion Matrix')\n",
    "plt.show()"
   ]
  },
  {
   "cell_type": "markdown",
   "id": "6e056b6a",
   "metadata": {},
   "source": [
    "#### Classification Score Table"
   ]
  },
  {
   "cell_type": "code",
   "execution_count": 54,
   "id": "146ff250",
   "metadata": {},
   "outputs": [],
   "source": [
    "# Generate classification report\n",
    "\n",
    "class_names = ['Class 0', 'Class 1', 'Class 2', 'Class 3']  # Replace with your class names\n",
    "report = classification_report(y_test_true, y_predicted_list, target_names=class_names, output_dict=True)"
   ]
  },
  {
   "cell_type": "code",
   "execution_count": 55,
   "id": "89a78ecd",
   "metadata": {},
   "outputs": [
    {
     "data": {
      "image/png": "[encoded data removed]",
      "text/plain": [
       "<Figure size 1000x500 with 1 Axes>"
      ]
     },
     "metadata": {},
     "output_type": "display_data"
    }
   ],
   "source": [
    "# Convert classification report to a numpy array\n",
    "report_data = []\n",
    "for class_name in class_names:\n",
    "    report_data.append([\n",
    "        report[class_name]['precision'],\n",
    "        report[class_name]['recall'],\n",
    "        report[class_name]['f1-score'],\n",
    "        report[class_name]['support']\n",
    "    ])\n",
    "\n",
    "# Plot classification report as a table\n",
    "plt.figure(figsize=(10, 5))\n",
    "plt.table(cellText=report_data, colLabels=['Precision', 'Recall', 'F1-Score', 'Support'], rowLabels=class_names, loc='center', cellLoc='center', colColours=['#f2f2f2']*4, cellColours=[['#f9f9f9']*4]*len(class_names))\n",
    "plt.axis('off')  # Turn off axis\n",
    "plt.title('Classification Report')\n",
    "plt.show()"
   ]
  },
  {
   "cell_type": "markdown",
   "id": "a3932b4a",
   "metadata": {},
   "source": [
    "#### Write Predictions to test.csv"
   ]
  },
  {
   "cell_type": "code",
   "execution_count": 56,
   "id": "c2529942",
   "metadata": {},
   "outputs": [
    {
     "data": {
      "text/html": [
       "<div>\n",
       "<style scoped>\n",
       "    .dataframe tbody tr th:only-of-type {\n",
       "        vertical-align: middle;\n",
       "    }\n",
       "\n",
       "    .dataframe tbody tr th {\n",
       "        vertical-align: top;\n",
       "    }\n",
       "\n",
       "    .dataframe thead th {\n",
       "        text-align: right;\n",
       "    }\n",
       "</style>\n",
       "<table border=\"1\" class=\"dataframe\">\n",
       "  <thead>\n",
       "    <tr style=\"text-align: right;\">\n",
       "      <th></th>\n",
       "      <th>index</th>\n",
       "      <th>text</th>\n",
       "      <th>label</th>\n",
       "    </tr>\n",
       "  </thead>\n",
       "  <tbody>\n",
       "    <tr>\n",
       "      <th>0</th>\n",
       "      <td>0</td>\n",
       "      <td>detainees seen minimal threat washington alleg...</td>\n",
       "      <td>0</td>\n",
       "    </tr>\n",
       "    <tr>\n",
       "      <th>1</th>\n",
       "      <td>1</td>\n",
       "      <td>japans army works plan cope north korean terro...</td>\n",
       "      <td>0</td>\n",
       "    </tr>\n",
       "    <tr>\n",
       "      <th>2</th>\n",
       "      <td>2</td>\n",
       "      <td>un council arrives nairobi un security council...</td>\n",
       "      <td>0</td>\n",
       "    </tr>\n",
       "    <tr>\n",
       "      <th>3</th>\n",
       "      <td>3</td>\n",
       "      <td>apec ministers urge new effort trade talks pac...</td>\n",
       "      <td>0</td>\n",
       "    </tr>\n",
       "    <tr>\n",
       "      <th>4</th>\n",
       "      <td>4</td>\n",
       "      <td>least five dead russia mine blast reuters reut...</td>\n",
       "      <td>0</td>\n",
       "    </tr>\n",
       "  </tbody>\n",
       "</table>\n",
       "</div>"
      ],
      "text/plain": [
       "   index                                               text  label\n",
       "0      0  detainees seen minimal threat washington alleg...      0\n",
       "1      1  japans army works plan cope north korean terro...      0\n",
       "2      2  un council arrives nairobi un security council...      0\n",
       "3      3  apec ministers urge new effort trade talks pac...      0\n",
       "4      4  least five dead russia mine blast reuters reut...      0"
      ]
     },
     "execution_count": 56,
     "metadata": {},
     "output_type": "execute_result"
    }
   ],
   "source": [
    "textClassifierModifiedTestSet = test_set.copy()\n",
    "textClassifierModifiedTestSet.head()"
   ]
  },
  {
   "cell_type": "code",
   "execution_count": 57,
   "id": "0a92e545",
   "metadata": {},
   "outputs": [],
   "source": [
    "textClassifierModifiedTestSet['preds'] = y_predicted_list"
   ]
  },
  {
   "cell_type": "code",
   "execution_count": 58,
   "id": "2bd97ea8",
   "metadata": {},
   "outputs": [
    {
     "data": {
      "text/html": [
       "<div>\n",
       "<style scoped>\n",
       "    .dataframe tbody tr th:only-of-type {\n",
       "        vertical-align: middle;\n",
       "    }\n",
       "\n",
       "    .dataframe tbody tr th {\n",
       "        vertical-align: top;\n",
       "    }\n",
       "\n",
       "    .dataframe thead th {\n",
       "        text-align: right;\n",
       "    }\n",
       "</style>\n",
       "<table border=\"1\" class=\"dataframe\">\n",
       "  <thead>\n",
       "    <tr style=\"text-align: right;\">\n",
       "      <th></th>\n",
       "      <th>index</th>\n",
       "      <th>text</th>\n",
       "      <th>label</th>\n",
       "    </tr>\n",
       "  </thead>\n",
       "  <tbody>\n",
       "    <tr>\n",
       "      <th>0</th>\n",
       "      <td>0</td>\n",
       "      <td>detainees seen minimal threat washington alleg...</td>\n",
       "      <td>0</td>\n",
       "    </tr>\n",
       "    <tr>\n",
       "      <th>1</th>\n",
       "      <td>1</td>\n",
       "      <td>japans army works plan cope north korean terro...</td>\n",
       "      <td>0</td>\n",
       "    </tr>\n",
       "    <tr>\n",
       "      <th>2</th>\n",
       "      <td>2</td>\n",
       "      <td>un council arrives nairobi un security council...</td>\n",
       "      <td>0</td>\n",
       "    </tr>\n",
       "    <tr>\n",
       "      <th>3</th>\n",
       "      <td>3</td>\n",
       "      <td>apec ministers urge new effort trade talks pac...</td>\n",
       "      <td>0</td>\n",
       "    </tr>\n",
       "    <tr>\n",
       "      <th>4</th>\n",
       "      <td>4</td>\n",
       "      <td>least five dead russia mine blast reuters reut...</td>\n",
       "      <td>0</td>\n",
       "    </tr>\n",
       "    <tr>\n",
       "      <th>5</th>\n",
       "      <td>5</td>\n",
       "      <td>australia establish NUM lead third india test ...</td>\n",
       "      <td>0</td>\n",
       "    </tr>\n",
       "    <tr>\n",
       "      <th>6</th>\n",
       "      <td>6</td>\n",
       "      <td>indonesia businesses hopeful election sufferin...</td>\n",
       "      <td>0</td>\n",
       "    </tr>\n",
       "    <tr>\n",
       "      <th>7</th>\n",
       "      <td>7</td>\n",
       "      <td>georgian president calls international confere...</td>\n",
       "      <td>0</td>\n",
       "    </tr>\n",
       "    <tr>\n",
       "      <th>8</th>\n",
       "      <td>8</td>\n",
       "      <td>gangs prowl stormwracked haiti ap ap victims l...</td>\n",
       "      <td>0</td>\n",
       "    </tr>\n",
       "    <tr>\n",
       "      <th>9</th>\n",
       "      <td>9</td>\n",
       "      <td>india never become international liability man...</td>\n",
       "      <td>0</td>\n",
       "    </tr>\n",
       "  </tbody>\n",
       "</table>\n",
       "</div>"
      ],
      "text/plain": [
       "   index                                               text  label\n",
       "0      0  detainees seen minimal threat washington alleg...      0\n",
       "1      1  japans army works plan cope north korean terro...      0\n",
       "2      2  un council arrives nairobi un security council...      0\n",
       "3      3  apec ministers urge new effort trade talks pac...      0\n",
       "4      4  least five dead russia mine blast reuters reut...      0\n",
       "5      5  australia establish NUM lead third india test ...      0\n",
       "6      6  indonesia businesses hopeful election sufferin...      0\n",
       "7      7  georgian president calls international confere...      0\n",
       "8      8  gangs prowl stormwracked haiti ap ap victims l...      0\n",
       "9      9  india never become international liability man...      0"
      ]
     },
     "execution_count": 58,
     "metadata": {},
     "output_type": "execute_result"
    }
   ],
   "source": [
    "test_set.head(10)"
   ]
  },
  {
   "cell_type": "code",
   "execution_count": 59,
   "id": "402c4925",
   "metadata": {},
   "outputs": [],
   "source": [
    "textClassifierModifiedTestSet.to_csv('w2v_test.csv', index=False)"
   ]
  },
  {
   "cell_type": "code",
   "execution_count": 60,
   "id": "0bd56cd9",
   "metadata": {},
   "outputs": [
    {
     "data": {
      "text/html": [
       "<div>\n",
       "<style scoped>\n",
       "    .dataframe tbody tr th:only-of-type {\n",
       "        vertical-align: middle;\n",
       "    }\n",
       "\n",
       "    .dataframe tbody tr th {\n",
       "        vertical-align: top;\n",
       "    }\n",
       "\n",
       "    .dataframe thead th {\n",
       "        text-align: right;\n",
       "    }\n",
       "</style>\n",
       "<table border=\"1\" class=\"dataframe\">\n",
       "  <thead>\n",
       "    <tr style=\"text-align: right;\">\n",
       "      <th></th>\n",
       "      <th>index</th>\n",
       "      <th>text</th>\n",
       "      <th>label</th>\n",
       "      <th>preds</th>\n",
       "    </tr>\n",
       "  </thead>\n",
       "  <tbody>\n",
       "    <tr>\n",
       "      <th>0</th>\n",
       "      <td>0</td>\n",
       "      <td>detainees seen minimal threat washington alleg...</td>\n",
       "      <td>0</td>\n",
       "      <td>0</td>\n",
       "    </tr>\n",
       "    <tr>\n",
       "      <th>1</th>\n",
       "      <td>1</td>\n",
       "      <td>japans army works plan cope north korean terro...</td>\n",
       "      <td>0</td>\n",
       "      <td>0</td>\n",
       "    </tr>\n",
       "    <tr>\n",
       "      <th>2</th>\n",
       "      <td>2</td>\n",
       "      <td>un council arrives nairobi un security council...</td>\n",
       "      <td>0</td>\n",
       "      <td>0</td>\n",
       "    </tr>\n",
       "    <tr>\n",
       "      <th>3</th>\n",
       "      <td>3</td>\n",
       "      <td>apec ministers urge new effort trade talks pac...</td>\n",
       "      <td>0</td>\n",
       "      <td>0</td>\n",
       "    </tr>\n",
       "    <tr>\n",
       "      <th>4</th>\n",
       "      <td>4</td>\n",
       "      <td>least five dead russia mine blast reuters reut...</td>\n",
       "      <td>0</td>\n",
       "      <td>0</td>\n",
       "    </tr>\n",
       "  </tbody>\n",
       "</table>\n",
       "</div>"
      ],
      "text/plain": [
       "   index                                               text  label  preds\n",
       "0      0  detainees seen minimal threat washington alleg...      0      0\n",
       "1      1  japans army works plan cope north korean terro...      0      0\n",
       "2      2  un council arrives nairobi un security council...      0      0\n",
       "3      3  apec ministers urge new effort trade talks pac...      0      0\n",
       "4      4  least five dead russia mine blast reuters reut...      0      0"
      ]
     },
     "execution_count": 60,
     "metadata": {},
     "output_type": "execute_result"
    }
   ],
   "source": [
    "# Test if it has been written into the file or not\n",
    "\n",
    "test_df = pd.read_csv('w2v_test.csv')\n",
    "test_df.head()"
   ]
  },
  {
   "cell_type": "code",
   "execution_count": null,
   "id": "8e0a90b4",
   "metadata": {},
   "outputs": [],
   "source": []
  },
  {
   "cell_type": "markdown",
   "id": "e2f05b32",
   "metadata": {},
   "source": [
    "### Vanilla RNN Implementation"
   ]
  },
  {
   "cell_type": "markdown",
   "id": "02d86077",
   "metadata": {},
   "source": [
    "##### Initialising Embedding Layer From the Word2Vec Embeddings\n",
    "\n",
    "Ref: https://stackoverflow.com/questions/49710537/pytorch-gensim-how-do-i-load-pre-trained-word-embeddings"
   ]
  },
  {
   "cell_type": "code",
   "execution_count": 61,
   "id": "b2786ce7",
   "metadata": {},
   "outputs": [],
   "source": [
    "vocabulary = word2vec_model.wv.index_to_key\n",
    "word_embeddings = np.array([word2vec_model.wv[word] for word in vocabulary])\n",
    "\n",
    "# This is the word embeddings we got from training the word2vec model on our dataset.\n",
    "# The nn.Embedding layer needs to be initialized with this embeddings."
   ]
  },
  {
   "cell_type": "code",
   "execution_count": 62,
   "id": "395b796c",
   "metadata": {},
   "outputs": [
    {
     "name": "stdout",
     "output_type": "stream",
     "text": [
      "Size of the vocabulary we have: 13628\n",
      "And Shape of the word embeddings is: (13628, 100)        \n",
      "Size of the each word vector is: 100\n"
     ]
    }
   ],
   "source": [
    "print(f'Size of the vocabulary we have: {len(vocabulary)}\\nAnd Shape of the word embeddings is: {word_embeddings.shape}\\\n",
    "        \\nSize of the each word vector is: {word_embeddings.shape[1]}'\n",
    "     )"
   ]
  },
  {
   "cell_type": "code",
   "execution_count": 63,
   "id": "64557967",
   "metadata": {},
   "outputs": [
    {
     "data": {
      "text/plain": [
       "2500"
      ]
     },
     "execution_count": 63,
     "metadata": {},
     "output_type": "execute_result"
    }
   ],
   "source": [
    "len(tokenized_sentences)"
   ]
  },
  {
   "cell_type": "markdown",
   "id": "72ac56cb",
   "metadata": {},
   "source": [
    "###### Separating Train and Test Set"
   ]
  },
  {
   "cell_type": "code",
   "execution_count": 64,
   "id": "0b67f8e0",
   "metadata": {},
   "outputs": [
    {
     "name": "stdout",
     "output_type": "stream",
     "text": [
      "X_train_val is of length: 2000\n"
     ]
    }
   ],
   "source": [
    "X_train_val = tokenized_sentences[:2000]\n",
    "print(f'X_train_val is of length: {len(X_train_val)}')"
   ]
  },
  {
   "cell_type": "code",
   "execution_count": 65,
   "id": "f729caaf",
   "metadata": {},
   "outputs": [
    {
     "name": "stdout",
     "output_type": "stream",
     "text": [
      "y_train_val is of length: 2000\n"
     ]
    }
   ],
   "source": [
    "y_train_val = list(y_train_raw) \n",
    "y_train_val = torch.tensor(y_train_val)\n",
    "print(f'y_train_val is of length: {len(y_train_val)}')"
   ]
  },
  {
   "cell_type": "code",
   "execution_count": 66,
   "id": "d0d85bd0",
   "metadata": {},
   "outputs": [
    {
     "name": "stdout",
     "output_type": "stream",
     "text": [
      "X_test is of length: 500\n",
      "y_test is of length: 500\n"
     ]
    }
   ],
   "source": [
    "X_test = tokenized_sentences[2000:]\n",
    "y_test = y_test_raw\n",
    "\n",
    "print(f'X_test is of length: {len(X_test)}\\ny_test is of length: {len(y_test)}')"
   ]
  },
  {
   "cell_type": "code",
   "execution_count": 67,
   "id": "e8f51c0e",
   "metadata": {},
   "outputs": [],
   "source": [
    "# Split data into train and test sets\n",
    "\n",
    "X_train, X_val, y_train, y_val = train_test_split(X_train_val, y_train_val, test_size=0.1, random_state=42)\n"
   ]
  },
  {
   "cell_type": "code",
   "execution_count": 68,
   "id": "772622c4",
   "metadata": {},
   "outputs": [
    {
     "name": "stdout",
     "output_type": "stream",
     "text": [
      "Lengh of X_train is 1800\n",
      "Lengh of y_train is 1800 \n",
      "\n",
      "Lengh of X_train is 200\n",
      "Lengh of y_test is 200\n"
     ]
    }
   ],
   "source": [
    "print(f'Lengh of X_train is {len(X_train)}')\n",
    "print(f'Lengh of y_train is {len(y_train)} \\n')\n",
    "print(f'Lengh of X_train is {len(X_val)}')\n",
    "print(f'Lengh of y_test is {len(y_val)}')"
   ]
  },
  {
   "cell_type": "code",
   "execution_count": null,
   "id": "3bfbe07d",
   "metadata": {},
   "outputs": [],
   "source": []
  },
  {
   "cell_type": "markdown",
   "id": "ee848499",
   "metadata": {},
   "source": [
    "##### Custom Dataset Creation "
   ]
  },
  {
   "cell_type": "code",
   "execution_count": 69,
   "id": "4eb7b7a4",
   "metadata": {},
   "outputs": [],
   "source": [
    "class NewsDataset(Dataset):\n",
    "    \n",
    "    def __init__(self, data, labels, vocab):\n",
    "        self.data = data\n",
    "        self.labels = labels\n",
    "        self.vocab = vocab\n",
    "\n",
    "    def __len__(self):\n",
    "        return len(self.data)\n",
    "\n",
    "    def __getitem__(self, idx):\n",
    "        news = self.data[idx]\n",
    "        tokens = [self.vocab.index(word) for word in news]\n",
    "        return torch.tensor(tokens), torch.tensor(self.labels[idx])\n"
   ]
  },
  {
   "cell_type": "code",
   "execution_count": 70,
   "id": "1be63431",
   "metadata": {},
   "outputs": [],
   "source": [
    "def pad_sequences(batch):\n",
    "    \n",
    "    batch_size = len(batch)\n",
    "    max_len = max([len(seq) for seq, _ in batch])\n",
    "        \n",
    "    padded_seqs = torch.zeros(batch_size, max_len, dtype=torch.long)\n",
    "    labels = torch.zeros(batch_size, dtype=torch.long)\n",
    "    \n",
    "    for i, (seq, label) in enumerate(batch):\n",
    "        padded_seqs[i, 0:len(seq)] = seq\n",
    "        labels[i] = label\n",
    "        \n",
    "    return padded_seqs, labels"
   ]
  },
  {
   "cell_type": "code",
   "execution_count": null,
   "id": "747162e9",
   "metadata": {},
   "outputs": [],
   "source": []
  },
  {
   "cell_type": "code",
   "execution_count": 71,
   "id": "c1f59fa0",
   "metadata": {},
   "outputs": [],
   "source": [
    "# Creating DataLoader for batch processing \n",
    "\n",
    "train_dataset = NewsDataset(X_train, y_train, vocabulary)\n",
    "train_loader = DataLoader(train_dataset, batch_size = 16, shuffle = True, collate_fn = pad_sequences)"
   ]
  },
  {
   "cell_type": "code",
   "execution_count": 72,
   "id": "9e63c10c",
   "metadata": {},
   "outputs": [],
   "source": [
    "val_dataset = NewsDataset(X_val, y_val, vocabulary)\n",
    "val_loader = DataLoader(val_dataset, batch_size = 16, shuffle = True, collate_fn = pad_sequences)"
   ]
  },
  {
   "cell_type": "code",
   "execution_count": 73,
   "id": "3b203c91",
   "metadata": {},
   "outputs": [],
   "source": [
    "test_dataset = NewsDataset(X_test, y_test, vocabulary)\n",
    "test_loader = DataLoader(test_dataset, batch_size = 16, shuffle = False, collate_fn = pad_sequences)"
   ]
  },
  {
   "cell_type": "markdown",
   "id": "948ec67f",
   "metadata": {},
   "source": [
    "#### Define the Architecture"
   ]
  },
  {
   "cell_type": "code",
   "execution_count": 74,
   "id": "eb13940b",
   "metadata": {},
   "outputs": [],
   "source": [
    "# Define the vanilla RNN model with custom embedding layer\n",
    "\n",
    "class biRNN(nn.Module):\n",
    "    \n",
    "    def __init__(self, word_vector_size, hidden_size, output_size):\n",
    "        super(biRNN, self).__init__()\n",
    "\n",
    "        self.embedding_layer = nn.Embedding.from_pretrained(torch.FloatTensor(word_embeddings), freeze = True)\n",
    "        self.rnn = nn.RNN(word_vector_size, hidden_size, batch_first = True, bidirectional = True)\n",
    "        self.fc = nn.Linear(hidden_size * 2, output_size)\n",
    "        self.softmax = nn.Softmax(dim = 1)\n",
    "\n",
    "    # There are 2*hidden_units in the linear layee bcz of the bidirectional nature of the RNN\n",
    "\n",
    "    def forward(self, x):\n",
    "        \n",
    "        embedded = self.embedding_layer(x)\n",
    "        output, _ = self.rnn(embedded)\n",
    "        \n",
    "        # Average pooling along the sequence dimension\n",
    "        avg_pooled = torch.mean(output, dim=1)  # Compute mean across the sequence dimension (dimension 1)\n",
    "        output = self.fc(avg_pooled)  \n",
    "        \n",
    "        softMaxedOutput = self.softmax(output)\n",
    "\n",
    "        return output"
   ]
  },
  {
   "cell_type": "code",
   "execution_count": 75,
   "id": "46870ce6",
   "metadata": {},
   "outputs": [],
   "source": [
    "# Total number of tokens we have\n",
    "vocab_size = len(word2vec_model.wv)\n",
    "\n",
    "# Size of the embedding vector that will be created by the embedding layer\n",
    "word_vector_size = 100\n",
    "\n",
    "# no. of nodes in the RNN Layer\n",
    "hidden_size = 200\n",
    "\n",
    "# Number of classes\n",
    "output_size = 4  "
   ]
  },
  {
   "cell_type": "code",
   "execution_count": 76,
   "id": "dadd7e17",
   "metadata": {},
   "outputs": [],
   "source": [
    "device = 'cuda'"
   ]
  },
  {
   "cell_type": "code",
   "execution_count": 77,
   "id": "2a521a1e",
   "metadata": {},
   "outputs": [
    {
     "data": {
      "text/plain": [
       "biRNN(\n",
       "  (embedding_layer): Embedding(13628, 100)\n",
       "  (rnn): RNN(100, 200, batch_first=True, bidirectional=True)\n",
       "  (fc): Linear(in_features=400, out_features=4, bias=True)\n",
       "  (softmax): Softmax(dim=1)\n",
       ")"
      ]
     },
     "execution_count": 77,
     "metadata": {},
     "output_type": "execute_result"
    }
   ],
   "source": [
    "# Instantiate RNN\n",
    "\n",
    "biRNNModel = biRNN(word_vector_size, hidden_size, output_size).to(device)\n",
    "biRNNModel"
   ]
  },
  {
   "cell_type": "code",
   "execution_count": 78,
   "id": "36810134",
   "metadata": {},
   "outputs": [],
   "source": [
    "# Define loss function and optimizer\n",
    "\n",
    "loss_fn = nn.CrossEntropyLoss()\n",
    "optimizer_rnn = optim.Adam(biRNNModel.parameters(), lr = 0.0001)"
   ]
  },
  {
   "cell_type": "code",
   "execution_count": 79,
   "id": "d8e9285c",
   "metadata": {},
   "outputs": [
    {
     "data": {
      "application/vnd.jupyter.widget-view+json": {
       "model_id": "64853398395d44b0b56e5831aa887795",
       "version_major": 2,
       "version_minor": 0
      },
      "text/plain": [
       "  0%|          | 0/20 [00:00<?, ?it/s]"
      ]
     },
     "metadata": {},
     "output_type": "display_data"
    },
    {
     "name": "stderr",
     "output_type": "stream",
     "text": [
      "/tmp/ipykernel_1218907/4133067633.py:14: UserWarning: To copy construct from a tensor, it is recommended to use sourceTensor.clone().detach() or sourceTensor.clone().detach().requires_grad_(True), rather than torch.tensor(sourceTensor).\n",
      "  return torch.tensor(tokens), torch.tensor(self.labels[idx])\n"
     ]
    },
    {
     "name": "stdout",
     "output_type": "stream",
     "text": [
      "Epoch:1 | Train loss: 1.0958 | Val loss: 0.7357 | Val accuracy: 77.8846\n",
      "Model State Dict Saved\n",
      "\n",
      "Epoch:2 | Train loss: 0.6586 | Val loss: 0.5951 | Val accuracy: 78.8462\n",
      "Model State Dict Saved\n",
      "\n",
      "Epoch:3 | Train loss: 0.5726 | Val loss: 0.5650 | Val accuracy: 80.2885\n",
      "Model State Dict Saved\n",
      "\n",
      "Epoch:4 | Train loss: 0.5423 | Val loss: 0.5188 | Val accuracy: 80.7692\n",
      "Model State Dict Saved\n",
      "\n",
      "Epoch:5 | Train loss: 0.5169 | Val loss: 0.5341 | Val accuracy: 78.8462\n",
      "Epoch:6 | Train loss: 0.5150 | Val loss: 0.4936 | Val accuracy: 81.2500\n",
      "Model State Dict Saved\n",
      "\n",
      "Epoch:7 | Train loss: 0.5061 | Val loss: 0.5146 | Val accuracy: 78.3654\n",
      "Epoch:8 | Train loss: 0.5005 | Val loss: 0.5210 | Val accuracy: 81.2500\n",
      "Epoch:9 | Train loss: 0.4907 | Val loss: 0.5013 | Val accuracy: 84.1346\n",
      "Model State Dict Saved\n",
      "\n",
      "Epoch:10 | Train loss: 0.4873 | Val loss: 0.5268 | Val accuracy: 81.2500\n",
      "Epoch:11 | Train loss: 0.4821 | Val loss: 0.4945 | Val accuracy: 81.7308\n",
      "Epoch:12 | Train loss: 0.4736 | Val loss: 0.4746 | Val accuracy: 83.6538\n",
      "Epoch:13 | Train loss: 0.4789 | Val loss: 0.4854 | Val accuracy: 82.2115\n",
      "Epoch:14 | Train loss: 0.4629 | Val loss: 0.4821 | Val accuracy: 81.2500\n",
      "Epoch:15 | Train loss: 0.4582 | Val loss: 0.4801 | Val accuracy: 79.3269\n",
      "Epoch:16 | Train loss: 0.4461 | Val loss: 0.4664 | Val accuracy: 79.8077\n",
      "Epoch:17 | Train loss: 0.4529 | Val loss: 0.4958 | Val accuracy: 79.8077\n",
      "Epoch:18 | Train loss: 0.4484 | Val loss: 0.4789 | Val accuracy: 81.2500\n",
      "Epoch:19 | Train loss: 0.4388 | Val loss: 0.4871 | Val accuracy: 81.2500\n",
      "Epoch:20 | Train loss: 0.4248 | Val loss: 0.4979 | Val accuracy: 80.7692\n"
     ]
    }
   ],
   "source": [
    "num_epochs = 20\n",
    "performance_metrics = []\n",
    "best_val_accuracy = 0\n",
    "\n",
    "for epoch in tqdm(range(num_epochs)):\n",
    "    \n",
    "    biRNNModel.train()\n",
    "    train_loss = 0\n",
    "    \n",
    "    for batch_idx, (X, y) in enumerate(train_loader):\n",
    "        \n",
    "        X, y = X.to(device), y.to(device)\n",
    "        y_pred = biRNNModel(X)\n",
    "                \n",
    "        # calculate batch accumulative loss\n",
    "        loss = loss_fn(y_pred, y)\n",
    "        train_loss += loss\n",
    "        \n",
    "        optimizer_rnn.zero_grad()\n",
    "        \n",
    "        loss.backward()\n",
    "        \n",
    "        optimizer_rnn.step()\n",
    "        \n",
    "    with torch.inference_mode():\n",
    "        \n",
    "        biRNNModel.eval()\n",
    "        val_loss, val_accuracy = 0,0\n",
    "        \n",
    "        for X_val, y_val in val_loader:\n",
    "            \n",
    "            X_val, y_val = X_val.to(device), y_val.to(device)\n",
    "            \n",
    "            y_val_pred = biRNNModel(X_val)\n",
    "            \n",
    "            loss = loss_fn(y_val_pred, y_val)\n",
    "            val_loss += loss\n",
    "            val_accuracy += accuracy_fn(y_val, y_val_pred.argmax(dim=1))\n",
    "        \n",
    "        # Calculate avg. loss & accuracy\n",
    "        \n",
    "        train_loss = train_loss / len(train_loader)\n",
    "        val_loss = val_loss / len(val_loader)\n",
    "        val_accuracy = val_accuracy / len(val_loader)\n",
    "        \n",
    "        print(f\"Epoch:{epoch+1} | Train loss: {train_loss:.4f} | Val loss: {val_loss:.4f} | Val accuracy: {val_accuracy:.4f}\")\n",
    "        performance_metrics.append(val_accuracy)\n",
    "\n",
    "        if val_accuracy > best_val_accuracy:\n",
    "            torch.save(biRNNModel.state_dict(), './wt_initialised_BiRnn.pth')\n",
    "            print('Model State Dict Saved\\n')\n",
    "            best_val_accuracy = val_accuracy"
   ]
  },
  {
   "cell_type": "markdown",
   "id": "07e978db",
   "metadata": {},
   "source": [
    "### Evaluation On Test Set"
   ]
  },
  {
   "cell_type": "code",
   "execution_count": 80,
   "id": "f163552e",
   "metadata": {},
   "outputs": [
    {
     "data": {
      "application/vnd.jupyter.widget-view+json": {
       "model_id": "30e9ecb4917c4ab09f4687e1075a54ed",
       "version_major": 2,
       "version_minor": 0
      },
      "text/plain": [
       "  0%|          | 0/32 [00:00<?, ?it/s]"
      ]
     },
     "metadata": {},
     "output_type": "display_data"
    },
    {
     "name": "stdout",
     "output_type": "stream",
     "text": [
      "Test loss: 0.5461477041244507 | Test accuracy: 81.0546875\n"
     ]
    }
   ],
   "source": [
    "# Load the latest Best checkpoint saved above.\n",
    "y_predicted_list_rnn, y_test_true_rnn = [],[]\n",
    "\n",
    "biRNNModel.load_state_dict(torch.load('./wt_initialised_BiRnn.pth'))\n",
    "\n",
    "with torch.inference_mode():\n",
    "    biRNNModel.eval()\n",
    "    test_loss, test_accuracy = 0,0\n",
    "\n",
    "    for X_test, y_test in tqdm(test_loader):\n",
    "\n",
    "        X_test, y_test = X_test.to(device), y_test.to(device)\n",
    "        \n",
    "        y_test_pred = biRNNModel(X_test)\n",
    "        \n",
    "        y_predicted_list_rnn.append(y_test_pred.argmax(dim = 1))\n",
    "        y_test_true_rnn.append(y_test)\n",
    "\n",
    "        loss = loss_fn(y_test_pred, y_test)\n",
    "        test_loss += loss\n",
    "        test_accuracy += accuracy_fn(y_test, y_test_pred.argmax(dim=1))\n",
    "\n",
    "    # Calculate avg. loss & accuracy\n",
    "    \n",
    "    test_loss = test_loss/len(test_loader)\n",
    "    test_accuracy = test_accuracy/len(test_loader)\n",
    "\n",
    "    print(f\"Test loss: {test_loss} | Test accuracy: {test_accuracy}\")"
   ]
  },
  {
   "cell_type": "markdown",
   "id": "773cbd10",
   "metadata": {},
   "source": [
    "#### Test Accuracy of the Bi-RNN"
   ]
  },
  {
   "cell_type": "code",
   "execution_count": 81,
   "id": "3e019cff",
   "metadata": {},
   "outputs": [
    {
     "name": "stdout",
     "output_type": "stream",
     "text": [
      "Test Accuracy for the Bi-RNN model is: 81.05 %\n"
     ]
    }
   ],
   "source": [
    "print(f'Test Accuracy for the Bi-RNN model is: {test_accuracy:.2f} %')"
   ]
  },
  {
   "cell_type": "code",
   "execution_count": 82,
   "id": "8154522d",
   "metadata": {},
   "outputs": [],
   "source": [
    "# Convert the list of tensors to a single list of elements\n",
    "\n",
    "y_predicted_list_rnn = [item for tensor in y_predicted_list_rnn for item in tensor.tolist()]\n",
    "y_test_true_rnn = [item for tensor in y_test_true_rnn for item in tensor.tolist()]"
   ]
  },
  {
   "cell_type": "markdown",
   "id": "bc8e2fa6",
   "metadata": {},
   "source": [
    "#### F1-Score"
   ]
  },
  {
   "cell_type": "code",
   "execution_count": 83,
   "id": "68e14c26",
   "metadata": {},
   "outputs": [
    {
     "name": "stdout",
     "output_type": "stream",
     "text": [
      "F1 Score for the model is: 0.8126\n"
     ]
    }
   ],
   "source": [
    "f1 = f1_score(np.array(y_test_true_rnn), np.array(y_predicted_list_rnn), average='weighted')\n",
    "print(f'F1 Score for the model is: {f1:.4f}')"
   ]
  },
  {
   "cell_type": "markdown",
   "id": "adb837bb",
   "metadata": {},
   "source": [
    "#### Confusion Matrix"
   ]
  },
  {
   "cell_type": "code",
   "execution_count": 84,
   "id": "60ac463e",
   "metadata": {},
   "outputs": [
    {
     "data": {
      "image/png": "[encoded data removed]",
      "text/plain": [
       "<Figure size 700x400 with 1 Axes>"
      ]
     },
     "metadata": {},
     "output_type": "display_data"
    }
   ],
   "source": [
    "# Calculate confusion matrix\n",
    "cm = confusion_matrix(y_test_true, y_predicted_list)\n",
    "\n",
    "# Plot confusion matrix\n",
    "plt.figure(figsize=(7, 4))\n",
    "sns.heatmap(cm, annot=True, fmt='d', cmap='crest', cbar=False)\n",
    "plt.xlabel('Predicted Label')\n",
    "plt.ylabel('True Label')\n",
    "plt.title('Confusion Matrix')\n",
    "plt.show()"
   ]
  },
  {
   "cell_type": "markdown",
   "id": "490bec8f",
   "metadata": {},
   "source": [
    "#### Write Prediction to CSV"
   ]
  },
  {
   "cell_type": "code",
   "execution_count": 85,
   "id": "801cdfa5",
   "metadata": {},
   "outputs": [
    {
     "data": {
      "text/html": [
       "<div>\n",
       "<style scoped>\n",
       "    .dataframe tbody tr th:only-of-type {\n",
       "        vertical-align: middle;\n",
       "    }\n",
       "\n",
       "    .dataframe tbody tr th {\n",
       "        vertical-align: top;\n",
       "    }\n",
       "\n",
       "    .dataframe thead th {\n",
       "        text-align: right;\n",
       "    }\n",
       "</style>\n",
       "<table border=\"1\" class=\"dataframe\">\n",
       "  <thead>\n",
       "    <tr style=\"text-align: right;\">\n",
       "      <th></th>\n",
       "      <th>index</th>\n",
       "      <th>text</th>\n",
       "      <th>label</th>\n",
       "    </tr>\n",
       "  </thead>\n",
       "  <tbody>\n",
       "    <tr>\n",
       "      <th>0</th>\n",
       "      <td>0</td>\n",
       "      <td>detainees seen minimal threat washington alleg...</td>\n",
       "      <td>0</td>\n",
       "    </tr>\n",
       "    <tr>\n",
       "      <th>1</th>\n",
       "      <td>1</td>\n",
       "      <td>japans army works plan cope north korean terro...</td>\n",
       "      <td>0</td>\n",
       "    </tr>\n",
       "    <tr>\n",
       "      <th>2</th>\n",
       "      <td>2</td>\n",
       "      <td>un council arrives nairobi un security council...</td>\n",
       "      <td>0</td>\n",
       "    </tr>\n",
       "    <tr>\n",
       "      <th>3</th>\n",
       "      <td>3</td>\n",
       "      <td>apec ministers urge new effort trade talks pac...</td>\n",
       "      <td>0</td>\n",
       "    </tr>\n",
       "    <tr>\n",
       "      <th>4</th>\n",
       "      <td>4</td>\n",
       "      <td>least five dead russia mine blast reuters reut...</td>\n",
       "      <td>0</td>\n",
       "    </tr>\n",
       "  </tbody>\n",
       "</table>\n",
       "</div>"
      ],
      "text/plain": [
       "   index                                               text  label\n",
       "0      0  detainees seen minimal threat washington alleg...      0\n",
       "1      1  japans army works plan cope north korean terro...      0\n",
       "2      2  un council arrives nairobi un security council...      0\n",
       "3      3  apec ministers urge new effort trade talks pac...      0\n",
       "4      4  least five dead russia mine blast reuters reut...      0"
      ]
     },
     "execution_count": 85,
     "metadata": {},
     "output_type": "execute_result"
    }
   ],
   "source": [
    "biRNNModifiedTestSet = test_set.copy()\n",
    "biRNNModifiedTestSet.head()"
   ]
  },
  {
   "cell_type": "code",
   "execution_count": 86,
   "id": "2b251905",
   "metadata": {},
   "outputs": [],
   "source": [
    "biRNNModifiedTestSet['preds'] = y_predicted_list_rnn"
   ]
  },
  {
   "cell_type": "code",
   "execution_count": 87,
   "id": "d48502a2",
   "metadata": {},
   "outputs": [],
   "source": [
    "biRNNModifiedTestSet.to_csv('rnn_test.csv', index=False)"
   ]
  },
  {
   "cell_type": "code",
   "execution_count": 88,
   "id": "e5c30b08",
   "metadata": {},
   "outputs": [
    {
     "data": {
      "text/html": [
       "<div>\n",
       "<style scoped>\n",
       "    .dataframe tbody tr th:only-of-type {\n",
       "        vertical-align: middle;\n",
       "    }\n",
       "\n",
       "    .dataframe tbody tr th {\n",
       "        vertical-align: top;\n",
       "    }\n",
       "\n",
       "    .dataframe thead th {\n",
       "        text-align: right;\n",
       "    }\n",
       "</style>\n",
       "<table border=\"1\" class=\"dataframe\">\n",
       "  <thead>\n",
       "    <tr style=\"text-align: right;\">\n",
       "      <th></th>\n",
       "      <th>index</th>\n",
       "      <th>text</th>\n",
       "      <th>label</th>\n",
       "      <th>preds</th>\n",
       "    </tr>\n",
       "  </thead>\n",
       "  <tbody>\n",
       "    <tr>\n",
       "      <th>0</th>\n",
       "      <td>0</td>\n",
       "      <td>detainees seen minimal threat washington alleg...</td>\n",
       "      <td>0</td>\n",
       "      <td>0</td>\n",
       "    </tr>\n",
       "    <tr>\n",
       "      <th>1</th>\n",
       "      <td>1</td>\n",
       "      <td>japans army works plan cope north korean terro...</td>\n",
       "      <td>0</td>\n",
       "      <td>0</td>\n",
       "    </tr>\n",
       "    <tr>\n",
       "      <th>2</th>\n",
       "      <td>2</td>\n",
       "      <td>un council arrives nairobi un security council...</td>\n",
       "      <td>0</td>\n",
       "      <td>0</td>\n",
       "    </tr>\n",
       "    <tr>\n",
       "      <th>3</th>\n",
       "      <td>3</td>\n",
       "      <td>apec ministers urge new effort trade talks pac...</td>\n",
       "      <td>0</td>\n",
       "      <td>0</td>\n",
       "    </tr>\n",
       "    <tr>\n",
       "      <th>4</th>\n",
       "      <td>4</td>\n",
       "      <td>least five dead russia mine blast reuters reut...</td>\n",
       "      <td>0</td>\n",
       "      <td>0</td>\n",
       "    </tr>\n",
       "  </tbody>\n",
       "</table>\n",
       "</div>"
      ],
      "text/plain": [
       "   index                                               text  label  preds\n",
       "0      0  detainees seen minimal threat washington alleg...      0      0\n",
       "1      1  japans army works plan cope north korean terro...      0      0\n",
       "2      2  un council arrives nairobi un security council...      0      0\n",
       "3      3  apec ministers urge new effort trade talks pac...      0      0\n",
       "4      4  least five dead russia mine blast reuters reut...      0      0"
      ]
     },
     "execution_count": 88,
     "metadata": {},
     "output_type": "execute_result"
    }
   ],
   "source": [
    "# Test if the data has been written to the csv\n",
    "\n",
    "df = pd.read_csv('rnn_test.csv')\n",
    "df.head()"
   ]
  },
  {
   "cell_type": "code",
   "execution_count": null,
   "id": "d8df0c3a",
   "metadata": {},
   "outputs": [],
   "source": []
  },
  {
   "cell_type": "markdown",
   "id": "2fc7d95e",
   "metadata": {},
   "source": [
    "### LSTM Implementation\n",
    "\n",
    "Embedding Layer Initialisation, Dataloaders stays the same"
   ]
  },
  {
   "cell_type": "markdown",
   "id": "e9bcf481",
   "metadata": {},
   "source": [
    "In a bidirectional LSTM (BiLSTM), there are two sets of hidden states: one for the forward direction and one for the backward direction. Each set has its own hidden size, which is typically denoted as hidden_size.\n",
    "\n",
    "When you concatenate the forward and backward hidden states together, you effectively double the size of the hidden state. For example, if hidden_size is 128, then the concatenated hidden state size becomes 128 * 2 = 256. This is because you are combining the hidden states from both directions into a single vector."
   ]
  },
  {
   "cell_type": "code",
   "execution_count": 89,
   "id": "3420fa7f",
   "metadata": {},
   "outputs": [],
   "source": [
    "class vanillaLSTM(nn.Module):\n",
    "    \n",
    "    def __init__(self, word_vector_size, hidden_size, output_nodes):\n",
    "        super(vanillaLSTM, self).__init__()\n",
    "        \n",
    "        self.embedding_layer = nn.Embedding.from_pretrained(torch.FloatTensor(word_embeddings), freeze = True)\n",
    "        self.lstm = nn.LSTM(word_vector_size, hidden_size, batch_first = True, bidirectional = True)\n",
    "        self.fc = nn.Linear(hidden_size * 2, output_nodes)\n",
    "        self.softmax = nn.Softmax( dim = 1 )\n",
    "        \n",
    "        # There are 2*hidden_units in the linear layee bcz of the bidirectional nature of the LSTM\n",
    "        \n",
    "    def forward(self, x):\n",
    "        \n",
    "        embedding_output = self.embedding_layer(x)\n",
    "        output, hidden_state = self.lstm(embedding_output)\n",
    "        \n",
    "        # Average pooling along the sequence dimension\n",
    "        avg_pooled = torch.mean(output, dim=1)  \n",
    "\n",
    "        linear_output = self.fc(avg_pooled)\n",
    "        softmaxed_output= self.softmax(linear_output)\n",
    "        \n",
    "        return softmaxed_output"
   ]
  },
  {
   "cell_type": "code",
   "execution_count": 90,
   "id": "5ec99c35",
   "metadata": {},
   "outputs": [],
   "source": [
    "# Total number of tokens we have\n",
    "vocab_size = len(word2vec_model.wv)\n",
    "\n",
    "# Size of the embedding vector that will be created by the embedding layer\n",
    "word_vector_size = 100\n",
    "\n",
    "# no. of nodes in the RNN Layer\n",
    "hidden_size = 200\n",
    "\n",
    "# Number of classes\n",
    "output_size = 4  \n",
    "\n",
    "# no. of epochs\n",
    "num_epochs = 20"
   ]
  },
  {
   "cell_type": "code",
   "execution_count": 91,
   "id": "123ad9ec",
   "metadata": {},
   "outputs": [
    {
     "data": {
      "text/plain": [
       "vanillaLSTM(\n",
       "  (embedding_layer): Embedding(13628, 100)\n",
       "  (lstm): LSTM(100, 200, batch_first=True, bidirectional=True)\n",
       "  (fc): Linear(in_features=400, out_features=4, bias=True)\n",
       "  (softmax): Softmax(dim=1)\n",
       ")"
      ]
     },
     "execution_count": 91,
     "metadata": {},
     "output_type": "execute_result"
    }
   ],
   "source": [
    "# Instantiate LSTM\n",
    "\n",
    "vanillaLSTM = vanillaLSTM(word_vector_size, hidden_size, output_size).to(device)\n",
    "vanillaLSTM"
   ]
  },
  {
   "cell_type": "code",
   "execution_count": 92,
   "id": "95c4e2d0",
   "metadata": {},
   "outputs": [],
   "source": [
    "# Define optimizer for the LSTM\n",
    "\n",
    "optimizer_lstm = optim.AdamW(vanillaLSTM.parameters(), lr=0.00005)"
   ]
  },
  {
   "cell_type": "code",
   "execution_count": 93,
   "id": "66dcaa83",
   "metadata": {},
   "outputs": [
    {
     "data": {
      "application/vnd.jupyter.widget-view+json": {
       "model_id": "55a8983c946e43e3b04300dfdbec8766",
       "version_major": 2,
       "version_minor": 0
      },
      "text/plain": [
       "  0%|          | 0/20 [00:00<?, ?it/s]"
      ]
     },
     "metadata": {},
     "output_type": "display_data"
    },
    {
     "name": "stderr",
     "output_type": "stream",
     "text": [
      "/tmp/ipykernel_1218907/4133067633.py:14: UserWarning: To copy construct from a tensor, it is recommended to use sourceTensor.clone().detach() or sourceTensor.clone().detach().requires_grad_(True), rather than torch.tensor(sourceTensor).\n",
      "  return torch.tensor(tokens), torch.tensor(self.labels[idx])\n"
     ]
    },
    {
     "name": "stdout",
     "output_type": "stream",
     "text": [
      "Epoch:1 | Train loss: 1.3726 | Val loss: 1.3511 | Val accuracy: 62.5000\n",
      "Model Checkpoint Saved\n",
      "\n",
      "Epoch:2 | Train loss: 1.2732 | Val loss: 1.1570 | Val accuracy: 61.5385\n",
      "Epoch:3 | Train loss: 1.0608 | Val loss: 1.0509 | Val accuracy: 75.9615\n",
      "Model Checkpoint Saved\n",
      "\n",
      "Epoch:4 | Train loss: 1.0038 | Val loss: 1.0102 | Val accuracy: 77.4038\n",
      "Model Checkpoint Saved\n",
      "\n",
      "Epoch:5 | Train loss: 0.9730 | Val loss: 0.9743 | Val accuracy: 79.8077\n",
      "Model Checkpoint Saved\n",
      "\n",
      "Epoch:6 | Train loss: 0.9554 | Val loss: 0.9735 | Val accuracy: 78.3654\n",
      "Epoch:7 | Train loss: 0.9414 | Val loss: 0.9546 | Val accuracy: 80.2885\n",
      "Model Checkpoint Saved\n",
      "\n",
      "Epoch:8 | Train loss: 0.9323 | Val loss: 0.9425 | Val accuracy: 81.7308\n",
      "Model Checkpoint Saved\n",
      "\n",
      "Epoch:9 | Train loss: 0.9272 | Val loss: 0.9355 | Val accuracy: 82.6923\n",
      "Model Checkpoint Saved\n",
      "\n",
      "Epoch:10 | Train loss: 0.9198 | Val loss: 0.9309 | Val accuracy: 82.6923\n",
      "Epoch:11 | Train loss: 0.9131 | Val loss: 0.9254 | Val accuracy: 83.1731\n",
      "Model Checkpoint Saved\n",
      "\n",
      "Epoch:12 | Train loss: 0.9209 | Val loss: 0.9308 | Val accuracy: 82.6923\n",
      "Epoch:13 | Train loss: 0.9086 | Val loss: 0.9218 | Val accuracy: 82.6923\n",
      "Epoch:14 | Train loss: 0.9057 | Val loss: 0.9213 | Val accuracy: 82.2115\n",
      "Epoch:15 | Train loss: 0.9073 | Val loss: 0.9262 | Val accuracy: 82.2115\n",
      "Epoch:16 | Train loss: 0.8955 | Val loss: 0.9147 | Val accuracy: 82.2115\n",
      "Epoch:17 | Train loss: 0.8934 | Val loss: 0.9201 | Val accuracy: 82.2115\n",
      "Epoch:18 | Train loss: 0.8911 | Val loss: 0.9304 | Val accuracy: 81.2500\n",
      "Epoch:19 | Train loss: 0.8874 | Val loss: 0.9467 | Val accuracy: 78.8462\n",
      "Epoch:20 | Train loss: 0.8957 | Val loss: 0.9382 | Val accuracy: 80.2885\n"
     ]
    }
   ],
   "source": [
    "performance_metrics = []\n",
    "best_val_accuracy = 0\n",
    "\n",
    "for epoch in tqdm(range(num_epochs)):\n",
    "    \n",
    "    vanillaLSTM.train()\n",
    "    train_loss = 0\n",
    "    \n",
    "    for batch_idx, (X, y) in enumerate(train_loader):\n",
    "        \n",
    "        X, y = X.to(device), y.to(device)\n",
    "        y_pred = vanillaLSTM(X)\n",
    "                \n",
    "        # calculate batch accumulative loss\n",
    "        loss = loss_fn(y_pred, y)\n",
    "        train_loss += loss\n",
    "        \n",
    "        optimizer_lstm.zero_grad()\n",
    "        \n",
    "        loss.backward()\n",
    "        \n",
    "        optimizer_lstm.step()\n",
    "        \n",
    "    with torch.inference_mode():\n",
    "        \n",
    "        vanillaLSTM.eval()\n",
    "        val_loss, val_accuracy = 0,0\n",
    "        \n",
    "        for X_val, y_val in val_loader:\n",
    "            \n",
    "            X_val, y_val = X_val.to(device), y_val.to(device)\n",
    "            \n",
    "            y_val_pred = vanillaLSTM(X_val)\n",
    "            \n",
    "            loss = loss_fn(y_val_pred, y_val)\n",
    "            val_loss += loss\n",
    "            val_accuracy += accuracy_fn(y_val, y_val_pred.argmax(dim=1))\n",
    "        \n",
    "        # Calculate avg. loss & accuracy\n",
    "        \n",
    "        train_loss = train_loss/len(train_loader)\n",
    "        val_loss = val_loss/len(val_loader)\n",
    "        val_accuracy = val_accuracy/len(val_loader)\n",
    "        \n",
    "        print(f\"Epoch:{epoch+1} | Train loss: {train_loss:.4f} | Val loss: {val_loss:.4f} | Val accuracy: {val_accuracy:.4f}\")\n",
    "        performance_metrics.append(val_accuracy)\n",
    "\n",
    "        if val_accuracy > best_val_accuracy:\n",
    "            torch.save(vanillaLSTM.state_dict(), './wt_initialised_lstm.pth')\n",
    "            print('Model Checkpoint Saved\\n')\n",
    "            best_val_accuracy = val_accuracy"
   ]
  },
  {
   "cell_type": "markdown",
   "id": "469d4772",
   "metadata": {},
   "source": [
    "### Evaluation on Test Set"
   ]
  },
  {
   "cell_type": "code",
   "execution_count": 94,
   "id": "128c590a",
   "metadata": {},
   "outputs": [
    {
     "data": {
      "application/vnd.jupyter.widget-view+json": {
       "model_id": "97f78fc1f5c742f5bdf675b44ee6f215",
       "version_major": 2,
       "version_minor": 0
      },
      "text/plain": [
       "  0%|          | 0/32 [00:00<?, ?it/s]"
      ]
     },
     "metadata": {},
     "output_type": "display_data"
    },
    {
     "name": "stdout",
     "output_type": "stream",
     "text": [
      "Test loss: 0.9382 | Test accuracy: 80.8594\n"
     ]
    }
   ],
   "source": [
    "# Load the latest Best checkpoint saved above.\n",
    "\n",
    "y_predicted_list_lstm, y_test_true_lstm = [],[]\n",
    "\n",
    "vanillaLSTM.load_state_dict(torch.load('./wt_initialised_lstm.pth'))\n",
    "\n",
    "with torch.inference_mode():\n",
    "    vanillaLSTM.eval()\n",
    "    test_loss, test_accuracy = 0,0\n",
    "\n",
    "    for X_test, y_test in tqdm(test_loader):\n",
    "\n",
    "        X_test, y_test = X_test.to(device), y_test.to(device)\n",
    "        \n",
    "        y_test_pred = vanillaLSTM(X_test)\n",
    "        \n",
    "        y_predicted_list_lstm.append(y_test_pred.argmax(dim = 1))\n",
    "        y_test_true_lstm.append(y_test)\n",
    "\n",
    "        loss = loss_fn(y_test_pred, y_test)\n",
    "        test_loss += loss\n",
    "        test_accuracy += accuracy_fn(y_test, y_test_pred.argmax(dim=1))\n",
    "\n",
    "    # Calculate avg. loss & accuracy\n",
    "    \n",
    "    test_loss = test_loss/len(test_loader)\n",
    "    test_accuracy = test_accuracy/len(test_loader)\n",
    "\n",
    "    print(f\"Test loss: {test_loss:.4f} | Test accuracy: {test_accuracy:.4f}\")"
   ]
  },
  {
   "cell_type": "markdown",
   "id": "636f51ec",
   "metadata": {},
   "source": [
    "#### Test Accuracy of the Bi-LSTM"
   ]
  },
  {
   "cell_type": "code",
   "execution_count": 95,
   "id": "d90a2dee",
   "metadata": {},
   "outputs": [
    {
     "name": "stdout",
     "output_type": "stream",
     "text": [
      "Test Accuracy for the Bi-LSTM model is: 80.86 %\n"
     ]
    }
   ],
   "source": [
    "print(f'Test Accuracy for the Bi-LSTM model is: {test_accuracy:.2f} %')"
   ]
  },
  {
   "cell_type": "code",
   "execution_count": 96,
   "id": "ab5c6e72",
   "metadata": {},
   "outputs": [],
   "source": [
    "# Convert the list of tensors to a single list of elements\n",
    "\n",
    "y_predicted_list_lstm = [item for tensor in y_predicted_list_lstm for item in tensor.tolist()]\n",
    "y_test_true_lstm = [item for tensor in y_test_true_lstm for item in tensor.tolist()]"
   ]
  },
  {
   "cell_type": "markdown",
   "id": "07f83c72",
   "metadata": {},
   "source": [
    "#### F-1 Score"
   ]
  },
  {
   "cell_type": "code",
   "execution_count": 97,
   "id": "1f89677f",
   "metadata": {},
   "outputs": [
    {
     "name": "stdout",
     "output_type": "stream",
     "text": [
      "F1 Score for the model is: 0.8090\n"
     ]
    }
   ],
   "source": [
    "f1 = f1_score(np.array(y_test_true_lstm), np.array(y_predicted_list_lstm), average='weighted')\n",
    "print(f'F1 Score for the model is: {f1:.4f}')"
   ]
  },
  {
   "cell_type": "markdown",
   "id": "49f9cfc5",
   "metadata": {},
   "source": [
    "#### Confusion Matrix"
   ]
  },
  {
   "cell_type": "code",
   "execution_count": 98,
   "id": "ab4433ff",
   "metadata": {},
   "outputs": [
    {
     "data": {
      "image/png": "[encoded data removed]",
      "text/plain": [
       "<Figure size 700x400 with 1 Axes>"
      ]
     },
     "metadata": {},
     "output_type": "display_data"
    }
   ],
   "source": [
    "# Calculate confusion matrix\n",
    "cm = confusion_matrix(y_test_true_lstm, y_predicted_list_lstm)\n",
    "\n",
    "# Plot confusion matrix\n",
    "plt.figure(figsize=(7, 4))\n",
    "sns.heatmap(cm, annot=True, fmt='d', cmap='crest', cbar=False)\n",
    "plt.xlabel('Predicted Label')\n",
    "plt.ylabel('True Label')\n",
    "plt.title('Confusion Matrix')\n",
    "plt.show()"
   ]
  },
  {
   "cell_type": "markdown",
   "id": "c460d205",
   "metadata": {},
   "source": [
    "#### Write Predictions to CSV"
   ]
  },
  {
   "cell_type": "code",
   "execution_count": 99,
   "id": "1c4e330a",
   "metadata": {},
   "outputs": [
    {
     "data": {
      "text/html": [
       "<div>\n",
       "<style scoped>\n",
       "    .dataframe tbody tr th:only-of-type {\n",
       "        vertical-align: middle;\n",
       "    }\n",
       "\n",
       "    .dataframe tbody tr th {\n",
       "        vertical-align: top;\n",
       "    }\n",
       "\n",
       "    .dataframe thead th {\n",
       "        text-align: right;\n",
       "    }\n",
       "</style>\n",
       "<table border=\"1\" class=\"dataframe\">\n",
       "  <thead>\n",
       "    <tr style=\"text-align: right;\">\n",
       "      <th></th>\n",
       "      <th>index</th>\n",
       "      <th>text</th>\n",
       "      <th>label</th>\n",
       "    </tr>\n",
       "  </thead>\n",
       "  <tbody>\n",
       "    <tr>\n",
       "      <th>0</th>\n",
       "      <td>0</td>\n",
       "      <td>detainees seen minimal threat washington alleg...</td>\n",
       "      <td>0</td>\n",
       "    </tr>\n",
       "    <tr>\n",
       "      <th>1</th>\n",
       "      <td>1</td>\n",
       "      <td>japans army works plan cope north korean terro...</td>\n",
       "      <td>0</td>\n",
       "    </tr>\n",
       "    <tr>\n",
       "      <th>2</th>\n",
       "      <td>2</td>\n",
       "      <td>un council arrives nairobi un security council...</td>\n",
       "      <td>0</td>\n",
       "    </tr>\n",
       "    <tr>\n",
       "      <th>3</th>\n",
       "      <td>3</td>\n",
       "      <td>apec ministers urge new effort trade talks pac...</td>\n",
       "      <td>0</td>\n",
       "    </tr>\n",
       "    <tr>\n",
       "      <th>4</th>\n",
       "      <td>4</td>\n",
       "      <td>least five dead russia mine blast reuters reut...</td>\n",
       "      <td>0</td>\n",
       "    </tr>\n",
       "  </tbody>\n",
       "</table>\n",
       "</div>"
      ],
      "text/plain": [
       "   index                                               text  label\n",
       "0      0  detainees seen minimal threat washington alleg...      0\n",
       "1      1  japans army works plan cope north korean terro...      0\n",
       "2      2  un council arrives nairobi un security council...      0\n",
       "3      3  apec ministers urge new effort trade talks pac...      0\n",
       "4      4  least five dead russia mine blast reuters reut...      0"
      ]
     },
     "execution_count": 99,
     "metadata": {},
     "output_type": "execute_result"
    }
   ],
   "source": [
    "biLSTMModifiedTestSet = test_set.copy()\n",
    "biLSTMModifiedTestSet.head()"
   ]
  },
  {
   "cell_type": "code",
   "execution_count": 100,
   "id": "c0555d9d",
   "metadata": {},
   "outputs": [],
   "source": [
    "biLSTMModifiedTestSet['preds'] = y_predicted_list_lstm"
   ]
  },
  {
   "cell_type": "code",
   "execution_count": 101,
   "id": "96afb5dc",
   "metadata": {},
   "outputs": [],
   "source": [
    "biLSTMModifiedTestSet.to_csv('lstm_test.csv', index=False)"
   ]
  },
  {
   "cell_type": "code",
   "execution_count": 102,
   "id": "e140de70",
   "metadata": {},
   "outputs": [
    {
     "data": {
      "text/html": [
       "<div>\n",
       "<style scoped>\n",
       "    .dataframe tbody tr th:only-of-type {\n",
       "        vertical-align: middle;\n",
       "    }\n",
       "\n",
       "    .dataframe tbody tr th {\n",
       "        vertical-align: top;\n",
       "    }\n",
       "\n",
       "    .dataframe thead th {\n",
       "        text-align: right;\n",
       "    }\n",
       "</style>\n",
       "<table border=\"1\" class=\"dataframe\">\n",
       "  <thead>\n",
       "    <tr style=\"text-align: right;\">\n",
       "      <th></th>\n",
       "      <th>index</th>\n",
       "      <th>text</th>\n",
       "      <th>label</th>\n",
       "      <th>preds</th>\n",
       "    </tr>\n",
       "  </thead>\n",
       "  <tbody>\n",
       "    <tr>\n",
       "      <th>0</th>\n",
       "      <td>0</td>\n",
       "      <td>detainees seen minimal threat washington alleg...</td>\n",
       "      <td>0</td>\n",
       "      <td>0</td>\n",
       "    </tr>\n",
       "    <tr>\n",
       "      <th>1</th>\n",
       "      <td>1</td>\n",
       "      <td>japans army works plan cope north korean terro...</td>\n",
       "      <td>0</td>\n",
       "      <td>0</td>\n",
       "    </tr>\n",
       "    <tr>\n",
       "      <th>2</th>\n",
       "      <td>2</td>\n",
       "      <td>un council arrives nairobi un security council...</td>\n",
       "      <td>0</td>\n",
       "      <td>0</td>\n",
       "    </tr>\n",
       "    <tr>\n",
       "      <th>3</th>\n",
       "      <td>3</td>\n",
       "      <td>apec ministers urge new effort trade talks pac...</td>\n",
       "      <td>0</td>\n",
       "      <td>0</td>\n",
       "    </tr>\n",
       "    <tr>\n",
       "      <th>4</th>\n",
       "      <td>4</td>\n",
       "      <td>least five dead russia mine blast reuters reut...</td>\n",
       "      <td>0</td>\n",
       "      <td>0</td>\n",
       "    </tr>\n",
       "  </tbody>\n",
       "</table>\n",
       "</div>"
      ],
      "text/plain": [
       "   index                                               text  label  preds\n",
       "0      0  detainees seen minimal threat washington alleg...      0      0\n",
       "1      1  japans army works plan cope north korean terro...      0      0\n",
       "2      2  un council arrives nairobi un security council...      0      0\n",
       "3      3  apec ministers urge new effort trade talks pac...      0      0\n",
       "4      4  least five dead russia mine blast reuters reut...      0      0"
      ]
     },
     "execution_count": 102,
     "metadata": {},
     "output_type": "execute_result"
    }
   ],
   "source": [
    "# Test if the data has been written to the csv\n",
    "\n",
    "df = pd.read_csv('lstm_test.csv')\n",
    "df.head()"
   ]
  },
  {
   "cell_type": "code",
   "execution_count": null,
   "id": "293a81f7",
   "metadata": {},
   "outputs": [],
   "source": []
  },
  {
   "cell_type": "code",
   "execution_count": null,
   "id": "1291825f",
   "metadata": {},
   "outputs": [],
   "source": []
  },
  {
   "cell_type": "code",
   "execution_count": null,
   "id": "94751626",
   "metadata": {},
   "outputs": [],
   "source": []
  },
  {
   "cell_type": "code",
   "execution_count": null,
   "id": "abb2a13e",
   "metadata": {},
   "outputs": [],
   "source": []
  }
 ],
 "metadata": {
  "kernelspec": {
   "display_name": "Python 3 (ipykernel)",
   "language": "python",
   "name": "python3"
  },
  "language_info": {
   "codemirror_mode": {
    "name": "ipython",
    "version": 3
   },
   "file_extension": ".py",
   "mimetype": "text/x-python",
   "name": "python",
   "nbconvert_exporter": "python",
   "pygments_lexer": "ipython3",
   "version": "3.8.17"
  }
 },
 "nbformat": 4,
 "nbformat_minor": 5
}
