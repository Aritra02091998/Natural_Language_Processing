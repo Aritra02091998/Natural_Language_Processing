{
 "cells": [
  {
   "cell_type": "markdown",
   "id": "2f7ada30",
   "metadata": {},
   "source": [
    "### Bi-Directional RNN for News Classification\n",
    "\n",
    "Here we use Bi-Directional RNN to classify given news dataset into 4 classes:\n",
    "\n",
    "○ World (0)\n",
    "○ Sports (1)\n",
    "○ Business (2)\n",
    "○ Sci/Tech (3)\n",
    "\n",
    "We cleaned the dataset first:\n",
    "\n",
    "-> Converted the whole dataset to lower case.\n",
    "\n",
    "-> Removed stop words.\n",
    "\n",
    "-> Removed punctuation marks.\n",
    "\n",
    "-> Replaced numbers and words containing numbers as a sunstring with \"NUM\" tokens.\n",
    "\n",
    "We have used nn.Embedding layer here not to learn the embeddings, instead we have used word2vec word embeddings for the LSTM. Later we have initialized the nn.Embedding Layer with the word2vec learnt word embeddings.\n",
    "\n",
    "To learn the best possible embedding for the words in the dataset, we have trained the word2vec model for 50 epochs.\n",
    "\n",
    "We initialized word2vec model by the news sentences given in the dataset, and performed tokenization later using nltk to build the vocabulary.\n",
    "\n",
    "The vanilla RNN Variant scores 82.8 % approx on Test Set while the Bi-Directional-RNN Variant scores 83.39 % approx on Test Set."
   ]
  },
  {
   "cell_type": "code",
   "execution_count": 49,
   "id": "7b4c92ef",
   "metadata": {},
   "outputs": [],
   "source": [
    "import nltk\n",
    "import re\n",
    "import torch\n",
    "import pandas as pd\n",
    "import numpy as np\n",
    "import torch.nn as nn\n",
    "import torch.optim as optim\n",
    "from nltk.corpus import stopwords\n",
    "from nltk.tokenize import word_tokenize\n",
    "from tqdm.auto import tqdm\n",
    "from sklearn.model_selection import train_test_split\n",
    "from sklearn.metrics import f1_score\n",
    "from torch.utils.data import Dataset, DataLoader, TensorDataset\n",
    "from sklearn.metrics import confusion_matrix\n",
    "from sklearn.metrics import classification_report\n",
    "import matplotlib.pyplot as plt\n",
    "import seaborn as sns"
   ]
  },
  {
   "cell_type": "code",
   "execution_count": 50,
   "id": "52c97640",
   "metadata": {},
   "outputs": [],
   "source": [
    "import warnings\n",
    "warnings.filterwarnings(\"ignore\", category=UserWarning)\n"
   ]
  },
  {
   "cell_type": "markdown",
   "id": "fdbd8a12",
   "metadata": {},
   "source": [
    "### Load the train data"
   ]
  },
  {
   "cell_type": "code",
   "execution_count": 51,
   "id": "a3d58142",
   "metadata": {},
   "outputs": [],
   "source": [
    "train_set = pd.read_csv('./NLP3/train.csv')"
   ]
  },
  {
   "cell_type": "code",
   "execution_count": 52,
   "id": "64156dda",
   "metadata": {},
   "outputs": [
    {
     "data": {
      "text/html": [
       "<div>\n",
       "<style scoped>\n",
       "    .dataframe tbody tr th:only-of-type {\n",
       "        vertical-align: middle;\n",
       "    }\n",
       "\n",
       "    .dataframe tbody tr th {\n",
       "        vertical-align: top;\n",
       "    }\n",
       "\n",
       "    .dataframe thead th {\n",
       "        text-align: right;\n",
       "    }\n",
       "</style>\n",
       "<table border=\"1\" class=\"dataframe\">\n",
       "  <thead>\n",
       "    <tr style=\"text-align: right;\">\n",
       "      <th></th>\n",
       "      <th>index</th>\n",
       "      <th>text</th>\n",
       "      <th>label</th>\n",
       "    </tr>\n",
       "  </thead>\n",
       "  <tbody>\n",
       "    <tr>\n",
       "      <th>0</th>\n",
       "      <td>0</td>\n",
       "      <td>Zimbabwe annual inflation drops to 209 percent...</td>\n",
       "      <td>0</td>\n",
       "    </tr>\n",
       "    <tr>\n",
       "      <th>1</th>\n",
       "      <td>1</td>\n",
       "      <td>More than 1,000 dead in Haiti (09/23/04)-- A m...</td>\n",
       "      <td>0</td>\n",
       "    </tr>\n",
       "    <tr>\n",
       "      <th>2</th>\n",
       "      <td>2</td>\n",
       "      <td>Seven die in Japan  #39;suicide pact #39; Japa...</td>\n",
       "      <td>0</td>\n",
       "    </tr>\n",
       "    <tr>\n",
       "      <th>3</th>\n",
       "      <td>3</td>\n",
       "      <td>Security No. 1 for Afghan head President Hamid...</td>\n",
       "      <td>0</td>\n",
       "    </tr>\n",
       "    <tr>\n",
       "      <th>4</th>\n",
       "      <td>4</td>\n",
       "      <td>Palestinians say they hope Bush accepts dealin...</td>\n",
       "      <td>0</td>\n",
       "    </tr>\n",
       "    <tr>\n",
       "      <th>5</th>\n",
       "      <td>5</td>\n",
       "      <td>France Seeks Return of Reporters in Iraq Amid ...</td>\n",
       "      <td>0</td>\n",
       "    </tr>\n",
       "    <tr>\n",
       "      <th>6</th>\n",
       "      <td>6</td>\n",
       "      <td>Ads Make Closing Arguments in Campaign (AP) AP...</td>\n",
       "      <td>0</td>\n",
       "    </tr>\n",
       "    <tr>\n",
       "      <th>7</th>\n",
       "      <td>7</td>\n",
       "      <td>Mourning for submariner spans an ocean HALIFAX...</td>\n",
       "      <td>0</td>\n",
       "    </tr>\n",
       "    <tr>\n",
       "      <th>8</th>\n",
       "      <td>8</td>\n",
       "      <td>Palestinian Girl Killed in Gaza Strip, Medics ...</td>\n",
       "      <td>0</td>\n",
       "    </tr>\n",
       "    <tr>\n",
       "      <th>9</th>\n",
       "      <td>9</td>\n",
       "      <td>US Marine killed in Iraq #39;s western Anbar p...</td>\n",
       "      <td>0</td>\n",
       "    </tr>\n",
       "  </tbody>\n",
       "</table>\n",
       "</div>"
      ],
      "text/plain": [
       "   index                                               text  label\n",
       "0      0  Zimbabwe annual inflation drops to 209 percent...      0\n",
       "1      1  More than 1,000 dead in Haiti (09/23/04)-- A m...      0\n",
       "2      2  Seven die in Japan  #39;suicide pact #39; Japa...      0\n",
       "3      3  Security No. 1 for Afghan head President Hamid...      0\n",
       "4      4  Palestinians say they hope Bush accepts dealin...      0\n",
       "5      5  France Seeks Return of Reporters in Iraq Amid ...      0\n",
       "6      6  Ads Make Closing Arguments in Campaign (AP) AP...      0\n",
       "7      7  Mourning for submariner spans an ocean HALIFAX...      0\n",
       "8      8  Palestinian Girl Killed in Gaza Strip, Medics ...      0\n",
       "9      9  US Marine killed in Iraq #39;s western Anbar p...      0"
      ]
     },
     "execution_count": 52,
     "metadata": {},
     "output_type": "execute_result"
    }
   ],
   "source": [
    "train_set.head(10)"
   ]
  },
  {
   "cell_type": "code",
   "execution_count": 53,
   "id": "b69c5f10",
   "metadata": {},
   "outputs": [
    {
     "name": "stdout",
     "output_type": "stream",
     "text": [
      "Train set contains total 2000 rows with [0 1 2 3] unique classes(labels)\n"
     ]
    }
   ],
   "source": [
    "print(f'Train set contains total {len(train_set)} rows with {train_set.label.unique()} unique classes(labels)')"
   ]
  },
  {
   "cell_type": "code",
   "execution_count": 54,
   "id": "ff3afc98",
   "metadata": {},
   "outputs": [],
   "source": [
    "y_train_raw = train_set['label']"
   ]
  },
  {
   "cell_type": "code",
   "execution_count": 55,
   "id": "b95cef1b",
   "metadata": {},
   "outputs": [],
   "source": [
    "# y_train_raw"
   ]
  },
  {
   "cell_type": "markdown",
   "id": "a603ae06",
   "metadata": {},
   "source": [
    "### Pre-Processing"
   ]
  },
  {
   "cell_type": "code",
   "execution_count": 56,
   "id": "98f67971",
   "metadata": {},
   "outputs": [],
   "source": [
    "def remove_symbols(text):\n",
    "    pattern = r'[^\\w\\s]'  \n",
    "    cleaned_text = re.sub(pattern, '', text)\n",
    "    return cleaned_text"
   ]
  },
  {
   "cell_type": "code",
   "execution_count": 57,
   "id": "fda6a3d6",
   "metadata": {},
   "outputs": [],
   "source": [
    "def remove_stopwords(text):\n",
    "    \n",
    "    stopwords_set = set(stopwords.words('english'))\n",
    "    text = text.split()\n",
    "    stopwords_removed_text = [word for word in text if word.lower() not in stopwords_set]\n",
    "    \n",
    "    return ' '.join(stopwords_removed_text)"
   ]
  },
  {
   "cell_type": "code",
   "execution_count": 58,
   "id": "ddabb169",
   "metadata": {},
   "outputs": [],
   "source": [
    "train_set['text'] = train_set['text'].apply(lambda x: x.lower()) \n",
    "train_set['text'] = train_set['text'].apply(remove_symbols) \n",
    "train_set['text'] = train_set['text'].apply(remove_stopwords) \n",
    "train_set['text'] = train_set['text'].apply(lambda x: x.replace('\\\\', ' ')) \n",
    "train_set['text'] = train_set['text'].replace(r'\\b[a-zA-Z]*\\d+[a-zA-Z]*\\b', 'NUM', regex=True)"
   ]
  },
  {
   "cell_type": "code",
   "execution_count": 59,
   "id": "90282f2a",
   "metadata": {},
   "outputs": [
    {
     "data": {
      "text/html": [
       "<div>\n",
       "<style scoped>\n",
       "    .dataframe tbody tr th:only-of-type {\n",
       "        vertical-align: middle;\n",
       "    }\n",
       "\n",
       "    .dataframe tbody tr th {\n",
       "        vertical-align: top;\n",
       "    }\n",
       "\n",
       "    .dataframe thead th {\n",
       "        text-align: right;\n",
       "    }\n",
       "</style>\n",
       "<table border=\"1\" class=\"dataframe\">\n",
       "  <thead>\n",
       "    <tr style=\"text-align: right;\">\n",
       "      <th></th>\n",
       "      <th>index</th>\n",
       "      <th>text</th>\n",
       "      <th>label</th>\n",
       "    </tr>\n",
       "  </thead>\n",
       "  <tbody>\n",
       "    <tr>\n",
       "      <th>0</th>\n",
       "      <td>0</td>\n",
       "      <td>zimbabwe annual inflation drops NUM percent re...</td>\n",
       "      <td>0</td>\n",
       "    </tr>\n",
       "    <tr>\n",
       "      <th>1</th>\n",
       "      <td>1</td>\n",
       "      <td>NUM dead haiti NUM mass grave haiti holds NUM ...</td>\n",
       "      <td>0</td>\n",
       "    </tr>\n",
       "    <tr>\n",
       "      <th>2</th>\n",
       "      <td>2</td>\n",
       "      <td>seven die japan NUM pact NUM japanese police f...</td>\n",
       "      <td>0</td>\n",
       "    </tr>\n",
       "    <tr>\n",
       "      <th>3</th>\n",
       "      <td>3</td>\n",
       "      <td>security NUM afghan head president hamid karza...</td>\n",
       "      <td>0</td>\n",
       "    </tr>\n",
       "    <tr>\n",
       "      <th>4</th>\n",
       "      <td>4</td>\n",
       "      <td>palestinians say hope bush accepts dealing ara...</td>\n",
       "      <td>0</td>\n",
       "    </tr>\n",
       "  </tbody>\n",
       "</table>\n",
       "</div>"
      ],
      "text/plain": [
       "   index                                               text  label\n",
       "0      0  zimbabwe annual inflation drops NUM percent re...      0\n",
       "1      1  NUM dead haiti NUM mass grave haiti holds NUM ...      0\n",
       "2      2  seven die japan NUM pact NUM japanese police f...      0\n",
       "3      3  security NUM afghan head president hamid karza...      0\n",
       "4      4  palestinians say hope bush accepts dealing ara...      0"
      ]
     },
     "execution_count": 59,
     "metadata": {},
     "output_type": "execute_result"
    }
   ],
   "source": [
    "train_set.head(5)"
   ]
  },
  {
   "cell_type": "code",
   "execution_count": null,
   "id": "bc446967",
   "metadata": {},
   "outputs": [],
   "source": []
  },
  {
   "cell_type": "markdown",
   "id": "2ce4d25b",
   "metadata": {},
   "source": [
    "### Load the Test Data"
   ]
  },
  {
   "cell_type": "code",
   "execution_count": 60,
   "id": "8bbddf03",
   "metadata": {},
   "outputs": [],
   "source": [
    "test_set = pd.read_csv('./NLP3/test.csv')"
   ]
  },
  {
   "cell_type": "code",
   "execution_count": 61,
   "id": "38f0c74b",
   "metadata": {},
   "outputs": [
    {
     "name": "stdout",
     "output_type": "stream",
     "text": [
      "Test set contains total 500 rows with [0 1 2 3] unique classes(labels)\n"
     ]
    }
   ],
   "source": [
    "print(f'Test set contains total {len(test_set)} rows with {test_set.label.unique()} unique classes(labels)')"
   ]
  },
  {
   "cell_type": "code",
   "execution_count": 62,
   "id": "c2442314",
   "metadata": {},
   "outputs": [],
   "source": [
    "y_test_raw = test_set['label']"
   ]
  },
  {
   "cell_type": "code",
   "execution_count": 63,
   "id": "3f80ca42",
   "metadata": {},
   "outputs": [],
   "source": [
    "# y_test_raw"
   ]
  },
  {
   "cell_type": "code",
   "execution_count": 64,
   "id": "40980d0d",
   "metadata": {},
   "outputs": [],
   "source": [
    "test_set['text'] = test_set['text'].apply(lambda x: x.lower()) \n",
    "test_set['text'] = test_set['text'].apply(remove_symbols) \n",
    "test_set['text'] = test_set['text'].apply(remove_stopwords) \n",
    "test_set['text'] = test_set['text'].apply(lambda x: x.replace('\\\\', ' ')) \n",
    "test_set['text'] = test_set['text'].replace(r'\\b[a-zA-Z]*\\d+[a-zA-Z]*\\b', 'NUM', regex=True)"
   ]
  },
  {
   "cell_type": "code",
   "execution_count": 65,
   "id": "3618fcb3",
   "metadata": {},
   "outputs": [
    {
     "data": {
      "text/html": [
       "<div>\n",
       "<style scoped>\n",
       "    .dataframe tbody tr th:only-of-type {\n",
       "        vertical-align: middle;\n",
       "    }\n",
       "\n",
       "    .dataframe tbody tr th {\n",
       "        vertical-align: top;\n",
       "    }\n",
       "\n",
       "    .dataframe thead th {\n",
       "        text-align: right;\n",
       "    }\n",
       "</style>\n",
       "<table border=\"1\" class=\"dataframe\">\n",
       "  <thead>\n",
       "    <tr style=\"text-align: right;\">\n",
       "      <th></th>\n",
       "      <th>index</th>\n",
       "      <th>text</th>\n",
       "      <th>label</th>\n",
       "    </tr>\n",
       "  </thead>\n",
       "  <tbody>\n",
       "    <tr>\n",
       "      <th>0</th>\n",
       "      <td>0</td>\n",
       "      <td>detainees seen minimal threat washington alleg...</td>\n",
       "      <td>0</td>\n",
       "    </tr>\n",
       "    <tr>\n",
       "      <th>1</th>\n",
       "      <td>1</td>\n",
       "      <td>japans army works plan cope north korean terro...</td>\n",
       "      <td>0</td>\n",
       "    </tr>\n",
       "    <tr>\n",
       "      <th>2</th>\n",
       "      <td>2</td>\n",
       "      <td>un council arrives nairobi un security council...</td>\n",
       "      <td>0</td>\n",
       "    </tr>\n",
       "    <tr>\n",
       "      <th>3</th>\n",
       "      <td>3</td>\n",
       "      <td>apec ministers urge new effort trade talks pac...</td>\n",
       "      <td>0</td>\n",
       "    </tr>\n",
       "    <tr>\n",
       "      <th>4</th>\n",
       "      <td>4</td>\n",
       "      <td>least five dead russia mine blast reuters reut...</td>\n",
       "      <td>0</td>\n",
       "    </tr>\n",
       "  </tbody>\n",
       "</table>\n",
       "</div>"
      ],
      "text/plain": [
       "   index                                               text  label\n",
       "0      0  detainees seen minimal threat washington alleg...      0\n",
       "1      1  japans army works plan cope north korean terro...      0\n",
       "2      2  un council arrives nairobi un security council...      0\n",
       "3      3  apec ministers urge new effort trade talks pac...      0\n",
       "4      4  least five dead russia mine blast reuters reut...      0"
      ]
     },
     "execution_count": 65,
     "metadata": {},
     "output_type": "execute_result"
    }
   ],
   "source": [
    "test_set.head()"
   ]
  },
  {
   "cell_type": "code",
   "execution_count": null,
   "id": "872eb178",
   "metadata": {},
   "outputs": [],
   "source": []
  },
  {
   "cell_type": "markdown",
   "id": "a965e09a",
   "metadata": {},
   "source": [
    "### Vocabulary Creation"
   ]
  },
  {
   "cell_type": "code",
   "execution_count": 66,
   "id": "e12d37f7",
   "metadata": {},
   "outputs": [],
   "source": [
    "def tokenize_sentence(sentence):\n",
    "    return word_tokenize(sentence)"
   ]
  },
  {
   "cell_type": "code",
   "execution_count": 67,
   "id": "aa48fc29",
   "metadata": {},
   "outputs": [
    {
     "data": {
      "text/plain": [
       "2500"
      ]
     },
     "execution_count": 67,
     "metadata": {},
     "output_type": "execute_result"
    }
   ],
   "source": [
    "sentences = train_set['text'].tolist() + test_set['text'].tolist()\n",
    "len(sentences)"
   ]
  },
  {
   "cell_type": "code",
   "execution_count": 68,
   "id": "ef384d46",
   "metadata": {},
   "outputs": [
    {
     "data": {
      "text/plain": [
       "2500"
      ]
     },
     "execution_count": 68,
     "metadata": {},
     "output_type": "execute_result"
    }
   ],
   "source": [
    "tokenized_sentences = [tokenize_sentence(sentence) for sentence in sentences]\n",
    "len(tokenized_sentences)"
   ]
  },
  {
   "cell_type": "markdown",
   "id": "3f39112b",
   "metadata": {},
   "source": [
    "##### Word2VEC"
   ]
  },
  {
   "cell_type": "code",
   "execution_count": 69,
   "id": "86acdd97",
   "metadata": {},
   "outputs": [],
   "source": [
    "import gensim\n",
    "from gensim.models import Word2Vec"
   ]
  },
  {
   "cell_type": "code",
   "execution_count": 70,
   "id": "91c3ec35",
   "metadata": {},
   "outputs": [],
   "source": [
    "word2vec_model = Word2Vec(tokenized_sentences, vector_size=100, window=5, min_count=1, workers=4)"
   ]
  },
  {
   "cell_type": "code",
   "execution_count": 71,
   "id": "2fc5753a",
   "metadata": {},
   "outputs": [
    {
     "name": "stdout",
     "output_type": "stream",
     "text": [
      "CPU times: user 5.44 s, sys: 52.1 ms, total: 5.49 s\n",
      "Wall time: 1.94 s\n"
     ]
    },
    {
     "data": {
      "text/plain": [
       "(3076549, 3252800)"
      ]
     },
     "execution_count": 71,
     "metadata": {},
     "output_type": "execute_result"
    }
   ],
   "source": [
    "%%time\n",
    "\n",
    "word2vec_model.train(tokenized_sentences, total_examples=len(tokenized_sentences), epochs = 50)"
   ]
  },
  {
   "cell_type": "code",
   "execution_count": null,
   "id": "397021a4",
   "metadata": {},
   "outputs": [],
   "source": []
  },
  {
   "cell_type": "code",
   "execution_count": 72,
   "id": "7d625ae6",
   "metadata": {},
   "outputs": [],
   "source": [
    "# Vocabulary and word embeddings\n",
    "\n",
    "vocabulary = word2vec_model.wv.index_to_key\n",
    "word_embeddings = np.array([word2vec_model.wv[word] for word in vocabulary])"
   ]
  },
  {
   "cell_type": "code",
   "execution_count": 73,
   "id": "47119d81",
   "metadata": {},
   "outputs": [
    {
     "name": "stdout",
     "output_type": "stream",
     "text": [
      "Size of the vocabulary we have: 13628\n",
      "And Shape of the word embeddings is: (13628, 100)        \n",
      "Size of the each word vector is: 100\n"
     ]
    }
   ],
   "source": [
    "print(f'Size of the vocabulary we have: {len(vocabulary)}\\nAnd Shape of the word embeddings is: {word_embeddings.shape}\\\n",
    "        \\nSize of the each word vector is: {word_embeddings.shape[1]}'\n",
    "     )"
   ]
  },
  {
   "cell_type": "markdown",
   "id": "363eca01",
   "metadata": {},
   "source": [
    "###### Separating Train and Test Set"
   ]
  },
  {
   "cell_type": "code",
   "execution_count": 74,
   "id": "d00be9ff",
   "metadata": {},
   "outputs": [
    {
     "name": "stdout",
     "output_type": "stream",
     "text": [
      "X_train_val is of length: 2000\n"
     ]
    }
   ],
   "source": [
    "X_train_val = tokenized_sentences[:2000]\n",
    "print(f'X_train_val is of length: {len(X_train_val)}')"
   ]
  },
  {
   "cell_type": "code",
   "execution_count": 75,
   "id": "f003cc1a",
   "metadata": {},
   "outputs": [
    {
     "name": "stdout",
     "output_type": "stream",
     "text": [
      "y_train_val is of length: 2000\n"
     ]
    }
   ],
   "source": [
    "y_train_val = list(y_train_raw) \n",
    "y_train_val = torch.tensor(y_train_val)\n",
    "print(f'y_train_val is of length: {len(y_train_val)}')"
   ]
  },
  {
   "cell_type": "code",
   "execution_count": 76,
   "id": "ebd985e8",
   "metadata": {},
   "outputs": [
    {
     "name": "stdout",
     "output_type": "stream",
     "text": [
      "X_test is of length: 500\n",
      "y_test is of length: 500\n"
     ]
    }
   ],
   "source": [
    "X_test = tokenized_sentences[2000:]\n",
    "y_test = y_test_raw\n",
    "\n",
    "print(f'X_test is of length: {len(X_test)}\\ny_test is of length: {len(y_test)}')"
   ]
  },
  {
   "cell_type": "markdown",
   "id": "1b5ac264",
   "metadata": {},
   "source": [
    "###### X will be converted later to numeric_indices by the word2vec.wv in the training loop"
   ]
  },
  {
   "cell_type": "code",
   "execution_count": 77,
   "id": "41e86276",
   "metadata": {},
   "outputs": [],
   "source": [
    "# Split data into train and test sets\n",
    "\n",
    "X_train, X_val, y_train, y_val = train_test_split(X_train_val, y_train_val, test_size=0.2, random_state=42)\n"
   ]
  },
  {
   "cell_type": "code",
   "execution_count": 78,
   "id": "bdbaed51",
   "metadata": {},
   "outputs": [
    {
     "name": "stdout",
     "output_type": "stream",
     "text": [
      "Lengh of X_train is 1600\n",
      "Lengh of y_train is 1600 \n",
      "\n",
      "Lengh of X_train is 400\n",
      "Lengh of y_test is 400\n"
     ]
    }
   ],
   "source": [
    "print(f'Lengh of X_train is {len(X_train)}')\n",
    "print(f'Lengh of y_train is {len(y_train)} \\n')\n",
    "print(f'Lengh of X_train is {len(X_val)}')\n",
    "print(f'Lengh of y_test is {len(y_val)}')"
   ]
  },
  {
   "cell_type": "markdown",
   "id": "31bc3234",
   "metadata": {},
   "source": [
    "#### Dataset and Dataloader Creation"
   ]
  },
  {
   "cell_type": "code",
   "execution_count": 79,
   "id": "9a7dfc92",
   "metadata": {},
   "outputs": [],
   "source": [
    "class NewsDataset(Dataset):\n",
    "    \n",
    "    def __init__(self, data, labels, vocab):\n",
    "        self.data = data\n",
    "        self.labels = labels\n",
    "        self.vocab = vocab\n",
    "\n",
    "    def __len__(self):\n",
    "        return len(self.data)\n",
    "\n",
    "    def __getitem__(self, idx):\n",
    "        news = self.data[idx]\n",
    "        tokens = [self.vocab.index(word) for word in news]\n",
    "        return torch.tensor(tokens), torch.tensor(self.labels[idx])\n"
   ]
  },
  {
   "cell_type": "code",
   "execution_count": 80,
   "id": "14c50eaf",
   "metadata": {},
   "outputs": [],
   "source": [
    "def pad_sequences(batch):\n",
    "    \n",
    "    batch_size = len(batch)\n",
    "    max_len = max([len(seq) for seq, _ in batch])\n",
    "    padded_seqs = torch.zeros(batch_size, max_len, dtype=torch.long)\n",
    "    labels = torch.zeros(batch_size, dtype=torch.long)\n",
    "    for i, (seq, label) in enumerate(batch):\n",
    "        padded_seqs[i, :len(seq)] = seq\n",
    "        labels[i] = label\n",
    "    return padded_seqs, labels"
   ]
  },
  {
   "cell_type": "code",
   "execution_count": 81,
   "id": "e4d05469",
   "metadata": {},
   "outputs": [],
   "source": [
    "train_dataset = NewsDataset(X_train, y_train, vocabulary)\n",
    "train_loader = DataLoader(train_dataset, batch_size = 16, shuffle=True, collate_fn = pad_sequences)"
   ]
  },
  {
   "cell_type": "code",
   "execution_count": 82,
   "id": "6a45f6f5",
   "metadata": {},
   "outputs": [],
   "source": [
    "val_dataset = NewsDataset(X_val, y_val, vocabulary)\n",
    "val_loader = DataLoader(val_dataset, batch_size = 16, shuffle=True, collate_fn = pad_sequences)"
   ]
  },
  {
   "cell_type": "code",
   "execution_count": 83,
   "id": "3f3eaf2c",
   "metadata": {},
   "outputs": [],
   "source": [
    "test_dataset = NewsDataset(X_test, y_test, vocabulary)\n",
    "test_loader = DataLoader(test_dataset, batch_size = 16, shuffle=True, collate_fn = pad_sequences)"
   ]
  },
  {
   "cell_type": "code",
   "execution_count": 84,
   "id": "058e441a",
   "metadata": {},
   "outputs": [],
   "source": [
    "def accuracy_fn(y_true, y_pred):\n",
    "    \n",
    "    correct = torch.eq(y_true, y_pred).sum().item()\n",
    "    accuracy = ( correct/len(y_pred) ) * 100\n",
    "    \n",
    "    return accuracy"
   ]
  },
  {
   "cell_type": "markdown",
   "id": "13859120",
   "metadata": {},
   "source": [
    "#### Define the Architecture"
   ]
  },
  {
   "cell_type": "markdown",
   "id": "010a72e9",
   "metadata": {},
   "source": [
    "Obsv: Average pooling increasing the accuracy from 45% to 81 % almost double. Sowe are using average pooling here on the output of the RNN"
   ]
  },
  {
   "cell_type": "code",
   "execution_count": 85,
   "id": "45d8ac29",
   "metadata": {},
   "outputs": [],
   "source": [
    "# Define the vanilla RNN model with custom embedding layer\n",
    "\n",
    "class vanillaBiRNN(nn.Module):\n",
    "    \n",
    "    def __init__(self, word_vector_size, hidden_size, output_size):\n",
    "        super(vanillaBiRNN, self).__init__()\n",
    "\n",
    "        self.embedding_layer = nn.Embedding.from_pretrained(torch.FloatTensor(word_embeddings), freeze = True)\n",
    "        self.rnn = nn.RNN(word_vector_size, hidden_size, batch_first = True, bidirectional = True)\n",
    "        self.fc = nn.Linear(hidden_size * 2, output_size)\n",
    "        self.softmax = nn.Softmax(dim = 1)\n",
    "\n",
    "    # There are 2*hidden_units in the linear layee bcz of the bidirectional nature of the RNN\n",
    "\n",
    "    def forward(self, x):\n",
    "        \n",
    "        embedded = self.embedding_layer(x)\n",
    "        output, _ = self.rnn(embedded)\n",
    "        \n",
    "        # Average pooling along the sequence dimension\n",
    "        avg_pooled = torch.mean(output, dim=1)  # Compute mean across the sequence dimension (dimension 1)\n",
    "        output = self.fc(avg_pooled)  \n",
    "        \n",
    "        softMaxedOutput = self.softmax(output)\n",
    "\n",
    "        return output"
   ]
  },
  {
   "cell_type": "code",
   "execution_count": 86,
   "id": "195f2db2",
   "metadata": {},
   "outputs": [],
   "source": [
    "# Total number of tokens we have\n",
    "vocab_size = len(word2vec_model.wv)\n",
    "\n",
    "# Size of the embedding vector that will be created by the embedding layer\n",
    "word_vector_size = 100\n",
    "\n",
    "# no. of nodes in the RNN Layer\n",
    "hidden_size = 200\n",
    "\n",
    "# Number of classes\n",
    "output_size = 4  \n",
    "\n",
    "# Number of epochs\n",
    "num_epochs = 20"
   ]
  },
  {
   "cell_type": "code",
   "execution_count": 87,
   "id": "444597e7",
   "metadata": {},
   "outputs": [
    {
     "data": {
      "text/plain": [
       "'cuda'"
      ]
     },
     "execution_count": 87,
     "metadata": {},
     "output_type": "execute_result"
    }
   ],
   "source": [
    "device = 'cuda' if torch.cuda.is_available() else 'cpu'\n",
    "device"
   ]
  },
  {
   "cell_type": "code",
   "execution_count": 88,
   "id": "b8ddf611",
   "metadata": {},
   "outputs": [
    {
     "data": {
      "text/plain": [
       "vanillaBiRNN(\n",
       "  (embedding_layer): Embedding(13628, 100)\n",
       "  (rnn): RNN(100, 200, batch_first=True, bidirectional=True)\n",
       "  (fc): Linear(in_features=400, out_features=4, bias=True)\n",
       "  (softmax): Softmax(dim=1)\n",
       ")"
      ]
     },
     "execution_count": 88,
     "metadata": {},
     "output_type": "execute_result"
    }
   ],
   "source": [
    "biRNN = vanillaBiRNN(word_vector_size, hidden_size, output_size).to(device)\n",
    "biRNN"
   ]
  },
  {
   "cell_type": "code",
   "execution_count": 89,
   "id": "a2234f0b",
   "metadata": {},
   "outputs": [],
   "source": [
    "# Define loss function and optimizer\n",
    "\n",
    "loss_fn = nn.CrossEntropyLoss()\n",
    "optimizer = optim.Adam(biRNN.parameters(), lr = 0.0001)"
   ]
  },
  {
   "cell_type": "markdown",
   "id": "1b8e8b2b",
   "metadata": {},
   "source": [
    "Adam, 0.02, 28.50, epochs = 60\n",
    "\n",
    "Adam, 0.002, 35.50, epochs = 60\n",
    "\n",
    "Adam, 0.005, 30.25, epochs = 60\n",
    "\n",
    "Adam, 0.0005, 44.75, epochs = 60\n",
    "\n",
    "AdamW, 0.0005, 45.00, epochs = 60\n",
    "\n",
    "AdamW, 0.00005, 47.00, epochs = 60\n",
    "\n",
    "AdamW, 0.00005, 44.75, epochs = 100\n",
    "\n",
    "AdamW, 0.00005, 66.25, epochs = 25\n"
   ]
  },
  {
   "cell_type": "markdown",
   "id": "19951f0f",
   "metadata": {},
   "source": [
    "##### Training Loop"
   ]
  },
  {
   "cell_type": "code",
   "execution_count": 90,
   "id": "7d01ed8b",
   "metadata": {},
   "outputs": [
    {
     "data": {
      "application/vnd.jupyter.widget-view+json": {
       "model_id": "b4ee233673d8493380259ac0ec8af783",
       "version_major": 2,
       "version_minor": 0
      },
      "text/plain": [
       "  0%|          | 0/20 [00:00<?, ?it/s]"
      ]
     },
     "metadata": {},
     "output_type": "display_data"
    },
    {
     "name": "stdout",
     "output_type": "stream",
     "text": [
      "Epoch:1 | Train loss: 1.1271 | Val loss: 0.8116 | Val accuracy: 71.0000\n",
      "Model State Dict Saved\n",
      "\n",
      "Epoch:2 | Train loss: 0.6605 | Val loss: 0.5774 | Val accuracy: 80.7500\n",
      "Model State Dict Saved\n",
      "\n",
      "Epoch:3 | Train loss: 0.5804 | Val loss: 0.5420 | Val accuracy: 80.7500\n",
      "Epoch:4 | Train loss: 0.5448 | Val loss: 0.5726 | Val accuracy: 80.0000\n",
      "Epoch:5 | Train loss: 0.5383 | Val loss: 0.5541 | Val accuracy: 80.5000\n",
      "Epoch:6 | Train loss: 0.5149 | Val loss: 0.5413 | Val accuracy: 81.7500\n",
      "Model State Dict Saved\n",
      "\n",
      "Epoch:7 | Train loss: 0.5010 | Val loss: 0.5126 | Val accuracy: 81.7500\n",
      "Epoch:8 | Train loss: 0.4964 | Val loss: 0.5009 | Val accuracy: 82.2500\n",
      "Model State Dict Saved\n",
      "\n",
      "Epoch:9 | Train loss: 0.4816 | Val loss: 0.4843 | Val accuracy: 83.0000\n",
      "Model State Dict Saved\n",
      "\n",
      "Epoch:10 | Train loss: 0.4772 | Val loss: 0.5121 | Val accuracy: 79.7500\n",
      "Epoch:11 | Train loss: 0.4765 | Val loss: 0.5344 | Val accuracy: 80.0000\n",
      "Epoch:12 | Train loss: 0.4817 | Val loss: 0.5003 | Val accuracy: 81.7500\n",
      "Epoch:13 | Train loss: 0.4778 | Val loss: 0.4943 | Val accuracy: 83.5000\n",
      "Model State Dict Saved\n",
      "\n",
      "Epoch:14 | Train loss: 0.4632 | Val loss: 0.4910 | Val accuracy: 83.0000\n",
      "Epoch:15 | Train loss: 0.4588 | Val loss: 0.4941 | Val accuracy: 83.0000\n",
      "Epoch:16 | Train loss: 0.4533 | Val loss: 0.4850 | Val accuracy: 81.7500\n",
      "Epoch:17 | Train loss: 0.4546 | Val loss: 0.5021 | Val accuracy: 82.7500\n",
      "Epoch:18 | Train loss: 0.4448 | Val loss: 0.5241 | Val accuracy: 80.5000\n",
      "Epoch:19 | Train loss: 0.4325 | Val loss: 0.4772 | Val accuracy: 82.0000\n",
      "Epoch:20 | Train loss: 0.4436 | Val loss: 0.4712 | Val accuracy: 82.7500\n"
     ]
    }
   ],
   "source": [
    "performance_metrics = []\n",
    "best_val_accuracy = 0\n",
    "\n",
    "for epoch in tqdm(range(num_epochs)):\n",
    "    \n",
    "    biRNN.train()\n",
    "    train_loss = 0\n",
    "    \n",
    "    for batch_idx, (X, y) in enumerate(train_loader):\n",
    "        \n",
    "        X, y = X.to(device), y.to(device)\n",
    "        \n",
    "        y_pred = biRNN(X)\n",
    "                \n",
    "        # calculate batch accumulative loss\n",
    "        loss = loss_fn(y_pred, y)\n",
    "        train_loss += loss\n",
    "        \n",
    "        optimizer.zero_grad()\n",
    "        \n",
    "        loss.backward()\n",
    "        \n",
    "        optimizer.step()\n",
    "        \n",
    "    with torch.inference_mode():\n",
    "        \n",
    "        biRNN.eval()\n",
    "        val_loss, val_accuracy = 0,0\n",
    "        \n",
    "        for X_val, y_val in val_loader:\n",
    "            \n",
    "            X_val, y_val = X_val.to(device), y_val.to(device)\n",
    "            \n",
    "            y_val_pred = biRNN(X_val)\n",
    "            \n",
    "            loss = loss_fn(y_val_pred, y_val)\n",
    "            val_loss += loss\n",
    "            val_accuracy += accuracy_fn(y_val, y_val_pred.argmax(dim=1))\n",
    "        \n",
    "        # Calculate avg. loss & accuracy\n",
    "        \n",
    "        train_loss = train_loss / len(train_loader)\n",
    "        val_loss = val_loss / len(val_loader)\n",
    "        val_accuracy = val_accuracy / len(val_loader)\n",
    "        \n",
    "        print(f\"Epoch:{epoch+1} | Train loss: {train_loss:.4f} | Val loss: {val_loss:.4f} | Val accuracy: {val_accuracy:.4f}\")\n",
    "        performance_metrics.append(val_accuracy)\n",
    "\n",
    "        if val_accuracy > best_val_accuracy:\n",
    "            torch.save(biRNN.state_dict(), './best_biRNN_model.pth')\n",
    "            print('Model State Dict Saved\\n')\n",
    "            best_val_accuracy = val_accuracy"
   ]
  },
  {
   "cell_type": "markdown",
   "id": "c31839d4",
   "metadata": {},
   "source": [
    "### Evaluation on Test Set"
   ]
  },
  {
   "cell_type": "code",
   "execution_count": 91,
   "id": "f934e9d3",
   "metadata": {},
   "outputs": [
    {
     "data": {
      "application/vnd.jupyter.widget-view+json": {
       "model_id": "ca4a8eddabae42b0b1267403a89324dc",
       "version_major": 2,
       "version_minor": 0
      },
      "text/plain": [
       "  0%|          | 0/32 [00:00<?, ?it/s]"
      ]
     },
     "metadata": {},
     "output_type": "display_data"
    },
    {
     "name": "stdout",
     "output_type": "stream",
     "text": [
      "Test loss: 0.4919 | Test accuracy: 82.81\n"
     ]
    }
   ],
   "source": [
    "# Load the latest Best checkpoint saved above.\n",
    "y_predicted_list, y_test_true = [],[]\n",
    "\n",
    "biRNN.load_state_dict(torch.load('./best_biRNN_model.pth'))\n",
    "\n",
    "with torch.inference_mode():\n",
    "    biRNN.eval()\n",
    "    test_loss, test_accuracy = 0,0\n",
    "\n",
    "    for X_test, y_test in tqdm(test_loader):\n",
    "\n",
    "        X_test, y_test = X_test.to(device), y_test.to(device)\n",
    "\n",
    "        y_test_pred = biRNN(X_test)\n",
    "        \n",
    "        y_predicted_list.append(y_test_pred.argmax(dim = 1))\n",
    "        y_test_true.append(y_test)\n",
    "\n",
    "        loss = loss_fn(y_test_pred, y_test)\n",
    "        test_loss += loss\n",
    "        test_accuracy += accuracy_fn(y_test, y_test_pred.argmax(dim=1))\n",
    "\n",
    "    # Calculate avg. loss & accuracy\n",
    "    test_loss = test_loss/len(test_loader)\n",
    "    test_accuracy = test_accuracy/len(test_loader)\n",
    "\n",
    "    print(f\"Test loss: {test_loss:.4f} | Test accuracy: {test_accuracy:.2f}\")"
   ]
  },
  {
   "cell_type": "markdown",
   "id": "f505639b",
   "metadata": {},
   "source": [
    "#### Test Accuracy of the Bi-LSTM"
   ]
  },
  {
   "cell_type": "code",
   "execution_count": 92,
   "id": "ae50fcd6",
   "metadata": {},
   "outputs": [
    {
     "name": "stdout",
     "output_type": "stream",
     "text": [
      "Test Accuracy for the Bi-RNN model is: 82.81 %\n"
     ]
    }
   ],
   "source": [
    "print(f'Test Accuracy for the Bi-RNN model is: {test_accuracy:.2f} %')"
   ]
  },
  {
   "cell_type": "code",
   "execution_count": 93,
   "id": "79df63c1",
   "metadata": {},
   "outputs": [],
   "source": [
    "# Convert the list of tensors to a single list of elements\n",
    "\n",
    "y_predicted_list = [item for tensor in y_predicted_list for item in tensor.tolist()]\n",
    "y_test_true = [item for tensor in y_test_true for item in tensor.tolist()]"
   ]
  },
  {
   "cell_type": "markdown",
   "id": "725451c5",
   "metadata": {},
   "source": [
    "#### F-1 Score"
   ]
  },
  {
   "cell_type": "code",
   "execution_count": 94,
   "id": "4183035c",
   "metadata": {},
   "outputs": [
    {
     "name": "stdout",
     "output_type": "stream",
     "text": [
      "F1 Score for the model is: 0.8233\n"
     ]
    }
   ],
   "source": [
    "f1 = f1_score(np.array(y_test_true), np.array(y_predicted_list), average='weighted')\n",
    "print(f'F1 Score for the model is: {f1:.4f}')"
   ]
  },
  {
   "cell_type": "markdown",
   "id": "ac14980f",
   "metadata": {},
   "source": [
    "#### Confusion Matrix"
   ]
  },
  {
   "cell_type": "code",
   "execution_count": 95,
   "id": "b5b4c82c",
   "metadata": {},
   "outputs": [
    {
     "data": {
      "image/png": "[encoded data removed]",
      "text/plain": [
       "<Figure size 700x400 with 1 Axes>"
      ]
     },
     "metadata": {},
     "output_type": "display_data"
    }
   ],
   "source": [
    "# Calculate confusion matrix\n",
    "cm = confusion_matrix(y_test_true, y_predicted_list)\n",
    "\n",
    "# Plot confusion matrix\n",
    "plt.figure(figsize=(7, 4))\n",
    "sns.heatmap(cm, annot=True, fmt='d', cmap='crest', cbar=False)\n",
    "plt.xlabel('Predicted Label')\n",
    "plt.ylabel('True Label')\n",
    "plt.title('Confusion Matrix')\n",
    "plt.show()"
   ]
  },
  {
   "cell_type": "code",
   "execution_count": null,
   "id": "5f9fabf3",
   "metadata": {},
   "outputs": [],
   "source": []
  },
  {
   "cell_type": "code",
   "execution_count": null,
   "id": "ec86f829",
   "metadata": {},
   "outputs": [],
   "source": []
  },
  {
   "cell_type": "code",
   "execution_count": null,
   "id": "f5e1b2c4",
   "metadata": {},
   "outputs": [],
   "source": []
  },
  {
   "cell_type": "code",
   "execution_count": null,
   "id": "46bee432",
   "metadata": {},
   "outputs": [],
   "source": []
  },
  {
   "cell_type": "code",
   "execution_count": null,
   "id": "60fecd91",
   "metadata": {},
   "outputs": [],
   "source": []
  },
  {
   "cell_type": "code",
   "execution_count": null,
   "id": "f2c4c21b",
   "metadata": {},
   "outputs": [],
   "source": []
  }
 ],
 "metadata": {
  "kernelspec": {
   "display_name": "Python 3 (ipykernel)",
   "language": "python",
   "name": "python3"
  },
  "language_info": {
   "codemirror_mode": {
    "name": "ipython",
    "version": 3
   },
   "file_extension": ".py",
   "mimetype": "text/x-python",
   "name": "python",
   "nbconvert_exporter": "python",
   "pygments_lexer": "ipython3",
   "version": "3.8.17"
  }
 },
 "nbformat": 4,
 "nbformat_minor": 5
}
