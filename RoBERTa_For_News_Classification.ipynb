{
 "cells": [
  {
   "cell_type": "markdown",
   "id": "6027f76f",
   "metadata": {},
   "source": [
    "### RoBERT for News Classification\n",
    "\n",
    "Here we have used RoBERTa-base Sequence Classifier (Transformer) to classify given news dataset into 4 classes:\n",
    "\n",
    "○ World (0)\n",
    "○ Sports (1)\n",
    "○ Business (2)\n",
    "○ Sci/Tech (3)\n",
    "\n",
    "We cleaned the dataset first:\n",
    "\n",
    "-> Converted the whole dataset to lower case.\n",
    "\n",
    "-> Removed punctuation marks.\n",
    "\n",
    "-> Replaced numbers and words containing numbers as a sunstring with \"NUM\" tokens.\n",
    "\n",
    "\n",
    "We finetuned this transformer model for 15 epochs to learn the pattern to the best using AdamW optimizer using a LR of 0.00001. We kept a moderate batch size of 16 for frequenet gradient update\n",
    "\n",
    "The best accuracy score we could achieve on test set is 88.09 % approx."
   ]
  },
  {
   "cell_type": "code",
   "execution_count": 1,
   "id": "cbc53d63",
   "metadata": {},
   "outputs": [],
   "source": [
    "import nltk\n",
    "import re\n",
    "import torch\n",
    "import pandas as pd\n",
    "import numpy as np\n",
    "import torch.nn as nn\n",
    "import torch.optim as optim\n",
    "from nltk.corpus import stopwords\n",
    "from nltk.tokenize import word_tokenize\n",
    "from tqdm.auto import tqdm\n",
    "from sklearn.model_selection import train_test_split\n",
    "from sklearn.metrics import f1_score\n",
    "from torch.utils.data import Dataset, DataLoader, TensorDataset\n",
    "from sklearn.metrics import confusion_matrix\n",
    "from sklearn.metrics import classification_report\n",
    "import matplotlib.pyplot as plt\n",
    "import seaborn as sns"
   ]
  },
  {
   "cell_type": "code",
   "execution_count": 2,
   "id": "cffb1a72",
   "metadata": {},
   "outputs": [],
   "source": [
    "import warnings\n",
    "warnings.filterwarnings(\"ignore\", category=UserWarning)"
   ]
  },
  {
   "cell_type": "markdown",
   "id": "a5908f53",
   "metadata": {},
   "source": [
    "##### Load the train data"
   ]
  },
  {
   "cell_type": "code",
   "execution_count": 4,
   "id": "d40f960b",
   "metadata": {},
   "outputs": [],
   "source": [
    "train_val_set = pd.read_csv('./NLP3/train.csv')"
   ]
  },
  {
   "cell_type": "code",
   "execution_count": 5,
   "id": "a2e75f86",
   "metadata": {},
   "outputs": [
    {
     "data": {
      "text/html": [
       "<div>\n",
       "<style scoped>\n",
       "    .dataframe tbody tr th:only-of-type {\n",
       "        vertical-align: middle;\n",
       "    }\n",
       "\n",
       "    .dataframe tbody tr th {\n",
       "        vertical-align: top;\n",
       "    }\n",
       "\n",
       "    .dataframe thead th {\n",
       "        text-align: right;\n",
       "    }\n",
       "</style>\n",
       "<table border=\"1\" class=\"dataframe\">\n",
       "  <thead>\n",
       "    <tr style=\"text-align: right;\">\n",
       "      <th></th>\n",
       "      <th>index</th>\n",
       "      <th>text</th>\n",
       "      <th>label</th>\n",
       "    </tr>\n",
       "  </thead>\n",
       "  <tbody>\n",
       "    <tr>\n",
       "      <th>0</th>\n",
       "      <td>0</td>\n",
       "      <td>Zimbabwe annual inflation drops to 209 percent...</td>\n",
       "      <td>0</td>\n",
       "    </tr>\n",
       "    <tr>\n",
       "      <th>1</th>\n",
       "      <td>1</td>\n",
       "      <td>More than 1,000 dead in Haiti (09/23/04)-- A m...</td>\n",
       "      <td>0</td>\n",
       "    </tr>\n",
       "    <tr>\n",
       "      <th>2</th>\n",
       "      <td>2</td>\n",
       "      <td>Seven die in Japan  #39;suicide pact #39; Japa...</td>\n",
       "      <td>0</td>\n",
       "    </tr>\n",
       "    <tr>\n",
       "      <th>3</th>\n",
       "      <td>3</td>\n",
       "      <td>Security No. 1 for Afghan head President Hamid...</td>\n",
       "      <td>0</td>\n",
       "    </tr>\n",
       "    <tr>\n",
       "      <th>4</th>\n",
       "      <td>4</td>\n",
       "      <td>Palestinians say they hope Bush accepts dealin...</td>\n",
       "      <td>0</td>\n",
       "    </tr>\n",
       "  </tbody>\n",
       "</table>\n",
       "</div>"
      ],
      "text/plain": [
       "   index                                               text  label\n",
       "0      0  Zimbabwe annual inflation drops to 209 percent...      0\n",
       "1      1  More than 1,000 dead in Haiti (09/23/04)-- A m...      0\n",
       "2      2  Seven die in Japan  #39;suicide pact #39; Japa...      0\n",
       "3      3  Security No. 1 for Afghan head President Hamid...      0\n",
       "4      4  Palestinians say they hope Bush accepts dealin...      0"
      ]
     },
     "execution_count": 5,
     "metadata": {},
     "output_type": "execute_result"
    }
   ],
   "source": [
    "train_val_set.head()"
   ]
  },
  {
   "cell_type": "code",
   "execution_count": 6,
   "id": "a2c4d08c",
   "metadata": {},
   "outputs": [
    {
     "name": "stdout",
     "output_type": "stream",
     "text": [
      "Train_Val set contains total 2000 rows with [0 1 2 3] unique classes(labels)\n"
     ]
    }
   ],
   "source": [
    "print(f'Train_Val set contains total {len(train_val_set)} rows with {train_val_set.label.unique()} unique classes(labels)')"
   ]
  },
  {
   "cell_type": "code",
   "execution_count": 7,
   "id": "d1537c1e",
   "metadata": {},
   "outputs": [],
   "source": [
    "def remove_symbols(text):\n",
    "    pattern = r'[^\\w\\s]'  \n",
    "    cleaned_text = re.sub(pattern, '', text)\n",
    "    return cleaned_text"
   ]
  },
  {
   "cell_type": "code",
   "execution_count": 8,
   "id": "ed3859ef",
   "metadata": {},
   "outputs": [],
   "source": [
    "train_val_set['text'] = train_val_set['text'].apply(lambda x: x.lower()) \n",
    "train_val_set['text'] = train_val_set['text'].apply(remove_symbols) \n",
    "train_val_set['text'] = train_val_set['text'].apply(lambda x: x.replace('\\\\', ' ')) \n",
    "train_val_set['text'] = train_val_set['text'].replace(r'\\b[a-zA-Z]*\\d+[a-zA-Z]*\\b', 'NUM', regex=True)"
   ]
  },
  {
   "cell_type": "code",
   "execution_count": 9,
   "id": "39ec0b92",
   "metadata": {},
   "outputs": [
    {
     "data": {
      "text/html": [
       "<div>\n",
       "<style scoped>\n",
       "    .dataframe tbody tr th:only-of-type {\n",
       "        vertical-align: middle;\n",
       "    }\n",
       "\n",
       "    .dataframe tbody tr th {\n",
       "        vertical-align: top;\n",
       "    }\n",
       "\n",
       "    .dataframe thead th {\n",
       "        text-align: right;\n",
       "    }\n",
       "</style>\n",
       "<table border=\"1\" class=\"dataframe\">\n",
       "  <thead>\n",
       "    <tr style=\"text-align: right;\">\n",
       "      <th></th>\n",
       "      <th>index</th>\n",
       "      <th>text</th>\n",
       "      <th>label</th>\n",
       "    </tr>\n",
       "  </thead>\n",
       "  <tbody>\n",
       "    <tr>\n",
       "      <th>0</th>\n",
       "      <td>0</td>\n",
       "      <td>zimbabwe annual inflation drops to NUM percent...</td>\n",
       "      <td>0</td>\n",
       "    </tr>\n",
       "    <tr>\n",
       "      <th>1</th>\n",
       "      <td>1</td>\n",
       "      <td>more than NUM dead in haiti NUM a mass grave i...</td>\n",
       "      <td>0</td>\n",
       "    </tr>\n",
       "    <tr>\n",
       "      <th>2</th>\n",
       "      <td>2</td>\n",
       "      <td>seven die in japan  NUM pact NUM japanese poli...</td>\n",
       "      <td>0</td>\n",
       "    </tr>\n",
       "    <tr>\n",
       "      <th>3</th>\n",
       "      <td>3</td>\n",
       "      <td>security no NUM for afghan head president hami...</td>\n",
       "      <td>0</td>\n",
       "    </tr>\n",
       "    <tr>\n",
       "      <th>4</th>\n",
       "      <td>4</td>\n",
       "      <td>palestinians say they hope bush accepts dealin...</td>\n",
       "      <td>0</td>\n",
       "    </tr>\n",
       "  </tbody>\n",
       "</table>\n",
       "</div>"
      ],
      "text/plain": [
       "   index                                               text  label\n",
       "0      0  zimbabwe annual inflation drops to NUM percent...      0\n",
       "1      1  more than NUM dead in haiti NUM a mass grave i...      0\n",
       "2      2  seven die in japan  NUM pact NUM japanese poli...      0\n",
       "3      3  security no NUM for afghan head president hami...      0\n",
       "4      4  palestinians say they hope bush accepts dealin...      0"
      ]
     },
     "execution_count": 9,
     "metadata": {},
     "output_type": "execute_result"
    }
   ],
   "source": [
    "train_val_set.head(5)"
   ]
  },
  {
   "cell_type": "markdown",
   "id": "59e8976b",
   "metadata": {},
   "source": [
    "##### Split the train set into Train and Validation Set"
   ]
  },
  {
   "cell_type": "code",
   "execution_count": 10,
   "id": "57e2bf1b",
   "metadata": {},
   "outputs": [
    {
     "name": "stdout",
     "output_type": "stream",
     "text": [
      "Length of the train set: 1800\n",
      "Length of the validation set: 200\n"
     ]
    }
   ],
   "source": [
    "train_set, val_set = train_test_split(train_val_set, test_size=0.1, random_state=42)\n",
    "\n",
    "print(f'Length of the train set: {len(train_set)}\\nLength of the validation set: {len(val_set)}')"
   ]
  },
  {
   "cell_type": "code",
   "execution_count": 11,
   "id": "58e3c90d",
   "metadata": {},
   "outputs": [],
   "source": [
    "y_train_raw = list(train_set['label']) \n",
    "y_val_raw = list(val_set['label'])"
   ]
  },
  {
   "cell_type": "code",
   "execution_count": 12,
   "id": "7b5a5e49",
   "metadata": {},
   "outputs": [
    {
     "data": {
      "text/plain": [
       "(1800, 200)"
      ]
     },
     "execution_count": 12,
     "metadata": {},
     "output_type": "execute_result"
    }
   ],
   "source": [
    "len(y_train_raw), len(y_val_raw)"
   ]
  },
  {
   "cell_type": "code",
   "execution_count": 13,
   "id": "67fc2528",
   "metadata": {},
   "outputs": [],
   "source": [
    "train_set_text = list(train_set['text'])\n",
    "val_set_text = list(val_set['text'])"
   ]
  },
  {
   "cell_type": "markdown",
   "id": "797d3038",
   "metadata": {},
   "source": [
    "##### Load the Test Data"
   ]
  },
  {
   "cell_type": "code",
   "execution_count": 14,
   "id": "5e1d7476",
   "metadata": {},
   "outputs": [],
   "source": [
    "test_set = pd.read_csv('./NLP3/test.csv')"
   ]
  },
  {
   "cell_type": "code",
   "execution_count": 15,
   "id": "c1373201",
   "metadata": {},
   "outputs": [
    {
     "name": "stdout",
     "output_type": "stream",
     "text": [
      "Test set contains total 500 rows with [0 1 2 3] unique classes(labels)\n"
     ]
    }
   ],
   "source": [
    "print(f'Test set contains total {len(test_set)} rows with {test_set.label.unique()} unique classes(labels)')"
   ]
  },
  {
   "cell_type": "code",
   "execution_count": 16,
   "id": "7fc04a31",
   "metadata": {},
   "outputs": [
    {
     "data": {
      "text/plain": [
       "500"
      ]
     },
     "execution_count": 16,
     "metadata": {},
     "output_type": "execute_result"
    }
   ],
   "source": [
    "y_test_raw = list(test_set['label'])\n",
    "len(y_test_raw)"
   ]
  },
  {
   "cell_type": "code",
   "execution_count": 17,
   "id": "1fee1014",
   "metadata": {},
   "outputs": [],
   "source": [
    "test_set['text'] = test_set['text'].apply(lambda x: x.lower()) \n",
    "test_set['text'] = test_set['text'].apply(remove_symbols) \n",
    "test_set['text'] = test_set['text'].apply(lambda x: x.replace('\\\\', ' ')) \n",
    "test_set['text'] = test_set['text'].replace(r'\\b[a-zA-Z]*\\d+[a-zA-Z]*\\b', 'NUM', regex=True)"
   ]
  },
  {
   "cell_type": "code",
   "execution_count": 18,
   "id": "f2bf66fd",
   "metadata": {},
   "outputs": [
    {
     "data": {
      "text/html": [
       "<div>\n",
       "<style scoped>\n",
       "    .dataframe tbody tr th:only-of-type {\n",
       "        vertical-align: middle;\n",
       "    }\n",
       "\n",
       "    .dataframe tbody tr th {\n",
       "        vertical-align: top;\n",
       "    }\n",
       "\n",
       "    .dataframe thead th {\n",
       "        text-align: right;\n",
       "    }\n",
       "</style>\n",
       "<table border=\"1\" class=\"dataframe\">\n",
       "  <thead>\n",
       "    <tr style=\"text-align: right;\">\n",
       "      <th></th>\n",
       "      <th>index</th>\n",
       "      <th>text</th>\n",
       "      <th>label</th>\n",
       "    </tr>\n",
       "  </thead>\n",
       "  <tbody>\n",
       "    <tr>\n",
       "      <th>0</th>\n",
       "      <td>0</td>\n",
       "      <td>detainees seen as minimal threat washington  m...</td>\n",
       "      <td>0</td>\n",
       "    </tr>\n",
       "    <tr>\n",
       "      <th>1</th>\n",
       "      <td>1</td>\n",
       "      <td>japans army works out plan to cope with north ...</td>\n",
       "      <td>0</td>\n",
       "    </tr>\n",
       "    <tr>\n",
       "      <th>2</th>\n",
       "      <td>2</td>\n",
       "      <td>un council arrives in nairobi un security coun...</td>\n",
       "      <td>0</td>\n",
       "    </tr>\n",
       "    <tr>\n",
       "      <th>3</th>\n",
       "      <td>3</td>\n",
       "      <td>apec ministers urge new effort on trade talks ...</td>\n",
       "      <td>0</td>\n",
       "    </tr>\n",
       "    <tr>\n",
       "      <th>4</th>\n",
       "      <td>4</td>\n",
       "      <td>at least five dead in russia mine blast reuter...</td>\n",
       "      <td>0</td>\n",
       "    </tr>\n",
       "  </tbody>\n",
       "</table>\n",
       "</div>"
      ],
      "text/plain": [
       "   index                                               text  label\n",
       "0      0  detainees seen as minimal threat washington  m...      0\n",
       "1      1  japans army works out plan to cope with north ...      0\n",
       "2      2  un council arrives in nairobi un security coun...      0\n",
       "3      3  apec ministers urge new effort on trade talks ...      0\n",
       "4      4  at least five dead in russia mine blast reuter...      0"
      ]
     },
     "execution_count": 18,
     "metadata": {},
     "output_type": "execute_result"
    }
   ],
   "source": [
    "test_set.head()"
   ]
  },
  {
   "cell_type": "code",
   "execution_count": 19,
   "id": "0a629d44",
   "metadata": {},
   "outputs": [],
   "source": [
    "test_set_text = list(test_set['text'])"
   ]
  },
  {
   "cell_type": "markdown",
   "id": "f05a093e",
   "metadata": {},
   "source": [
    "### Models\n",
    "\n",
    "#### Tokenizer"
   ]
  },
  {
   "cell_type": "code",
   "execution_count": 20,
   "id": "13a7d07f",
   "metadata": {},
   "outputs": [],
   "source": [
    "from transformers import RobertaTokenizer"
   ]
  },
  {
   "cell_type": "code",
   "execution_count": 21,
   "id": "db4b1e70",
   "metadata": {},
   "outputs": [],
   "source": [
    "tokenizer = RobertaTokenizer.from_pretrained(\"FacebookAI/roberta-base\")"
   ]
  },
  {
   "cell_type": "code",
   "execution_count": 22,
   "id": "e8ab1cb9",
   "metadata": {},
   "outputs": [],
   "source": [
    "tokenized_numeric_converted_train_sentences = tokenizer(train_set_text, padding = True, return_tensors = 'pt')\n",
    "tokenized_numeric_converted_test_sentences = tokenizer(test_set_text, padding = 'max_length', max_length = 201, return_tensors = 'pt')\n",
    "tokenized_numeric_converted_val_sentences = tokenizer(val_set_text, padding = 'max_length', max_length = 201, return_tensors = 'pt')"
   ]
  },
  {
   "cell_type": "markdown",
   "id": "f7437a55",
   "metadata": {},
   "source": [
    "#### Data Preparation"
   ]
  },
  {
   "cell_type": "code",
   "execution_count": 23,
   "id": "af01a34d",
   "metadata": {},
   "outputs": [
    {
     "name": "stdout",
     "output_type": "stream",
     "text": [
      "Shape of the X_train inputs_ids torch.Size([1800, 201]) And attention mask: torch.Size([1800, 201])\n",
      "Shape of the X_val inputs_ids torch.Size([200, 201]) And attention mask: torch.Size([200, 201])\n",
      "Shape of the X_test inputs_ids torch.Size([500, 201]) And attention mask: torch.Size([500, 201])\n"
     ]
    }
   ],
   "source": [
    "X_train  = tokenized_numeric_converted_train_sentences\n",
    "X_val = tokenized_numeric_converted_val_sentences\n",
    "X_test = tokenized_numeric_converted_test_sentences\n",
    "\n",
    "print(f\"Shape of the X_train inputs_ids {X_train['input_ids'].shape} And attention mask: {X_train['attention_mask'].shape}\")\n",
    "print(f\"Shape of the X_val inputs_ids {X_val['input_ids'].shape} And attention mask: {X_val['attention_mask'].shape}\")\n",
    "print(f\"Shape of the X_test inputs_ids {X_test['input_ids'].shape} And attention mask: {X_test['attention_mask'].shape}\")"
   ]
  },
  {
   "cell_type": "code",
   "execution_count": 24,
   "id": "32292c3c",
   "metadata": {},
   "outputs": [],
   "source": [
    "# Define a custom dataset class\n",
    "\n",
    "class NewsDataset(Dataset):\n",
    "\n",
    "    def __init__(self, input_ids, attention_masks, labels):\n",
    "        self.input_ids = input_ids\n",
    "        self.attention_masks = attention_masks\n",
    "        self.labels = labels\n",
    "\n",
    "    def __len__(self):\n",
    "        return len(self.labels)\n",
    "\n",
    "    def __getitem__(self, idx):\n",
    "        input_id = torch.tensor(self.input_ids[idx])\n",
    "        attention_mask = torch.tensor(self.attention_masks[idx])\n",
    "        label = torch.tensor(self.labels[idx])\n",
    "        return {\"input_ids\": input_id, \"attention_mask\": attention_mask, \"labels\": label}"
   ]
  },
  {
   "cell_type": "code",
   "execution_count": 25,
   "id": "2885d94c",
   "metadata": {},
   "outputs": [],
   "source": [
    "batch_size = 16"
   ]
  },
  {
   "cell_type": "code",
   "execution_count": 26,
   "id": "ab62ea18",
   "metadata": {},
   "outputs": [],
   "source": [
    "# Create TensorDatasets and DataLoaders for train set\n",
    "\n",
    "train_dataset = NewsDataset(X_train['input_ids'], X_train['attention_mask'] , y_train_raw)\n",
    "train_dataloader = DataLoader(train_dataset, batch_size = batch_size, shuffle=True)"
   ]
  },
  {
   "cell_type": "code",
   "execution_count": 27,
   "id": "14cdc26f",
   "metadata": {},
   "outputs": [],
   "source": [
    "# Create TensorDatasets and DataLoaders for Val set.\n",
    "\n",
    "val_dataset = NewsDataset(X_val['input_ids'], X_val['attention_mask'] , y_val_raw)\n",
    "val_dataloader = DataLoader(val_dataset, batch_size = batch_size, shuffle=False)"
   ]
  },
  {
   "cell_type": "code",
   "execution_count": 28,
   "id": "d7568306",
   "metadata": {},
   "outputs": [],
   "source": [
    "# Create TensorDatasets and DataLoaders for Val set.\n",
    "\n",
    "test_dataset = NewsDataset(X_test['input_ids'], X_test['attention_mask'] , y_test_raw)\n",
    "test_dataloader = DataLoader(test_dataset, batch_size = batch_size, shuffle=False)"
   ]
  },
  {
   "cell_type": "markdown",
   "id": "f30819e8",
   "metadata": {},
   "source": [
    "### Sequence Classifier Model"
   ]
  },
  {
   "cell_type": "code",
   "execution_count": 29,
   "id": "5f66ae0e",
   "metadata": {},
   "outputs": [
    {
     "data": {
      "text/plain": [
       "'cuda'"
      ]
     },
     "execution_count": 29,
     "metadata": {},
     "output_type": "execute_result"
    }
   ],
   "source": [
    "device = 'cuda' if torch.cuda.is_available() else 'cpu'\n",
    "device"
   ]
  },
  {
   "cell_type": "code",
   "execution_count": 30,
   "id": "83f6fd1c",
   "metadata": {},
   "outputs": [],
   "source": [
    "# since we have only 4 classes, we initialize the model with 4 nodes in the last classification layer.\n",
    "\n",
    "num_of_classes = 4"
   ]
  },
  {
   "cell_type": "code",
   "execution_count": 31,
   "id": "b851b65b",
   "metadata": {},
   "outputs": [
    {
     "name": "stderr",
     "output_type": "stream",
     "text": [
      "Some weights of RobertaForSequenceClassification were not initialized from the model checkpoint at FacebookAI/roberta-base and are newly initialized: ['classifier.out_proj.weight', 'classifier.dense.weight', 'classifier.out_proj.bias', 'classifier.dense.bias']\n",
      "You should probably TRAIN this model on a down-stream task to be able to use it for predictions and inference.\n"
     ]
    }
   ],
   "source": [
    "# Pass the num_of_classes to the model, so that it can get the number of classes\n",
    "\n",
    "from transformers import RobertaForSequenceClassification\n",
    "robertaModel = RobertaForSequenceClassification.from_pretrained(\"FacebookAI/roberta-base\", num_labels = num_of_classes).to('cuda')"
   ]
  },
  {
   "cell_type": "code",
   "execution_count": 32,
   "id": "f4deeb29",
   "metadata": {},
   "outputs": [],
   "source": [
    "# Hyperparameters\n",
    "\n",
    "num_epochs = 15\n",
    "lr = 0.00001"
   ]
  },
  {
   "cell_type": "code",
   "execution_count": 33,
   "id": "4d6197ff",
   "metadata": {},
   "outputs": [],
   "source": [
    "def accuracy_fn(y_true, y_pred):\n",
    "    \n",
    "    correct = torch.eq(y_true, y_pred).sum().item()\n",
    "    accuracy = ( correct/len(y_pred) ) * 100\n",
    "    \n",
    "    return accuracy"
   ]
  },
  {
   "cell_type": "code",
   "execution_count": 34,
   "id": "16f1b0bf",
   "metadata": {},
   "outputs": [],
   "source": [
    "# Loss function and optimizer\n",
    "\n",
    "criterion = nn.CrossEntropyLoss()\n",
    "optimizer = torch.optim.AdamW(robertaModel.parameters(), lr = lr)"
   ]
  },
  {
   "cell_type": "code",
   "execution_count": 35,
   "id": "5ff62c7a",
   "metadata": {},
   "outputs": [
    {
     "data": {
      "application/vnd.jupyter.widget-view+json": {
       "model_id": "3b2fee81da804985b6e9d9798d7fb10a",
       "version_major": 2,
       "version_minor": 0
      },
      "text/plain": [
       "  0%|          | 0/15 [00:00<?, ?it/s]"
      ]
     },
     "metadata": {},
     "output_type": "display_data"
    },
    {
     "name": "stdout",
     "output_type": "stream",
     "text": [
      "Epoch:1 | Train loss: 0.7608 | Val loss: 0.3198 | Val accuracy: 90.86538\n",
      "Model Checkpoint Saved\n",
      "\n",
      "Epoch:2 | Train loss: 0.3322 | Val loss: 0.3679 | Val accuracy: 88.94231\n",
      "Epoch:3 | Train loss: 0.2349 | Val loss: 0.3348 | Val accuracy: 90.38462\n",
      "Epoch:4 | Train loss: 0.1784 | Val loss: 0.3556 | Val accuracy: 89.90385\n",
      "Epoch:5 | Train loss: 0.1259 | Val loss: 0.4064 | Val accuracy: 88.46154\n",
      "Epoch:6 | Train loss: 0.1062 | Val loss: 0.3508 | Val accuracy: 91.34615\n",
      "Model Checkpoint Saved\n",
      "\n",
      "Epoch:7 | Train loss: 0.0623 | Val loss: 0.5741 | Val accuracy: 88.46154\n",
      "Epoch:8 | Train loss: 0.0959 | Val loss: 0.3706 | Val accuracy: 91.34615\n",
      "Epoch:9 | Train loss: 0.0455 | Val loss: 0.4470 | Val accuracy: 88.94231\n",
      "Epoch:10 | Train loss: 0.0329 | Val loss: 0.4483 | Val accuracy: 90.86538\n",
      "Epoch:11 | Train loss: 0.0125 | Val loss: 0.4801 | Val accuracy: 90.86538\n",
      "Epoch:12 | Train loss: 0.0083 | Val loss: 0.5212 | Val accuracy: 90.38462\n",
      "Epoch:13 | Train loss: 0.0141 | Val loss: 0.5436 | Val accuracy: 90.38462\n",
      "Epoch:14 | Train loss: 0.0158 | Val loss: 0.5334 | Val accuracy: 91.34615\n",
      "Epoch:15 | Train loss: 0.0468 | Val loss: 0.4442 | Val accuracy: 91.34615\n"
     ]
    }
   ],
   "source": [
    "performance_metrics = []\n",
    "best_val_accuracy = 0\n",
    "\n",
    "for epoch in tqdm(range(num_epochs)):\n",
    "    \n",
    "    robertaModel.train()\n",
    "    train_loss = 0\n",
    "    \n",
    "    for batch_idx, batch in enumerate(train_dataloader):\n",
    "        \n",
    "        inputs = {k: v.to(device) for k, v in batch.items()}\n",
    "        output_y_train_pred = robertaModel(**inputs)\n",
    "                \n",
    "        # calculate batch accumulative loss\n",
    "        loss = output_y_train_pred.loss\n",
    "        train_loss += loss.item()\n",
    "        \n",
    "        # print(loss.item())\n",
    "        \n",
    "        optimizer.zero_grad()\n",
    "        \n",
    "        loss.backward()\n",
    "        \n",
    "        optimizer.step()\n",
    "        \n",
    "    with torch.inference_mode():\n",
    "        \n",
    "        robertaModel.eval()\n",
    "        val_loss, val_accuracy = 0,0\n",
    "        \n",
    "        for batch_val in val_dataloader:\n",
    "            \n",
    "            inputs_eval = {k: v.to(device) for k, v in batch_val.items()}\n",
    "            output_y_val_pred = robertaModel(**inputs_eval)\n",
    "            \n",
    "            loss = output_y_val_pred.loss\n",
    "            val_loss += loss.item()\n",
    "            \n",
    "            y_val = batch_val['labels'].to(device)\n",
    "            \n",
    "            # print(f'y_val True: {y_val}\\ny_val_predicted: {output_y_val_pred.logits.argmax(dim = 1)}\\n')\n",
    "            \n",
    "            val_accuracy += accuracy_fn(y_val, output_y_val_pred.logits.argmax(dim=1))\n",
    "        \n",
    "        # Calculate avg. loss & accuracy\n",
    "        \n",
    "        train_loss = train_loss / len(train_dataloader)\n",
    "        val_loss = val_loss / len(val_dataloader)\n",
    "        val_accuracy = val_accuracy / len(val_dataloader)\n",
    "        \n",
    "        print(f\"Epoch:{epoch+1} | Train loss: {train_loss:.4f} | Val loss: {val_loss:.4f} | Val accuracy: {val_accuracy:.5f}\")\n",
    "        performance_metrics.append(val_accuracy)\n",
    "\n",
    "        if val_accuracy > best_val_accuracy:\n",
    "            torch.save(robertaModel, './roberta_finetuned_custom_num_4.pt')\n",
    "            print('Model Checkpoint Saved\\n')\n",
    "            best_val_accuracy = val_accuracy"
   ]
  },
  {
   "cell_type": "markdown",
   "id": "df453806",
   "metadata": {},
   "source": [
    "### Evaluation On Test Set"
   ]
  },
  {
   "cell_type": "code",
   "execution_count": 36,
   "id": "d454ed4f",
   "metadata": {},
   "outputs": [
    {
     "data": {
      "application/vnd.jupyter.widget-view+json": {
       "model_id": "44f8f041936c495f95c72d713af731a3",
       "version_major": 2,
       "version_minor": 0
      },
      "text/plain": [
       "  0%|          | 0/32 [00:00<?, ?it/s]"
      ]
     },
     "metadata": {},
     "output_type": "display_data"
    },
    {
     "name": "stdout",
     "output_type": "stream",
     "text": [
      "Test loss: 0.4235 | Test accuracy: 88.09\n"
     ]
    }
   ],
   "source": [
    "# Load the latest Best checkpoint saved above.\n",
    "\n",
    "y_predicted_list_roberta, y_test_true_roberta = [],[]\n",
    "\n",
    "robertaModel_best_chkpt = torch.load('./roberta_finetuned_custom_num_4.pt').to(device)\n",
    "\n",
    "with torch.inference_mode():\n",
    "    robertaModel_best_chkpt.eval()\n",
    "    test_loss, test_accuracy = 0,0\n",
    "\n",
    "    for batch_test in tqdm(test_dataloader):\n",
    "\n",
    "        inputs_test = {k: v.to(device) for k, v in batch_test.items()}\n",
    "        output_y_test_pred = robertaModel_best_chkpt(**inputs_test)\n",
    "\n",
    "        loss = output_y_test_pred.loss\n",
    "        test_loss += loss\n",
    "        \n",
    "        y_test = batch_test['labels'].to(device)\n",
    "        test_accuracy += accuracy_fn(y_test, output_y_test_pred.logits.argmax(dim=1))\n",
    "        \n",
    "        y_predicted_list_roberta.append(output_y_test_pred.logits.argmax(dim=1))\n",
    "        y_test_true_roberta.append(y_test)\n",
    "\n",
    "    # Calculate avg. loss & accuracy\n",
    "    \n",
    "    test_loss = test_loss/len(test_dataloader)\n",
    "    test_accuracy = test_accuracy/len(test_dataloader)\n",
    "\n",
    "    print(f\"Test loss: {test_loss:.4f} | Test accuracy: {test_accuracy:.2f}\")"
   ]
  },
  {
   "cell_type": "markdown",
   "id": "ed0999fa",
   "metadata": {},
   "source": [
    "#### Test Accuracy of the BERT Model"
   ]
  },
  {
   "cell_type": "code",
   "execution_count": 45,
   "id": "47520cac",
   "metadata": {},
   "outputs": [
    {
     "name": "stdout",
     "output_type": "stream",
     "text": [
      "Test Accuracy for the RoBERTa-base Sequence Classifier model is: 88.09 %\n"
     ]
    }
   ],
   "source": [
    "print(f'Test Accuracy for the RoBERTa-base Sequence Classifier model is: {test_accuracy:.2f} %')"
   ]
  },
  {
   "cell_type": "code",
   "execution_count": 38,
   "id": "7abf51ff",
   "metadata": {},
   "outputs": [],
   "source": [
    "# Convert the list of tensors to a single list of elements\n",
    "\n",
    "y_predicted_list_roberta = [item for tensor in y_predicted_list_roberta for item in tensor.tolist()]\n",
    "y_test_true_roberta = [item for tensor in y_test_true_roberta for item in tensor.tolist()]"
   ]
  },
  {
   "cell_type": "markdown",
   "id": "6719b19b",
   "metadata": {},
   "source": [
    "#### F-1 Score"
   ]
  },
  {
   "cell_type": "code",
   "execution_count": 39,
   "id": "a7665187",
   "metadata": {},
   "outputs": [
    {
     "name": "stdout",
     "output_type": "stream",
     "text": [
      "F1 Score for the model is: 0.8839\n"
     ]
    }
   ],
   "source": [
    "f1 = f1_score(np.array(y_test_true_roberta), np.array(y_predicted_list_roberta), average='weighted')\n",
    "print(f'F1 Score for the model is: {f1:.4f}')"
   ]
  },
  {
   "cell_type": "markdown",
   "id": "fd91e2be",
   "metadata": {},
   "source": [
    "#### Confusion Matrix"
   ]
  },
  {
   "cell_type": "code",
   "execution_count": 40,
   "id": "95dbc4e1",
   "metadata": {},
   "outputs": [
    {
     "data": {
      "image/png": "[encoded data removed]",
      "text/plain": [
       "<Figure size 700x400 with 1 Axes>"
      ]
     },
     "metadata": {},
     "output_type": "display_data"
    }
   ],
   "source": [
    "# Calculate confusion matrix\n",
    "cm = confusion_matrix(y_test_true_roberta, y_predicted_list_roberta)\n",
    "\n",
    "# Plot confusion matrix\n",
    "plt.figure(figsize=(7, 4))\n",
    "sns.heatmap(cm, annot=True, fmt='d', cmap='crest', cbar=False)\n",
    "plt.xlabel('Predicted Label')\n",
    "plt.ylabel('True Label')\n",
    "plt.title('Confusion Matrix')\n",
    "plt.show()"
   ]
  },
  {
   "cell_type": "markdown",
   "id": "318c7903",
   "metadata": {},
   "source": [
    "#### Write Predictions to CSV"
   ]
  },
  {
   "cell_type": "code",
   "execution_count": 41,
   "id": "4ee56be5",
   "metadata": {},
   "outputs": [
    {
     "data": {
      "text/html": [
       "<div>\n",
       "<style scoped>\n",
       "    .dataframe tbody tr th:only-of-type {\n",
       "        vertical-align: middle;\n",
       "    }\n",
       "\n",
       "    .dataframe tbody tr th {\n",
       "        vertical-align: top;\n",
       "    }\n",
       "\n",
       "    .dataframe thead th {\n",
       "        text-align: right;\n",
       "    }\n",
       "</style>\n",
       "<table border=\"1\" class=\"dataframe\">\n",
       "  <thead>\n",
       "    <tr style=\"text-align: right;\">\n",
       "      <th></th>\n",
       "      <th>index</th>\n",
       "      <th>text</th>\n",
       "      <th>label</th>\n",
       "    </tr>\n",
       "  </thead>\n",
       "  <tbody>\n",
       "    <tr>\n",
       "      <th>0</th>\n",
       "      <td>0</td>\n",
       "      <td>detainees seen as minimal threat washington  m...</td>\n",
       "      <td>0</td>\n",
       "    </tr>\n",
       "    <tr>\n",
       "      <th>1</th>\n",
       "      <td>1</td>\n",
       "      <td>japans army works out plan to cope with north ...</td>\n",
       "      <td>0</td>\n",
       "    </tr>\n",
       "    <tr>\n",
       "      <th>2</th>\n",
       "      <td>2</td>\n",
       "      <td>un council arrives in nairobi un security coun...</td>\n",
       "      <td>0</td>\n",
       "    </tr>\n",
       "    <tr>\n",
       "      <th>3</th>\n",
       "      <td>3</td>\n",
       "      <td>apec ministers urge new effort on trade talks ...</td>\n",
       "      <td>0</td>\n",
       "    </tr>\n",
       "    <tr>\n",
       "      <th>4</th>\n",
       "      <td>4</td>\n",
       "      <td>at least five dead in russia mine blast reuter...</td>\n",
       "      <td>0</td>\n",
       "    </tr>\n",
       "  </tbody>\n",
       "</table>\n",
       "</div>"
      ],
      "text/plain": [
       "   index                                               text  label\n",
       "0      0  detainees seen as minimal threat washington  m...      0\n",
       "1      1  japans army works out plan to cope with north ...      0\n",
       "2      2  un council arrives in nairobi un security coun...      0\n",
       "3      3  apec ministers urge new effort on trade talks ...      0\n",
       "4      4  at least five dead in russia mine blast reuter...      0"
      ]
     },
     "execution_count": 41,
     "metadata": {},
     "output_type": "execute_result"
    }
   ],
   "source": [
    "RoBERTModifiedTestSet = test_set.copy()\n",
    "RoBERTModifiedTestSet.head()"
   ]
  },
  {
   "cell_type": "code",
   "execution_count": 42,
   "id": "99966575",
   "metadata": {},
   "outputs": [],
   "source": [
    "RoBERTModifiedTestSet['preds'] = y_predicted_list_roberta"
   ]
  },
  {
   "cell_type": "code",
   "execution_count": 43,
   "id": "366550d4",
   "metadata": {},
   "outputs": [],
   "source": [
    "RoBERTModifiedTestSet.to_csv('bert_test.csv', index=False)"
   ]
  },
  {
   "cell_type": "code",
   "execution_count": 44,
   "id": "90af81d0",
   "metadata": {},
   "outputs": [
    {
     "data": {
      "text/html": [
       "<div>\n",
       "<style scoped>\n",
       "    .dataframe tbody tr th:only-of-type {\n",
       "        vertical-align: middle;\n",
       "    }\n",
       "\n",
       "    .dataframe tbody tr th {\n",
       "        vertical-align: top;\n",
       "    }\n",
       "\n",
       "    .dataframe thead th {\n",
       "        text-align: right;\n",
       "    }\n",
       "</style>\n",
       "<table border=\"1\" class=\"dataframe\">\n",
       "  <thead>\n",
       "    <tr style=\"text-align: right;\">\n",
       "      <th></th>\n",
       "      <th>index</th>\n",
       "      <th>text</th>\n",
       "      <th>label</th>\n",
       "      <th>preds</th>\n",
       "    </tr>\n",
       "  </thead>\n",
       "  <tbody>\n",
       "    <tr>\n",
       "      <th>0</th>\n",
       "      <td>0</td>\n",
       "      <td>detainees seen as minimal threat washington  m...</td>\n",
       "      <td>0</td>\n",
       "      <td>0</td>\n",
       "    </tr>\n",
       "    <tr>\n",
       "      <th>1</th>\n",
       "      <td>1</td>\n",
       "      <td>japans army works out plan to cope with north ...</td>\n",
       "      <td>0</td>\n",
       "      <td>0</td>\n",
       "    </tr>\n",
       "    <tr>\n",
       "      <th>2</th>\n",
       "      <td>2</td>\n",
       "      <td>un council arrives in nairobi un security coun...</td>\n",
       "      <td>0</td>\n",
       "      <td>0</td>\n",
       "    </tr>\n",
       "    <tr>\n",
       "      <th>3</th>\n",
       "      <td>3</td>\n",
       "      <td>apec ministers urge new effort on trade talks ...</td>\n",
       "      <td>0</td>\n",
       "      <td>2</td>\n",
       "    </tr>\n",
       "    <tr>\n",
       "      <th>4</th>\n",
       "      <td>4</td>\n",
       "      <td>at least five dead in russia mine blast reuter...</td>\n",
       "      <td>0</td>\n",
       "      <td>0</td>\n",
       "    </tr>\n",
       "  </tbody>\n",
       "</table>\n",
       "</div>"
      ],
      "text/plain": [
       "   index                                               text  label  preds\n",
       "0      0  detainees seen as minimal threat washington  m...      0      0\n",
       "1      1  japans army works out plan to cope with north ...      0      0\n",
       "2      2  un council arrives in nairobi un security coun...      0      0\n",
       "3      3  apec ministers urge new effort on trade talks ...      0      2\n",
       "4      4  at least five dead in russia mine blast reuter...      0      0"
      ]
     },
     "execution_count": 44,
     "metadata": {},
     "output_type": "execute_result"
    }
   ],
   "source": [
    "# Test if the data has been written to the csv\n",
    "\n",
    "df = pd.read_csv('bert_test.csv')\n",
    "df.head()"
   ]
  },
  {
   "cell_type": "code",
   "execution_count": null,
   "id": "af4c04d5",
   "metadata": {},
   "outputs": [],
   "source": []
  },
  {
   "cell_type": "code",
   "execution_count": null,
   "id": "ddd7b69a",
   "metadata": {},
   "outputs": [],
   "source": []
  }
 ],
 "metadata": {
  "kernelspec": {
   "display_name": "Python 3 (ipykernel)",
   "language": "python",
   "name": "python3"
  },
  "language_info": {
   "codemirror_mode": {
    "name": "ipython",
    "version": 3
   },
   "file_extension": ".py",
   "mimetype": "text/x-python",
   "name": "python",
   "nbconvert_exporter": "python",
   "pygments_lexer": "ipython3",
   "version": "3.8.17"
  }
 },
 "nbformat": 4,
 "nbformat_minor": 5
}
