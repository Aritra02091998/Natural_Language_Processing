{
 "cells": [
  {
   "cell_type": "markdown",
   "id": "1facf9a6",
   "metadata": {},
   "source": [
    "### Bi-Directional LSTM for News Classification\n",
    "\n",
    "Here we use Bi-Directional LSTM to classify given news dataset into 4 classes:\n",
    "\n",
    "○ World (0)\n",
    "○ Sports (1)\n",
    "○ Business (2)\n",
    "○ Sci/Tech (3)\n",
    "\n",
    "We have used nn.Embedding layer to learn the word embeddings instead of using any pretrained embeddings for the LSTM.\n",
    "\n",
    "However pretrained word embeddings can be used to further boost the accuracies like word2vec, glove etc.\n",
    "\n",
    "The vanilla LSTM Variant scores 56.8 % approx on Test Set while the Bi-Directional LSTM Variant scores 64.6 % approx on Test Set."
   ]
  },
  {
   "cell_type": "code",
   "execution_count": 1,
   "id": "7b4c92ef",
   "metadata": {},
   "outputs": [],
   "source": [
    "import nltk\n",
    "import re\n",
    "import torch\n",
    "import pandas as pd\n",
    "import numpy as np\n",
    "import torch.nn as nn\n",
    "import torch.optim as optim\n",
    "from nltk.corpus import stopwords\n",
    "from nltk.tokenize import word_tokenize\n",
    "from tqdm.auto import tqdm\n",
    "from sklearn.model_selection import train_test_split\n",
    "from sklearn.metrics import f1_score\n",
    "from torch.utils.data import DataLoader, TensorDataset\n",
    "from sklearn.metrics import confusion_matrix\n",
    "from sklearn.metrics import classification_report\n",
    "import matplotlib.pyplot as plt\n",
    "import seaborn as sns"
   ]
  },
  {
   "cell_type": "code",
   "execution_count": 2,
   "id": "aea2818e",
   "metadata": {},
   "outputs": [
    {
     "data": {
      "text/plain": [
       "'/home/aritra/assignments/nlp_assignment_3'"
      ]
     },
     "execution_count": 2,
     "metadata": {},
     "output_type": "execute_result"
    }
   ],
   "source": [
    "pwd"
   ]
  },
  {
   "cell_type": "markdown",
   "id": "fdbd8a12",
   "metadata": {},
   "source": [
    "### Load the train data"
   ]
  },
  {
   "cell_type": "code",
   "execution_count": 3,
   "id": "a3d58142",
   "metadata": {},
   "outputs": [],
   "source": [
    "train_set = pd.read_csv('./NLP3/train.csv')"
   ]
  },
  {
   "cell_type": "code",
   "execution_count": 4,
   "id": "64156dda",
   "metadata": {},
   "outputs": [
    {
     "data": {
      "text/html": [
       "<div>\n",
       "<style scoped>\n",
       "    .dataframe tbody tr th:only-of-type {\n",
       "        vertical-align: middle;\n",
       "    }\n",
       "\n",
       "    .dataframe tbody tr th {\n",
       "        vertical-align: top;\n",
       "    }\n",
       "\n",
       "    .dataframe thead th {\n",
       "        text-align: right;\n",
       "    }\n",
       "</style>\n",
       "<table border=\"1\" class=\"dataframe\">\n",
       "  <thead>\n",
       "    <tr style=\"text-align: right;\">\n",
       "      <th></th>\n",
       "      <th>index</th>\n",
       "      <th>text</th>\n",
       "      <th>label</th>\n",
       "    </tr>\n",
       "  </thead>\n",
       "  <tbody>\n",
       "    <tr>\n",
       "      <th>0</th>\n",
       "      <td>0</td>\n",
       "      <td>Zimbabwe annual inflation drops to 209 percent...</td>\n",
       "      <td>0</td>\n",
       "    </tr>\n",
       "    <tr>\n",
       "      <th>1</th>\n",
       "      <td>1</td>\n",
       "      <td>More than 1,000 dead in Haiti (09/23/04)-- A m...</td>\n",
       "      <td>0</td>\n",
       "    </tr>\n",
       "    <tr>\n",
       "      <th>2</th>\n",
       "      <td>2</td>\n",
       "      <td>Seven die in Japan  #39;suicide pact #39; Japa...</td>\n",
       "      <td>0</td>\n",
       "    </tr>\n",
       "    <tr>\n",
       "      <th>3</th>\n",
       "      <td>3</td>\n",
       "      <td>Security No. 1 for Afghan head President Hamid...</td>\n",
       "      <td>0</td>\n",
       "    </tr>\n",
       "    <tr>\n",
       "      <th>4</th>\n",
       "      <td>4</td>\n",
       "      <td>Palestinians say they hope Bush accepts dealin...</td>\n",
       "      <td>0</td>\n",
       "    </tr>\n",
       "    <tr>\n",
       "      <th>5</th>\n",
       "      <td>5</td>\n",
       "      <td>France Seeks Return of Reporters in Iraq Amid ...</td>\n",
       "      <td>0</td>\n",
       "    </tr>\n",
       "    <tr>\n",
       "      <th>6</th>\n",
       "      <td>6</td>\n",
       "      <td>Ads Make Closing Arguments in Campaign (AP) AP...</td>\n",
       "      <td>0</td>\n",
       "    </tr>\n",
       "    <tr>\n",
       "      <th>7</th>\n",
       "      <td>7</td>\n",
       "      <td>Mourning for submariner spans an ocean HALIFAX...</td>\n",
       "      <td>0</td>\n",
       "    </tr>\n",
       "    <tr>\n",
       "      <th>8</th>\n",
       "      <td>8</td>\n",
       "      <td>Palestinian Girl Killed in Gaza Strip, Medics ...</td>\n",
       "      <td>0</td>\n",
       "    </tr>\n",
       "    <tr>\n",
       "      <th>9</th>\n",
       "      <td>9</td>\n",
       "      <td>US Marine killed in Iraq #39;s western Anbar p...</td>\n",
       "      <td>0</td>\n",
       "    </tr>\n",
       "  </tbody>\n",
       "</table>\n",
       "</div>"
      ],
      "text/plain": [
       "   index                                               text  label\n",
       "0      0  Zimbabwe annual inflation drops to 209 percent...      0\n",
       "1      1  More than 1,000 dead in Haiti (09/23/04)-- A m...      0\n",
       "2      2  Seven die in Japan  #39;suicide pact #39; Japa...      0\n",
       "3      3  Security No. 1 for Afghan head President Hamid...      0\n",
       "4      4  Palestinians say they hope Bush accepts dealin...      0\n",
       "5      5  France Seeks Return of Reporters in Iraq Amid ...      0\n",
       "6      6  Ads Make Closing Arguments in Campaign (AP) AP...      0\n",
       "7      7  Mourning for submariner spans an ocean HALIFAX...      0\n",
       "8      8  Palestinian Girl Killed in Gaza Strip, Medics ...      0\n",
       "9      9  US Marine killed in Iraq #39;s western Anbar p...      0"
      ]
     },
     "execution_count": 4,
     "metadata": {},
     "output_type": "execute_result"
    }
   ],
   "source": [
    "train_set.head(10)"
   ]
  },
  {
   "cell_type": "code",
   "execution_count": 5,
   "id": "b69c5f10",
   "metadata": {},
   "outputs": [
    {
     "name": "stdout",
     "output_type": "stream",
     "text": [
      "Train set contains total 2000 rows with [0 1 2 3] unique classes(labels)\n"
     ]
    }
   ],
   "source": [
    "print(f'Train set contains total {len(train_set)} rows with {train_set.label.unique()} unique classes(labels)')"
   ]
  },
  {
   "cell_type": "code",
   "execution_count": 6,
   "id": "ff3afc98",
   "metadata": {},
   "outputs": [],
   "source": [
    "y_train_raw = train_set['label']"
   ]
  },
  {
   "cell_type": "code",
   "execution_count": 7,
   "id": "b95cef1b",
   "metadata": {},
   "outputs": [],
   "source": [
    "# y_train_raw"
   ]
  },
  {
   "cell_type": "markdown",
   "id": "a603ae06",
   "metadata": {},
   "source": [
    "### Pre-Processing"
   ]
  },
  {
   "cell_type": "code",
   "execution_count": 8,
   "id": "98f67971",
   "metadata": {},
   "outputs": [],
   "source": [
    "def remove_symbols(text):\n",
    "    pattern = r'[^\\w\\s]'  \n",
    "    cleaned_text = re.sub(pattern, '', text)\n",
    "    return cleaned_text"
   ]
  },
  {
   "cell_type": "code",
   "execution_count": 9,
   "id": "fda6a3d6",
   "metadata": {},
   "outputs": [],
   "source": [
    "def remove_stopwords(text):\n",
    "    \n",
    "    stopwords_set = set(stopwords.words('english'))\n",
    "    text = text.split()\n",
    "    stopwords_removed_text = [word for word in text if word.lower() not in stopwords_set]\n",
    "    \n",
    "    return ' '.join(stopwords_removed_text)"
   ]
  },
  {
   "cell_type": "code",
   "execution_count": 10,
   "id": "ddabb169",
   "metadata": {},
   "outputs": [],
   "source": [
    "train_set['text'] = train_set['text'].apply(lambda x: x.lower()) \n",
    "train_set['text'] = train_set['text'].apply(remove_symbols) \n",
    "train_set['text'] = train_set['text'].apply(remove_stopwords) \n",
    "train_set['text'] = train_set['text'].apply(lambda x: x.replace('\\\\', ' '))\n",
    "train_set['text'] = train_set['text'].replace(r'\\b[a-zA-Z]*\\d+[a-zA-Z]*\\b', 'NUM', regex=True)"
   ]
  },
  {
   "cell_type": "code",
   "execution_count": 11,
   "id": "7b915906",
   "metadata": {},
   "outputs": [
    {
     "data": {
      "text/html": [
       "<div>\n",
       "<style scoped>\n",
       "    .dataframe tbody tr th:only-of-type {\n",
       "        vertical-align: middle;\n",
       "    }\n",
       "\n",
       "    .dataframe tbody tr th {\n",
       "        vertical-align: top;\n",
       "    }\n",
       "\n",
       "    .dataframe thead th {\n",
       "        text-align: right;\n",
       "    }\n",
       "</style>\n",
       "<table border=\"1\" class=\"dataframe\">\n",
       "  <thead>\n",
       "    <tr style=\"text-align: right;\">\n",
       "      <th></th>\n",
       "      <th>index</th>\n",
       "      <th>text</th>\n",
       "      <th>label</th>\n",
       "    </tr>\n",
       "  </thead>\n",
       "  <tbody>\n",
       "    <tr>\n",
       "      <th>0</th>\n",
       "      <td>0</td>\n",
       "      <td>zimbabwe annual inflation drops NUM percent re...</td>\n",
       "      <td>0</td>\n",
       "    </tr>\n",
       "    <tr>\n",
       "      <th>1</th>\n",
       "      <td>1</td>\n",
       "      <td>NUM dead haiti NUM mass grave haiti holds NUM ...</td>\n",
       "      <td>0</td>\n",
       "    </tr>\n",
       "    <tr>\n",
       "      <th>2</th>\n",
       "      <td>2</td>\n",
       "      <td>seven die japan NUM pact NUM japanese police f...</td>\n",
       "      <td>0</td>\n",
       "    </tr>\n",
       "    <tr>\n",
       "      <th>3</th>\n",
       "      <td>3</td>\n",
       "      <td>security NUM afghan head president hamid karza...</td>\n",
       "      <td>0</td>\n",
       "    </tr>\n",
       "    <tr>\n",
       "      <th>4</th>\n",
       "      <td>4</td>\n",
       "      <td>palestinians say hope bush accepts dealing ara...</td>\n",
       "      <td>0</td>\n",
       "    </tr>\n",
       "  </tbody>\n",
       "</table>\n",
       "</div>"
      ],
      "text/plain": [
       "   index                                               text  label\n",
       "0      0  zimbabwe annual inflation drops NUM percent re...      0\n",
       "1      1  NUM dead haiti NUM mass grave haiti holds NUM ...      0\n",
       "2      2  seven die japan NUM pact NUM japanese police f...      0\n",
       "3      3  security NUM afghan head president hamid karza...      0\n",
       "4      4  palestinians say hope bush accepts dealing ara...      0"
      ]
     },
     "execution_count": 11,
     "metadata": {},
     "output_type": "execute_result"
    }
   ],
   "source": [
    "train_set.head(5)"
   ]
  },
  {
   "cell_type": "code",
   "execution_count": null,
   "id": "97d9bab0",
   "metadata": {},
   "outputs": [],
   "source": []
  },
  {
   "cell_type": "markdown",
   "id": "2ce4d25b",
   "metadata": {},
   "source": [
    "### Load the Test Data"
   ]
  },
  {
   "cell_type": "code",
   "execution_count": 12,
   "id": "8bbddf03",
   "metadata": {},
   "outputs": [],
   "source": [
    "test_set = pd.read_csv('./NLP3/test.csv')"
   ]
  },
  {
   "cell_type": "code",
   "execution_count": 13,
   "id": "38f0c74b",
   "metadata": {},
   "outputs": [
    {
     "name": "stdout",
     "output_type": "stream",
     "text": [
      "Test set contains total 500 rows with [0 1 2 3] unique classes(labels)\n"
     ]
    }
   ],
   "source": [
    "print(f'Test set contains total {len(test_set)} rows with {test_set.label.unique()} unique classes(labels)')"
   ]
  },
  {
   "cell_type": "code",
   "execution_count": 14,
   "id": "c2442314",
   "metadata": {},
   "outputs": [],
   "source": [
    "y_test_raw = test_set['label']"
   ]
  },
  {
   "cell_type": "code",
   "execution_count": 15,
   "id": "40980d0d",
   "metadata": {},
   "outputs": [],
   "source": [
    "test_set['text'] = test_set['text'].apply(lambda x: x.lower()) \n",
    "test_set['text'] = test_set['text'].apply(remove_symbols) \n",
    "test_set['text'] = test_set['text'].apply(remove_stopwords) \n",
    "test_set['text'] = test_set['text'].apply(lambda x: x.replace('\\\\', ' ')) \n",
    "test_set['text'] = test_set['text'].replace(r'\\b[a-zA-Z]*\\d+[a-zA-Z]*\\b', 'NUM', regex=True)"
   ]
  },
  {
   "cell_type": "code",
   "execution_count": 16,
   "id": "3618fcb3",
   "metadata": {},
   "outputs": [
    {
     "data": {
      "text/html": [
       "<div>\n",
       "<style scoped>\n",
       "    .dataframe tbody tr th:only-of-type {\n",
       "        vertical-align: middle;\n",
       "    }\n",
       "\n",
       "    .dataframe tbody tr th {\n",
       "        vertical-align: top;\n",
       "    }\n",
       "\n",
       "    .dataframe thead th {\n",
       "        text-align: right;\n",
       "    }\n",
       "</style>\n",
       "<table border=\"1\" class=\"dataframe\">\n",
       "  <thead>\n",
       "    <tr style=\"text-align: right;\">\n",
       "      <th></th>\n",
       "      <th>index</th>\n",
       "      <th>text</th>\n",
       "      <th>label</th>\n",
       "    </tr>\n",
       "  </thead>\n",
       "  <tbody>\n",
       "    <tr>\n",
       "      <th>0</th>\n",
       "      <td>0</td>\n",
       "      <td>detainees seen minimal threat washington alleg...</td>\n",
       "      <td>0</td>\n",
       "    </tr>\n",
       "    <tr>\n",
       "      <th>1</th>\n",
       "      <td>1</td>\n",
       "      <td>japans army works plan cope north korean terro...</td>\n",
       "      <td>0</td>\n",
       "    </tr>\n",
       "    <tr>\n",
       "      <th>2</th>\n",
       "      <td>2</td>\n",
       "      <td>un council arrives nairobi un security council...</td>\n",
       "      <td>0</td>\n",
       "    </tr>\n",
       "    <tr>\n",
       "      <th>3</th>\n",
       "      <td>3</td>\n",
       "      <td>apec ministers urge new effort trade talks pac...</td>\n",
       "      <td>0</td>\n",
       "    </tr>\n",
       "    <tr>\n",
       "      <th>4</th>\n",
       "      <td>4</td>\n",
       "      <td>least five dead russia mine blast reuters reut...</td>\n",
       "      <td>0</td>\n",
       "    </tr>\n",
       "  </tbody>\n",
       "</table>\n",
       "</div>"
      ],
      "text/plain": [
       "   index                                               text  label\n",
       "0      0  detainees seen minimal threat washington alleg...      0\n",
       "1      1  japans army works plan cope north korean terro...      0\n",
       "2      2  un council arrives nairobi un security council...      0\n",
       "3      3  apec ministers urge new effort trade talks pac...      0\n",
       "4      4  least five dead russia mine blast reuters reut...      0"
      ]
     },
     "execution_count": 16,
     "metadata": {},
     "output_type": "execute_result"
    }
   ],
   "source": [
    "test_set.head()"
   ]
  },
  {
   "cell_type": "markdown",
   "id": "a965e09a",
   "metadata": {},
   "source": [
    "### Vocabulary Creation"
   ]
  },
  {
   "cell_type": "code",
   "execution_count": 17,
   "id": "e12d37f7",
   "metadata": {},
   "outputs": [],
   "source": [
    "def tokenize_sentence(sentence):\n",
    "    return word_tokenize(sentence)"
   ]
  },
  {
   "cell_type": "code",
   "execution_count": 18,
   "id": "aa48fc29",
   "metadata": {},
   "outputs": [
    {
     "data": {
      "text/plain": [
       "2500"
      ]
     },
     "execution_count": 18,
     "metadata": {},
     "output_type": "execute_result"
    }
   ],
   "source": [
    "sentences = train_set['text'].tolist() + test_set['text'].tolist()\n",
    "len(sentences)"
   ]
  },
  {
   "cell_type": "code",
   "execution_count": 19,
   "id": "e78fac35",
   "metadata": {},
   "outputs": [],
   "source": [
    "tokenized_sentences = [tokenize_sentence(sentence) for sentence in sentences]"
   ]
  },
  {
   "cell_type": "code",
   "execution_count": 20,
   "id": "e8e7d1cd",
   "metadata": {},
   "outputs": [],
   "source": [
    "# Build vocabulary\n",
    "\n",
    "vocabulary = set()\n",
    "for tokens in tokenized_sentences:\n",
    "    vocabulary.update(tokens)"
   ]
  },
  {
   "cell_type": "code",
   "execution_count": 21,
   "id": "a61c11f3",
   "metadata": {},
   "outputs": [],
   "source": [
    "# dictionary to maintain word to index mapping\n",
    "\n",
    "word_to_idx, idx = {}, 0\n",
    "\n",
    "for token in vocabulary:\n",
    "    if token not in word_to_idx:\n",
    "        word_to_idx[token] = idx\n",
    "        idx += 1"
   ]
  },
  {
   "cell_type": "code",
   "execution_count": 22,
   "id": "1de4f8c3",
   "metadata": {},
   "outputs": [],
   "source": [
    "idx_to_word = { value:key for key,value in word_to_idx.items()}"
   ]
  },
  {
   "cell_type": "code",
   "execution_count": 23,
   "id": "9249efdc",
   "metadata": {},
   "outputs": [],
   "source": [
    "indexed_data = [[word_to_idx[token] for token in tokens] for tokens in tokenized_sentences]"
   ]
  },
  {
   "cell_type": "code",
   "execution_count": 24,
   "id": "6a320b3b",
   "metadata": {},
   "outputs": [
    {
     "data": {
      "text/plain": [
       "97"
      ]
     },
     "execution_count": 24,
     "metadata": {},
     "output_type": "execute_result"
    }
   ],
   "source": [
    "# find the max length of the sentences for padding\n",
    "\n",
    "max_seq_len = max(len(seq) for seq in indexed_data)\n",
    "max_seq_len"
   ]
  },
  {
   "cell_type": "code",
   "execution_count": 25,
   "id": "d19cfadd",
   "metadata": {},
   "outputs": [],
   "source": [
    "padded_data = [seq + [0] * (max_seq_len - len(seq)) for seq in indexed_data]"
   ]
  },
  {
   "cell_type": "code",
   "execution_count": 26,
   "id": "6a8ca1ce",
   "metadata": {},
   "outputs": [
    {
     "name": "stdout",
     "output_type": "stream",
     "text": [
      "Length of the padded data train+test set is: 2500\n"
     ]
    }
   ],
   "source": [
    "# padded_sequence is array of all the sentences with length equal to the max_length(97) of all the sentences.\n",
    "\n",
    "print(f'Length of the padded data train+test set is: {len(padded_data)}')"
   ]
  },
  {
   "cell_type": "markdown",
   "id": "363eca01",
   "metadata": {},
   "source": [
    "###### Separating Train and Test Set"
   ]
  },
  {
   "cell_type": "code",
   "execution_count": 27,
   "id": "59f9a03d",
   "metadata": {},
   "outputs": [
    {
     "data": {
      "text/plain": [
       "2000"
      ]
     },
     "execution_count": 27,
     "metadata": {},
     "output_type": "execute_result"
    }
   ],
   "source": [
    "X_train = padded_data[:2000]\n",
    "len(X_train)"
   ]
  },
  {
   "cell_type": "code",
   "execution_count": 28,
   "id": "5e71e723",
   "metadata": {},
   "outputs": [
    {
     "data": {
      "text/plain": [
       "500"
      ]
     },
     "execution_count": 28,
     "metadata": {},
     "output_type": "execute_result"
    }
   ],
   "source": [
    "X_test = padded_data[2000:]\n",
    "len(X_test)"
   ]
  },
  {
   "cell_type": "code",
   "execution_count": 29,
   "id": "69861f99",
   "metadata": {},
   "outputs": [],
   "source": [
    "# Convert to Train set to PyTorch tensors\n",
    "\n",
    "X_train_tensor = torch.tensor(X_train, dtype=torch.long)\n",
    "Y_train_tensor = torch.tensor(y_train_raw, dtype=torch.long)"
   ]
  },
  {
   "cell_type": "code",
   "execution_count": 30,
   "id": "a2bbc142",
   "metadata": {},
   "outputs": [],
   "source": [
    "X_train, X_val, y_train, y_val = train_test_split(X_train_tensor, Y_train_tensor, test_size=0.15, random_state=42)"
   ]
  },
  {
   "cell_type": "code",
   "execution_count": 31,
   "id": "bdbaed51",
   "metadata": {},
   "outputs": [
    {
     "name": "stdout",
     "output_type": "stream",
     "text": [
      "torch.Size([1700, 97])\n",
      "torch.Size([1700])\n",
      "torch.Size([300, 97])\n",
      "torch.Size([300])\n"
     ]
    }
   ],
   "source": [
    "print(X_train.shape)\n",
    "print(y_train.shape)\n",
    "print(X_val.shape)\n",
    "print(y_val.shape)"
   ]
  },
  {
   "cell_type": "code",
   "execution_count": 32,
   "id": "665a98db",
   "metadata": {},
   "outputs": [],
   "source": [
    "# Convert to Test set to PyTorch tensors\n",
    "\n",
    "X_test_tensor = torch.tensor(X_test, dtype=torch.long)\n",
    "y_test_tensor = torch.tensor(y_test_raw, dtype=torch.long)"
   ]
  },
  {
   "cell_type": "markdown",
   "id": "31bc3234",
   "metadata": {},
   "source": [
    "#### Dataset and Dataloader Creation"
   ]
  },
  {
   "cell_type": "code",
   "execution_count": 33,
   "id": "e4d05469",
   "metadata": {},
   "outputs": [],
   "source": [
    "train_dataset = TensorDataset(X_train, y_train)\n",
    "train_loader = DataLoader(train_dataset, batch_size = 16, shuffle=True)"
   ]
  },
  {
   "cell_type": "code",
   "execution_count": 34,
   "id": "6a45f6f5",
   "metadata": {},
   "outputs": [],
   "source": [
    "val_dataset = TensorDataset(X_val, y_val)\n",
    "val_loader = DataLoader(val_dataset, batch_size = 16, shuffle = False)"
   ]
  },
  {
   "cell_type": "code",
   "execution_count": 35,
   "id": "3f3eaf2c",
   "metadata": {},
   "outputs": [],
   "source": [
    "test_dataset = TensorDataset(X_test_tensor, y_test_tensor)\n",
    "test_loader = DataLoader(test_dataset, batch_size = 2, shuffle = False)"
   ]
  },
  {
   "cell_type": "code",
   "execution_count": 36,
   "id": "058e441a",
   "metadata": {},
   "outputs": [],
   "source": [
    "def accuracy_fn(y_true, y_pred):\n",
    "    \n",
    "    correct = torch.eq(y_true, y_pred).sum().item()\n",
    "    accuracy = ( correct/len(y_pred) ) * 100\n",
    "    \n",
    "    return accuracy"
   ]
  },
  {
   "cell_type": "markdown",
   "id": "13859120",
   "metadata": {},
   "source": [
    "#### Define the Architecture"
   ]
  },
  {
   "cell_type": "code",
   "execution_count": 37,
   "id": "45d8ac29",
   "metadata": {},
   "outputs": [],
   "source": [
    "class vanillaLSTM(nn.Module):\n",
    "    \n",
    "    def __init__(self, vocab_size, embedding_size, hidden_size, output_nodes):\n",
    "        super(vanillaLSTM, self).__init__()\n",
    "        \n",
    "        self.embedding_layer = nn.Embedding(vocab_size, embedding_size)\n",
    "        self.lstm_layer = nn.LSTM(embedding_size, hidden_size, batch_first = True, num_layers = 2, bidirectional = True)\n",
    "        self.fc1 = nn.Linear(hidden_size * 2, output_nodes)\n",
    "        self.softmax = nn.Softmax( dim = 1 )\n",
    "\n",
    "    def forward(self, x):\n",
    "        \n",
    "        embedding = self.embedding_layer(x)\n",
    "        output, hidden_state = self.lstm_layer(embedding)\n",
    "        \n",
    "        # Average pooling along the sequence dimension\n",
    "        avg_pooled = torch.mean(output, dim=1)  \n",
    "        output = self.fc1(avg_pooled)\n",
    "        softMaxedOutput = self.softmax(output)\n",
    "\n",
    "        return softMaxedOutput"
   ]
  },
  {
   "cell_type": "code",
   "execution_count": 38,
   "id": "195f2db2",
   "metadata": {},
   "outputs": [],
   "source": [
    "# Total number of tokens we have\n",
    "vocab_size = len(word_to_idx)\n",
    "\n",
    "# Size of the embedding vector that will be created by the embedding layer\n",
    "embedding_size = 100\n",
    "\n",
    "# no. of nodes in the RNN Layer\n",
    "hidden_size = 128\n",
    "\n",
    "# Number of classes\n",
    "output_size = 4  "
   ]
  },
  {
   "cell_type": "code",
   "execution_count": 39,
   "id": "444597e7",
   "metadata": {},
   "outputs": [
    {
     "data": {
      "text/plain": [
       "'cuda'"
      ]
     },
     "execution_count": 39,
     "metadata": {},
     "output_type": "execute_result"
    }
   ],
   "source": [
    "device = 'cuda' if torch.cuda.is_available() else 'cpu'\n",
    "device"
   ]
  },
  {
   "cell_type": "code",
   "execution_count": 40,
   "id": "b8ddf611",
   "metadata": {},
   "outputs": [
    {
     "data": {
      "text/plain": [
       "vanillaLSTM(\n",
       "  (embedding_layer): Embedding(13628, 100)\n",
       "  (lstm_layer): LSTM(100, 128, num_layers=2, batch_first=True, bidirectional=True)\n",
       "  (fc1): Linear(in_features=256, out_features=4, bias=True)\n",
       "  (softmax): Softmax(dim=1)\n",
       ")"
      ]
     },
     "execution_count": 40,
     "metadata": {},
     "output_type": "execute_result"
    }
   ],
   "source": [
    "vanillaLSTM = vanillaLSTM(vocab_size, embedding_size, hidden_size, output_size).to(device)\n",
    "vanillaLSTM"
   ]
  },
  {
   "cell_type": "code",
   "execution_count": 41,
   "id": "a2234f0b",
   "metadata": {},
   "outputs": [],
   "source": [
    "# Define loss function and optimizer\n",
    "\n",
    "loss_fn = nn.CrossEntropyLoss()\n",
    "optimizer = optim.AdamW(vanillaLSTM.parameters(), lr=0.0009)"
   ]
  },
  {
   "cell_type": "markdown",
   "id": "19951f0f",
   "metadata": {},
   "source": [
    "##### Training Loop"
   ]
  },
  {
   "cell_type": "code",
   "execution_count": 42,
   "id": "7d01ed8b",
   "metadata": {},
   "outputs": [
    {
     "data": {
      "application/vnd.jupyter.widget-view+json": {
       "model_id": "195b6c76c0e44c239371b6a023406b3a",
       "version_major": 2,
       "version_minor": 0
      },
      "text/plain": [
       "  0%|          | 0/30 [00:00<?, ?it/s]"
      ]
     },
     "metadata": {},
     "output_type": "display_data"
    },
    {
     "name": "stdout",
     "output_type": "stream",
     "text": [
      "Epoch:1 | Train loss: 1.3870 | Val loss: 1.3786 | Val accuracy: 32.127\n",
      "Model State Saved\n",
      "\n",
      "Epoch:2 | Train loss: 1.2856 | Val loss: 1.2948 | Val accuracy: 42.763\n",
      "Model State Saved\n",
      "\n",
      "Epoch:3 | Train loss: 1.1597 | Val loss: 1.1997 | Val accuracy: 53.509\n",
      "Model State Saved\n",
      "\n",
      "Epoch:4 | Train loss: 1.1623 | Val loss: 1.3357 | Val accuracy: 39.035\n",
      "Epoch:5 | Train loss: 1.0673 | Val loss: 1.1793 | Val accuracy: 55.154\n",
      "Model State Saved\n",
      "\n",
      "Epoch:6 | Train loss: 0.9617 | Val loss: 1.1686 | Val accuracy: 56.689\n",
      "Model State Saved\n",
      "\n",
      "Epoch:7 | Train loss: 0.9556 | Val loss: 1.1487 | Val accuracy: 58.553\n",
      "Model State Saved\n",
      "\n",
      "Epoch:8 | Train loss: 0.9243 | Val loss: 1.1310 | Val accuracy: 59.430\n",
      "Model State Saved\n",
      "\n",
      "Epoch:9 | Train loss: 0.8880 | Val loss: 1.1243 | Val accuracy: 60.197\n",
      "Model State Saved\n",
      "\n",
      "Epoch:10 | Train loss: 0.8637 | Val loss: 1.0964 | Val accuracy: 63.487\n",
      "Model State Saved\n",
      "\n",
      "Epoch:11 | Train loss: 0.8403 | Val loss: 1.0956 | Val accuracy: 64.474\n",
      "Model State Saved\n",
      "\n",
      "Epoch:12 | Train loss: 0.8290 | Val loss: 1.0985 | Val accuracy: 63.706\n",
      "Epoch:13 | Train loss: 0.8365 | Val loss: 1.1279 | Val accuracy: 60.526\n",
      "Epoch:14 | Train loss: 0.8270 | Val loss: 1.0926 | Val accuracy: 63.596\n",
      "Epoch:15 | Train loss: 0.8447 | Val loss: 1.0881 | Val accuracy: 64.803\n",
      "Model State Saved\n",
      "\n",
      "Epoch:16 | Train loss: 0.8191 | Val loss: 1.0946 | Val accuracy: 64.912\n",
      "Model State Saved\n",
      "\n",
      "Epoch:17 | Train loss: 0.8069 | Val loss: 1.0829 | Val accuracy: 65.680\n",
      "Model State Saved\n",
      "\n",
      "Epoch:18 | Train loss: 0.8081 | Val loss: 1.0814 | Val accuracy: 65.899\n",
      "Model State Saved\n",
      "\n",
      "Epoch:19 | Train loss: 0.8138 | Val loss: 1.0888 | Val accuracy: 65.022\n",
      "Epoch:20 | Train loss: 0.8596 | Val loss: 1.0758 | Val accuracy: 65.570\n",
      "Epoch:21 | Train loss: 0.8206 | Val loss: 1.0713 | Val accuracy: 66.557\n",
      "Model State Saved\n",
      "\n",
      "Epoch:22 | Train loss: 0.8028 | Val loss: 1.0546 | Val accuracy: 69.518\n",
      "Model State Saved\n",
      "\n",
      "Epoch:23 | Train loss: 0.8170 | Val loss: 1.0973 | Val accuracy: 64.693\n",
      "Epoch:24 | Train loss: 0.8068 | Val loss: 1.0672 | Val accuracy: 67.215\n",
      "Epoch:25 | Train loss: 0.7960 | Val loss: 1.0674 | Val accuracy: 66.886\n",
      "Epoch:26 | Train loss: 0.7889 | Val loss: 1.0544 | Val accuracy: 69.189\n",
      "Epoch:27 | Train loss: 0.7876 | Val loss: 1.0576 | Val accuracy: 69.189\n",
      "Epoch:28 | Train loss: 0.7855 | Val loss: 1.0705 | Val accuracy: 66.557\n",
      "Epoch:29 | Train loss: 0.7863 | Val loss: 1.0689 | Val accuracy: 66.667\n",
      "Epoch:30 | Train loss: 0.7809 | Val loss: 1.0525 | Val accuracy: 69.298\n"
     ]
    }
   ],
   "source": [
    "num_epochs = 30\n",
    "performance_metrics = []\n",
    "best_val_accuracy = 0\n",
    "\n",
    "for epoch in tqdm(range(num_epochs)):\n",
    "    \n",
    "    vanillaLSTM.train()\n",
    "    train_loss = 0\n",
    "    \n",
    "    for batch_idx, (X, y) in enumerate(train_loader):\n",
    "        \n",
    "        X, y = X.to(device), y.to(device)\n",
    "        \n",
    "        y_pred = vanillaLSTM(X)\n",
    "                \n",
    "        # calculate batch accumulative loss\n",
    "        loss = loss_fn(y_pred, y)\n",
    "        train_loss += loss\n",
    "        \n",
    "        optimizer.zero_grad()\n",
    "        \n",
    "        loss.backward()\n",
    "        \n",
    "        optimizer.step()\n",
    "        \n",
    "    with torch.inference_mode():\n",
    "        \n",
    "        vanillaLSTM.eval()\n",
    "        val_loss, val_accuracy = 0,0\n",
    "        \n",
    "        for X_val, y_val in val_loader:\n",
    "            \n",
    "            X_val, y_val = X_val.to(device), y_val.to(device)\n",
    "            \n",
    "            y_val_pred = vanillaLSTM(X_val)\n",
    "            \n",
    "            loss = loss_fn(y_val_pred, y_val)\n",
    "            val_loss += loss\n",
    "            val_accuracy += accuracy_fn(y_val, y_val_pred.argmax(dim=1))\n",
    "        \n",
    "        # Calculate avg. loss & accuracy\n",
    "        \n",
    "        train_loss = train_loss / len(train_loader)\n",
    "        val_loss = val_loss / len(val_loader)\n",
    "        val_accuracy = val_accuracy / len(val_loader)\n",
    "        \n",
    "        print(f\"Epoch:{epoch+1} | Train loss: {train_loss:.4f} | Val loss: {val_loss:.4f} | Val accuracy: {val_accuracy:.3f}\")\n",
    "        performance_metrics.append(val_accuracy)\n",
    "\n",
    "        if val_accuracy > best_val_accuracy:\n",
    "            torch.save(vanillaLSTM.state_dict(), './best_LSTM_model.pt')\n",
    "            print('Model State Saved\\n')\n",
    "            best_val_accuracy = val_accuracy"
   ]
  },
  {
   "cell_type": "markdown",
   "id": "6faddc33",
   "metadata": {},
   "source": [
    "#### Records\n",
    "\n",
    "Best 28.36 % with AdamW = 0.005, hidden_size = 512\n",
    "\n",
    "Best 31.4 % with AdamW = 0.0009, hidden_size = 512"
   ]
  },
  {
   "cell_type": "markdown",
   "id": "c31839d4",
   "metadata": {},
   "source": [
    "### Evaluation on Test Set"
   ]
  },
  {
   "cell_type": "code",
   "execution_count": 43,
   "id": "f934e9d3",
   "metadata": {},
   "outputs": [
    {
     "data": {
      "application/vnd.jupyter.widget-view+json": {
       "model_id": "30807228fc7142078ca6885e0cdc779d",
       "version_major": 2,
       "version_minor": 0
      },
      "text/plain": [
       "  0%|          | 0/250 [00:00<?, ?it/s]"
      ]
     },
     "metadata": {},
     "output_type": "display_data"
    },
    {
     "name": "stdout",
     "output_type": "stream",
     "text": [
      "Test loss: 1.0415 | Test accuracy: 69.60\n"
     ]
    }
   ],
   "source": [
    "# Load the model state doctionary saved above.\n",
    "\n",
    "y_predicted_list, y_test_true = [],[]\n",
    "\n",
    "vanillaLSTM.load_state_dict(torch.load('./best_LSTM_model.pt'))\n",
    "\n",
    "with torch.inference_mode():\n",
    "    vanillaLSTM.eval()\n",
    "    test_loss, test_accuracy = 0,0\n",
    "\n",
    "    for X_test, y_test in tqdm(test_loader):\n",
    "\n",
    "        X_test, y_test = X_test.to(device), y_test.to(device)\n",
    "\n",
    "        y_test_pred = vanillaLSTM(X_test)\n",
    "        \n",
    "        y_predicted_list.append(y_test_pred.argmax(dim = 1))\n",
    "        y_test_true.append(y_test)\n",
    "\n",
    "        loss = loss_fn(y_test_pred, y_test)\n",
    "        test_loss += loss\n",
    "        test_accuracy += accuracy_fn(y_test, y_test_pred.argmax(dim=1))\n",
    "\n",
    "    # Calculate avg. loss & accuracy\n",
    "    test_loss = test_loss/len(test_loader)\n",
    "    test_accuracy = test_accuracy/len(test_loader)\n",
    "\n",
    "    print(f\"Test loss: {test_loss:.4f} | Test accuracy: {test_accuracy:.2f}\")"
   ]
  },
  {
   "cell_type": "markdown",
   "id": "d4a9dbcb",
   "metadata": {},
   "source": [
    "#### Test Accuracy of the Bi-LSTM Model"
   ]
  },
  {
   "cell_type": "code",
   "execution_count": 44,
   "id": "0aefbff7",
   "metadata": {},
   "outputs": [
    {
     "name": "stdout",
     "output_type": "stream",
     "text": [
      "Test Accuracy for the BERT Sequence Classifier model is: 69.60 %\n"
     ]
    }
   ],
   "source": [
    "print(f'Test Accuracy for the BERT Sequence Classifier model is: {test_accuracy:.2f} %')"
   ]
  },
  {
   "cell_type": "code",
   "execution_count": 45,
   "id": "2ddfd2b2",
   "metadata": {},
   "outputs": [],
   "source": [
    "# Convert the list of tensors to a single list of elements\n",
    "\n",
    "y_predicted_list = [item for tensor in y_predicted_list for item in tensor.tolist()]\n",
    "y_test_true = [item for tensor in y_test_true for item in tensor.tolist()]"
   ]
  },
  {
   "cell_type": "markdown",
   "id": "6d457962",
   "metadata": {},
   "source": [
    "#### F-1 Score"
   ]
  },
  {
   "cell_type": "code",
   "execution_count": 46,
   "id": "67841b13",
   "metadata": {},
   "outputs": [
    {
     "name": "stdout",
     "output_type": "stream",
     "text": [
      "F1 Score for the model is: 0.6953\n"
     ]
    }
   ],
   "source": [
    "f1 = f1_score(np.array(y_test_true), np.array(y_predicted_list), average='weighted')\n",
    "print(f'F1 Score for the model is: {f1:.4f}')"
   ]
  },
  {
   "cell_type": "markdown",
   "id": "ff41f994",
   "metadata": {},
   "source": [
    "#### Confusion Matrix"
   ]
  },
  {
   "cell_type": "code",
   "execution_count": 47,
   "id": "8501b60c",
   "metadata": {},
   "outputs": [
    {
     "data": {
      "image/png": "[encoded data removed]",
      "text/plain": [
       "<Figure size 700x400 with 1 Axes>"
      ]
     },
     "metadata": {},
     "output_type": "display_data"
    }
   ],
   "source": [
    "# Calculate confusion matrix\n",
    "cm = confusion_matrix(y_test_true, y_predicted_list)\n",
    "\n",
    "# Plot confusion matrix\n",
    "plt.figure(figsize=(7, 4))\n",
    "sns.heatmap(cm, annot=True, fmt='d', cmap='crest', cbar=False)\n",
    "plt.xlabel('Predicted Label')\n",
    "plt.ylabel('True Label')\n",
    "plt.title('Confusion Matrix')\n",
    "plt.show()"
   ]
  },
  {
   "cell_type": "code",
   "execution_count": null,
   "id": "1f0dd988",
   "metadata": {},
   "outputs": [],
   "source": []
  },
  {
   "cell_type": "code",
   "execution_count": null,
   "id": "2e7be054",
   "metadata": {},
   "outputs": [],
   "source": []
  }
 ],
 "metadata": {
  "kernelspec": {
   "display_name": "Python 3 (ipykernel)",
   "language": "python",
   "name": "python3"
  },
  "language_info": {
   "codemirror_mode": {
    "name": "ipython",
    "version": 3
   },
   "file_extension": ".py",
   "mimetype": "text/x-python",
   "name": "python",
   "nbconvert_exporter": "python",
   "pygments_lexer": "ipython3",
   "version": "3.8.17"
  }
 },
 "nbformat": 4,
 "nbformat_minor": 5
}
